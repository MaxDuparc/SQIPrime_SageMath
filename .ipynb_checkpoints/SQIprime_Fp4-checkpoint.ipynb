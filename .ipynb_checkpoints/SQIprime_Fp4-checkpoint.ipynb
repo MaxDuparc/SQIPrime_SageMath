{
 "cells": [
  {
   "cell_type": "code",
   "execution_count": 1,
   "id": "b6514aac-4f13-418f-8dbb-ecceea1b4d9c",
   "metadata": {},
   "outputs": [],
   "source": [
    "from sage.all import (\n",
    "    EllipticCurve,\n",
    "    randint,\n",
    "    ZZ,\n",
    "    discrete_log,\n",
    "    GF,\n",
    "    matrix,\n",
    "    block_matrix,\n",
    "    set_random_seed\n",
    ")\n",
    "from sage.modules.free_module_integer import IntegerLattice\n",
    "\n",
    "import quaternion as quat\n",
    "import endomorphism as End\n",
    "#import elliptic_curve as elc\n",
    "#import parameter_generate as param \n",
    "import random as rand\n",
    "import time\n",
    "import compression\n",
    "import sympy\n",
    "#import supersingular\n",
    "#import d2isogeny\n",
    "#import utilities_festa\n",
    "from SQIPrime import SQIPrime_Sigma\n",
    "from SQIPrime import SQIPrime"
   ]
  },
  {
   "cell_type": "code",
   "execution_count": 2,
   "id": "bab0b608-e21f-40b7-ac6e-f30df723a0d5",
   "metadata": {},
   "outputs": [],
   "source": [
    "from theta_structures.couple_point import CouplePoint\n",
    "#from theta_isogenies.product_isogeny import EllipticProductIsogeny\n",
    "from theta_isogenies.product_isogeny_sqrt import EllipticProductIsogenySqrt\n",
    "#from utilities.strategy import optimised_strategy\n",
    "from utilities.discrete_log import BiDLP_power_two\n",
    "#from utilities.discrete_log import BiDLP\n",
    "from utilities.fast_sqrt import sqrt_Fp4\n",
    "#from montgomery_isogenies.kummer_isogeny import KummerLineIsogeny_Velu\n",
    "#from montgomery_isogenies.kummer_line import KummerLine\n",
    "#from montgomery_isogenies.kummer_line import KummerPoint"
   ]
  },
  {
   "cell_type": "code",
   "execution_count": 3,
   "id": "1b631d41-a97d-4d2c-ab40-a52fd8fa47c3",
   "metadata": {},
   "outputs": [],
   "source": [
    "from Crypto.Hash import SHAKE256"
   ]
  },
  {
   "cell_type": "code",
   "execution_count": null,
   "id": "71f3dedb-042e-40d7-9cb2-8aa1c64d9d75",
   "metadata": {},
   "outputs": [],
   "source": []
  },
  {
   "cell_type": "code",
   "execution_count": 4,
   "id": "354eafc5-d5e3-4c1e-b550-9b8306a56d89",
   "metadata": {},
   "outputs": [],
   "source": [
    "def speed_up_sagemath():\n",
    "    \"\"\"\n",
    "    First we set proof.all(False) for general speed ups which\n",
    "    keeping everything correct (enough)\n",
    "    \n",
    "    Then, we apply a monkey patch to cache the vector_space which\n",
    "    helps with the performance of polynomial computations\n",
    "    \"\"\"\n",
    "    # Skips strong primality checks and other slow things\n",
    "    proof.all(False)\n",
    "    \n",
    "    # Cache vector spaces to improve performance\n",
    "    p = 2**127 - 1 # Arbitrary large prime\n",
    "    to_patch = [GF(3), GF(3**2), GF(p), GF(p**2)]\n",
    "    for x in to_patch:\n",
    "        type(x).vector_space = cached_method(type(x).vector_space)\n",
    "\n",
    "\n",
    "\n",
    "def print_info(str, banner=\"=\"):\n",
    "    \"\"\"\n",
    "    Print information with a banner to help\n",
    "    with visibility during debug printing\n",
    "    \"\"\"\n",
    "    print(banner * 80)\n",
    "    print(f\"{str}\".center(80))\n",
    "    print(banner * 80)\n"
   ]
  },
  {
   "cell_type": "code",
   "execution_count": 5,
   "id": "66a15cfd-ebd5-4502-9d69-77477cd604d3",
   "metadata": {},
   "outputs": [],
   "source": [
    "speed_up_sagemath()"
   ]
  },
  {
   "cell_type": "code",
   "execution_count": null,
   "id": "2ec2b593-7565-40ba-a388-337f86b02fbd",
   "metadata": {},
   "outputs": [],
   "source": []
  },
  {
   "cell_type": "code",
   "execution_count": null,
   "id": "0199290e-cc5e-4594-be2a-e437db72ba58",
   "metadata": {},
   "outputs": [],
   "source": []
  },
  {
   "cell_type": "markdown",
   "id": "e970d319-9a46-43c7-b08c-5532251018c1",
   "metadata": {},
   "source": [
    "# SQIPrime specific functions"
   ]
  },
  {
   "cell_type": "markdown",
   "id": "af5effa3-6798-4222-855f-a399d11af175",
   "metadata": {},
   "source": [
    "## Setup functions"
   ]
  },
  {
   "cell_type": "code",
   "execution_count": 6,
   "id": "40f39141-bd5b-491e-9d47-f6d58b683659",
   "metadata": {},
   "outputs": [],
   "source": [
    "# In Supersingular\n",
    "\n",
    "#Compute GF(p**4), its restriction GF(p**2) such that GF(p**2)=F_p[x]/(x**2+1) but without necessary root 1. \n",
    "def calcFields(p):\n",
    "    assert p % 4 == 3\n",
    "    R = PolynomialRing(GF(p), name=\"x\")\n",
    "    x = R.gens()[0]\n",
    "    Fp2 = GF(p**2, modulus=x**2+1, name=\"i\")\n",
    "    z = Fp2.random_element()\n",
    "    while z.is_square():\n",
    "        z = Fp2.random_element()\n",
    "    t = ZZ(z + z**p)\n",
    "    n = ZZ(z**(p+1))\n",
    "    print(t,n)\n",
    "    R = PolynomialRing(ZZ, name=\"x\")\n",
    "    x = R.gens()[0]\n",
    "    Fp4 = GF(p**4, modulus=x**4 - t*x**2 + n, name=\"z\")\n",
    "    Fp2 = Fp4.subfield(2)\n",
    "    i = Fp2(-1).sqrt(all = True)[0]\n",
    "    return Fp4, Fp2, i\n",
    "\n",
    "\n",
    "#Compute a random point in E(Fp**4)[l**e].\n",
    "def point_ord_4(E, l, e):\n",
    "    #assert is_prime(l)\n",
    "    p = E.base_ring().characteristic()\n",
    "    assert (p**2 - 1) % l**e == 0\n",
    "    \n",
    "    P = (p**2 - 1)//(l**e)*E.random_point()\n",
    "    while (l**(e-1)*P).is_zero():\n",
    "        P = (p**2 - 1)//(l**e)*E.random_point()\n",
    "    assert (l**e*P).is_zero()\n",
    "    if P[1][0] >= (p**2 - 1)//2 or (P[1][0] == 0 and P[1][1] >= (p**2 - 1)//2):   # even if the seed of random_point is fixed, the sign of point is random.\n",
    "        P = -P\n",
    "    return P\n",
    "\n",
    "#Compute a basis of E(Fp**4)[l**e].\n",
    "def basis_4(E, l, e):\n",
    "    P = point_ord_4(E, l, e)\n",
    "    Q = point_ord_4(E, l, e)\n",
    "    if l == 2:\n",
    "        while (l**(e-1))*(P-Q) == E(0):\n",
    "            Q = point_ord_4(E, l, e)\n",
    "    else:\n",
    "        while (l**(e-1)*P).weil_pairing(l**(e-1)*Q, l) == 1:\n",
    "            Q = point_ord_4(E, l, e)\n",
    "    return P, Q\n",
    "\n",
    "\n",
    "\n",
    "\n",
    "\n",
    "def sample_ran_element(E, Fp4, Fp2, zeta, twist):\n",
    "    w = Fp2.random_element()\n",
    "    w = Fp4([w[0],0,w[1],0])\n",
    "    A = E.a_invariants()[1]\n",
    "    yw = w**3 + A*w**2+w \n",
    "    t = sqrt_Fp4(yw, zeta)\n",
    "    if twist:\n",
    "        while t[1] == 0:\n",
    "            w = Fp2.random_element()\n",
    "            w = Fp4([w[0],0,w[1],0])\n",
    "            yw = w**3 + A*w**2+w \n",
    "            t = sqrt_Fp4(yw, zeta)\n",
    "        return E([w,t])\n",
    "    else:\n",
    "        while t[1] != 0:\n",
    "            w = Fp2.random_element()\n",
    "            w = Fp4([w[0],0,w[1],0])\n",
    "            yw = w**3 + A*w**2+w \n",
    "            t = sqrt_Fp4(yw, zeta)\n",
    "        return E([w,t])\n",
    "\n",
    "\n",
    "\n",
    "def Basis_comput(E,Fp4, Fp2, zeta, twist,l, e):\n",
    "    P = sample_ran_element(E, Fp4, Fp2, zeta, twist)\n",
    "    Q = sample_ran_element(E, Fp4, Fp2, zeta, twist)\n",
    "    if twist:\n",
    "        P = ((p-1)/(l**e))*P        \n",
    "        Q = ((p-1)/(l**e))*Q\n",
    "    else:\n",
    "        P = ((p+1)/(l**e))*P        \n",
    "        Q = ((p+1)/(l**e))*Q\n",
    "    if l == 2:\n",
    "        A = (l**(e-1))*P\n",
    "        while A == E(0):\n",
    "            P = sample_ran_element(E, Fp4, Fp2, zeta, twist)\n",
    "            P = ((p+1)/(l**e))*P\n",
    "            A = (l**(e-1))*P\n",
    "        B = (l**(e-1))*Q\n",
    "        while B == E(0) or A == B:\n",
    "            Q = sample_ran_element(E, Fp4, Fp2, zeta, twist)\n",
    "            Q = ((p+1)/(l**e))*Q\n",
    "            B = (l**(e-1))*Q\n",
    "    else:\n",
    "        while (l**(e-1)*P).weil_pairing(l**(e-1)*Q, l) == 1:\n",
    "            Q = sample_ran_element(E, Fp4, Fp2, zeta, twist)\n",
    "            if twist:\n",
    "                Q = ((p-1)/(l**e))*Q\n",
    "            else:\n",
    "                Q = ((p+1)/(l**e))*Q\n",
    "\n",
    "    return P, Q\n",
    "\n",
    "def two_order(E,P,e):\n",
    "    for i in range(e):\n",
    "        if P == E(0):\n",
    "            return i\n",
    "        P = 2*P\n",
    "    return e"
   ]
  },
  {
   "cell_type": "code",
   "execution_count": 7,
   "id": "ad507abc-ef52-4416-acec-025f98bcc209",
   "metadata": {},
   "outputs": [],
   "source": [
    "#Add to endomorphism\n",
    "\n",
    "def image_matrices(basis, N, zeta2, F2):\n",
    "    one = [1,0,0,0]\n",
    "    Ms = []\n",
    "    for alpha in [one[-i:]+one[:-i] for i in range(1, 4)]:\n",
    "        Ms.append(image_matrix(alpha, basis, N, zeta2, F2))\n",
    "    return Ms\n",
    "\n",
    "\n",
    "def image_matrix(alpha, basis, N, zeta2, F2):\n",
    "    P, Q = basis\n",
    "    aP, aQ = [End.action(alpha, R, zeta2, F2) for R in [P, Q]]\n",
    "    return (aP,aQ)\n",
    "\n",
    "\n",
    "def action_image(alpha, images_list, basis):\n",
    "    retP, retQ = alpha[0]*basis[0], alpha[0]*basis[1]\n",
    "    for i in range(1,4):\n",
    "        retP += alpha[i]* images_list[i-1][0]        \n",
    "        retQ += alpha[i]* images_list[i-1][1]\n",
    "    return (retP, retQ)\n",
    "\n",
    "\n"
   ]
  },
  {
   "cell_type": "code",
   "execution_count": 8,
   "id": "aa92738d-06c3-4d39-bfab-6de6cf2b1be1",
   "metadata": {},
   "outputs": [],
   "source": [
    "# Small functions \n",
    "\n",
    "def arity(n):\n",
    "    return (ZZ(int(n) & int(~(int(n - 1)))).nbits())-1\n"
   ]
  },
  {
   "cell_type": "code",
   "execution_count": 9,
   "id": "f5714608-4b7a-41f3-8cc8-3cd856cf6faf",
   "metadata": {},
   "outputs": [],
   "source": [
    "\n",
    "def FindPrecomputedBasis(E,basis, Qalgebra, Basis0, image_action, zeta, d):\n",
    "    assert E == EllipticCurve(Fp4, [0, Fp4(0), 0, 1, 0])\n",
    "    p = E.base_ring().characteristic()\n",
    "    P,Q = basis[0],basis[1]\n",
    "    Ideal_0 = Qalgebra.ideal(Basis0)\n",
    "    assert d*P == E(0) and d*Q == E(0)\n",
    "    c=1\n",
    "    while gcd(c,d) != 1 or c * d < p:\n",
    "        c = rand.randint(p>>64,p)\n",
    "    c *=  d\n",
    "    alpha = quat.FullRepresentInteger(c,p)\n",
    "    a, b = rand.randint(1, d), rand.randint(1, d)\n",
    "    R,S = E(0), E(0)\n",
    "    while R == E(0):\n",
    "        while( a % d == 0 or b % d == 0):\n",
    "            a, b = rand.randint(1, d), rand.randint(1, d)\n",
    "        vP = action_image(alpha,image_action, basis)\n",
    "        R = a*vP[0] + b*vP[1]\n",
    "    alpha_endo = Qalgebra(0)\n",
    "    for j in range(4):\n",
    "        alpha_endo += Basis0[j]*alpha[j]\n",
    "    Ideal_P = Ideal_0*(alpha_endo.conjugate())+ (Ideal_0*d)\n",
    "    \n",
    "    inter_image = image_matrices((R,S), d, zeta, Fp4)\n",
    "    n = rand.randint(p<<10, p<<32)\n",
    "    while gcd(n,d) != 1:\n",
    "        n = rand.randint(p<<10, p<<32)\n",
    "    iota = quat.FullRepresentInteger(n,p)\n",
    "    wP = action_image(iota, inter_image ,(R,S))\n",
    "    S = wP[0] \n",
    "    while R.weil_pairing(S, d) == 1:\n",
    "        while gcd(n,d)  != 1 or n*d<p:\n",
    "            n = rand.randint(4*p, p*d)\n",
    "        iota = quat.FullRepresentInteger(n,p)\n",
    "        wP = action_image(iota, inter_image, vP)\n",
    "        S  = wP[0] \n",
    "\n",
    "    return (R,S), iota, Ideal_P"
   ]
  },
  {
   "cell_type": "markdown",
   "id": "74a15e1c-114e-4d13-8f7b-8e0d8ca2dc11",
   "metadata": {},
   "source": [
    "## KeyGen Functions"
   ]
  },
  {
   "cell_type": "code",
   "execution_count": 10,
   "id": "81d56b3e-5300-44cc-9f39-aa3c7c1649f1",
   "metadata": {},
   "outputs": [],
   "source": [
    "def Kani_double_path(E0, p , q , e , zeta, basis, action_matrices, Quat_alg, Basis0):\n",
    "    P0,Q0= basis[0],basis[1]\n",
    "    \n",
    "    alpha = quat.FullRepresentInteger(q*(2**e-q),p)\n",
    "    vP = End.action_by_matrices(alpha, [1, 0], action_matrices)\n",
    "    alphaP = vP[0]*P0 + vP[1]*Q0\n",
    "    vQ = End.action_by_matrices(alpha, [0, 1], action_matrices)\n",
    "    alphaQ = vQ[0]*P0 + vQ[1]*Q0\n",
    "\n",
    "    P1 = ( - q)*P0\n",
    "    Q1 = ( - q)*Q0\n",
    "    P2 = alphaP\n",
    "    Q2 = alphaQ\n",
    "\n",
    "    Pa, Qa = CouplePoint(P1,P2), CouplePoint(Q1, Q2)\n",
    "    kernel = (Pa, Qa)\n",
    "    #Phi = EllipticProductIsogeny(kernel, n, optimised_strategy(n), zeta)\n",
    "    Phi = EllipticProductIsogenySqrt(kernel, e, None, zeta)\n",
    "\n",
    "    print(Phi.codomain())\n",
    "        \n",
    "    Ideal_0 = Quat_alg.ideal(Basis0)\n",
    "    alpha_endo = make_endo(Quat_alg, O0_basis, alpha)\n",
    "    I_tau=(Ideal_0*(alpha_endo)) + (Ideal_0)*(q)\n",
    "    I_rho=(Ideal_0*conjugate(alpha_endo)) + (Ideal_0)*(2**e-q)\n",
    "\n",
    "    return Phi, I_tau, I_rho\n",
    "\n",
    "\n",
    "def Extended_Kani_double_path(E0, p , q , e , basis, action_matrices, Quat_alg, Basis0):\n",
    "    P0,Q0= basis[0],basis[1]\n",
    "    P0_, Q0_ = 2**(e-q.nbits())*basis[0],2**(e-q.nbits())*basis[1]\n",
    "    \n",
    "    alpha = quat.FullRepresentInteger(q*(2**q.nbits()-q)*(2**e-q*(2**q.nbits()-q)),p)\n",
    "    vP = End.action_by_matrices(alpha, [1, 0], action_matrices)\n",
    "    alphaP = vP[0]*P0 + vP[1]*Q0\n",
    "    vQ = End.action_by_matrices(alpha, [0, 1], action_matrices)\n",
    "    alphaQ = vQ[0]*P0 + vQ[1]*Q0\n",
    "\n",
    "    P1 = (2**e-q*(2**q.nbits() - q))*P0\n",
    "    Q1 = (2**e-q*(2**q.nbits() - q))*Q0\n",
    "    P2 = alphaP\n",
    "    Q2 = alphaQ\n",
    "\n",
    "    Pa, Qa = CouplePoint(P1,P2), CouplePoint(Q1, Q2)\n",
    "    kernel = (Pa, Qa)\n",
    "    #Phi = EllipticProductIsogeny(kernel, n, optimised_strategy(n), zeta)\n",
    "    Phi1 = EllipticProductIsogenySqrt(kernel, e)\n",
    "\n",
    "    P2_, Q2_ = eval_basis_unsmooth(E0, E0, Phi1, q*(2**q.nbits() - q), (P0_,Q0_), 2**q.nbits(), position=True)\n",
    "\n",
    "    P1_ = (2**q.nbits() - q)*P0_\n",
    "    Q1_ = (2**q.nbits() - q)*Q0_\n",
    "\n",
    "    Pa, Qa = CouplePoint(P1_,P2_), CouplePoint(Q1_, Q2_)\n",
    "    kernel = (Pa, Qa)\n",
    "    #Phi = EllipticProductIsogeny(kernel, n, optimised_strategy(n), zeta)\n",
    "    Phi2 = EllipticProductIsogenySqrt(kernel, q.nbits())\n",
    "    \n",
    "    Ideal_0 = Quat_alg.ideal(Basis0)\n",
    "    alpha_endo = make_endo(Quat_alg, O0_basis, alpha)\n",
    "    I_tau=(Ideal_0*(alpha_endo)) + (Ideal_0)*(q)\n",
    "    I_rho=(Ideal_0*conjugate(alpha_endo)) + (Ideal_0)*((2**q.nbits()-q)*(2**e-q*(2**q.nbits()-q)))\n",
    "\n",
    "    return Phi1, Phi2, I_tau, I_rho\n",
    "\n",
    "\n",
    "def sample_random_matrix(F):\n",
    "    d = F.characteristic()\n",
    "    Mn=[]\n",
    "    for i in range(4):\n",
    "        Mn.append(F(rand.randint(1, d)))\n",
    "    M = Matrix([[Mn[0],Mn[1]],[Mn[2],Mn[3]]])\n",
    "    assert M.determinant()%d != 0\n",
    "    return M"
   ]
  },
  {
   "cell_type": "code",
   "execution_count": 11,
   "id": "6b1b99f9-f61b-4a33-99f5-8253d298d57f",
   "metadata": {},
   "outputs": [],
   "source": [
    "#Kani_double_path(E0, p , q , e , zeta, Basis_2, action_matrices_2, Quat_alg, O0_basis)"
   ]
  },
  {
   "cell_type": "code",
   "execution_count": 12,
   "id": "9c2a2235-15cb-4a16-a90b-8cfff4378652",
   "metadata": {},
   "outputs": [],
   "source": [
    "def eval_basis_unsmooth(E0, E1, Phi, N, Basis, b_order, position=True):\n",
    "    \"\"\"\n",
    "    Compute the image of a basis \"basis\" \n",
    "    \"\"\"\n",
    "    P = Basis[0]    \n",
    "    Q = Basis[1]\n",
    "    PQ = P+Q\n",
    "    Good_order = True\n",
    "    if position:\n",
    "        X = Phi(CouplePoint(P, E1(0)))\n",
    "        Y = Phi(CouplePoint(Q, E1(0)))\n",
    "        XY = Phi(CouplePoint(PQ, E1(0)))\n",
    "        if not (X[0] + Y[0] == XY[0] or X[0] + Y[0] == -XY[0]):\n",
    "            Y[0] = -Y[0]\n",
    "        Pd, Qd = X[0], Y[0]\n",
    "        if not Pd.weil_pairing(Qd, b_order) == P.weil_pairing(Q, b_order)**N:\n",
    "            Good_order = False\n",
    "            if not (X[1] + Y[1] == XY[1] or X[1] + Y[1] == -XY[1]):\n",
    "                Y[1] = -Y[1]\n",
    "            Pd, Qd = X[1], Y[1]\n",
    "        assert Pd.weil_pairing(Qd, b_order) == P.weil_pairing(Q, b_order)**N\n",
    "    if not position:\n",
    "        X = Phi(CouplePoint(E0(0),P))\n",
    "        Y = Phi(CouplePoint(E0(0),Q))\n",
    "        XY = Phi(CouplePoint(E0(0),PQ))\n",
    "        if not (X[0] + Y[0] == XY[0] or X[0] + Y[0] == -XY[0]):\n",
    "            Y[0] = -Y[0]\n",
    "        Pd, Qd = X[0], Y[0]\n",
    "        if not Pd.weil_pairing(Qd, b_order) == P.weil_pairing(Q, b_order)**N:\n",
    "            Good_order = False\n",
    "            if not (X[1] + Y[1] == XY[1] or X[1] + Y[1] == -XY[1]):\n",
    "                Y[1] = -Y[1]\n",
    "            Pd, Qd = X[1], Y[1]\n",
    "        assert Pd.weil_pairing(Qd, b_order) == P.weil_pairing(Q, b_order)**N\n",
    "\n",
    "    return Pd,Qd"
   ]
  },
  {
   "cell_type": "code",
   "execution_count": null,
   "id": "fa49a94d-1b2c-4f34-b978-84962bb4a84f",
   "metadata": {},
   "outputs": [],
   "source": []
  },
  {
   "cell_type": "code",
   "execution_count": 13,
   "id": "3e3c3bed-3e97-47d3-8332-e23eb51beef8",
   "metadata": {},
   "outputs": [],
   "source": [
    "def eval_basis_unsmooth_SpecialDomain_old(E0, P1 ,Q1 , P2, Q2, N, Basis, basis_order ,zeta, position):    \n",
    "    Rs  = []\n",
    "    Res = []\n",
    "    for i in range(len(Basis)):\n",
    "        P = Basis[i][0]    \n",
    "        Q = Basis[i][1]\n",
    "        PQ = P+Q\n",
    "        if position[i]:\n",
    "            Rs.append((P , E0(0)))\n",
    "            Rs.append((Q , E0(0)))\n",
    "            Rs.append((PQ , E0(0))) \n",
    "        else:\n",
    "            Rs.append((E0(0) , P))\n",
    "            Rs.append((E0(0) , Q))\n",
    "            Rs.append((E0(0) , PQ)) \n",
    "            \n",
    "    Xs = d2isogeny.D2IsogenyImage(E0, E0, P1, Q1, P2, Q2, e, Rs, None, zeta)\n",
    "    for i in range(0,int(len(Xs)/3)):\n",
    "         X = Xs[3*i]\n",
    "         Y = Xs[3*i+1]\n",
    "         XY = Xs[3*i+2]\n",
    "         if not (X[0] + Y[0] == XY[0] or X[0] + Y[0] == -XY[0]):\n",
    "             Y[0] = -Y[0]\n",
    "         Pd, Qd = X[0], Y[0]\n",
    "         if not Pd.weil_pairing(Qd, basis_order[i]) == Basis[i][0].weil_pairing(Basis[i][1], basis_order[i])**N[i]:\n",
    "            if not (X[1] + Y[1] == XY[1] or X[1] + Y[1] == -XY[1]):\n",
    "                Y[1] = -Y[1]\n",
    "            Pd, Qd = X[1], Y[1]\n",
    "            assert Pd.weil_pairing(Qd, basis_order[i]) == Basis[i][0].weil_pairing(Basis[i][1], basis_order[i])**N[i]\n",
    "         Res.append((Pd,Qd))\n",
    "    return Res\n"
   ]
  },
  {
   "cell_type": "code",
   "execution_count": null,
   "id": "42284360-7974-493e-9788-193303f0ced2",
   "metadata": {},
   "outputs": [],
   "source": []
  },
  {
   "cell_type": "code",
   "execution_count": 14,
   "id": "a9cd6503-7871-464c-93db-b2dd2a1a5f19",
   "metadata": {},
   "outputs": [],
   "source": [
    "#Dim 2\n",
    "\n",
    "def eval_basis_unsmooth(E0, E1, Phi, N, Basis, b_order, position=True):\n",
    "    \"\"\"\n",
    "    Compute the image of a basis \"basis\" \n",
    "    \"\"\"\n",
    "    P = Basis[0]    \n",
    "    Q = Basis[1]\n",
    "    PQ = P+Q\n",
    "    Good_order = True\n",
    "    if position:\n",
    "        X = Phi(CouplePoint(P, E1(0)))\n",
    "        Y = Phi(CouplePoint(Q, E1(0)))\n",
    "        XY = Phi(CouplePoint(PQ, E1(0)))\n",
    "        if not (X[0] + Y[0] == XY[0] or X[0] + Y[0] == -XY[0]):\n",
    "            Y[0] = -Y[0]\n",
    "        Pd, Qd = X[0], Y[0]\n",
    "        if not Pd.weil_pairing(Qd, b_order) == P.weil_pairing(Q, b_order)**N:\n",
    "            Good_order = False\n",
    "            if not (X[1] + Y[1] == XY[1] or X[1] + Y[1] == -XY[1]):\n",
    "                Y[1] = -Y[1]\n",
    "            Pd, Qd = X[1], Y[1]\n",
    "        assert Pd.weil_pairing(Qd, b_order) == P.weil_pairing(Q, b_order)**N\n",
    "    if not position:\n",
    "        X = Phi(CouplePoint(E0(0),P))\n",
    "        Y = Phi(CouplePoint(E0(0),Q))\n",
    "        XY = Phi(CouplePoint(E0(0),PQ))\n",
    "        if not (X[0] + Y[0] == XY[0] or X[0] + Y[0] == -XY[0]):\n",
    "            Y[0] = -Y[0]\n",
    "        Pd, Qd = X[0], Y[0]\n",
    "        if not Pd.weil_pairing(Qd, b_order) == P.weil_pairing(Q, b_order)**N:\n",
    "            Good_order = False\n",
    "            if not (X[1] + Y[1] == XY[1] or X[1] + Y[1] == -XY[1]):\n",
    "                Y[1] = -Y[1]\n",
    "            Pd, Qd = X[1], Y[1]\n",
    "        assert Pd.weil_pairing(Qd, b_order) == P.weil_pairing(Q, b_order)**N\n",
    "\n",
    "    return Pd,Qd\n",
    "\n",
    "\n",
    "def compute_endo(E0, p , q , e , basis, action_matrices):\n",
    "    P0,Q0= basis[0],basis[1]\n",
    "\n",
    "    #Sample the Endomorphisms\n",
    "    alpha = quat.FullRepresentInteger(q*(2**e-q),p)\n",
    "    vP = End.action_by_matrices(alpha, [1, 0], action_matrices)\n",
    "    vP = (vP[0] % 2**e, vP[1] % 2**e)\n",
    "    alphaP = vP[0]*P0 + vP[1]*Q0\n",
    "    vQ = End.action_by_matrices(alpha, [0, 1], action_matrices)\n",
    "    vQ = (vQ[0] % 2**e, vQ[1] % 2**e)\n",
    "\n",
    "    alphaQ = vQ[0]*P0 + vQ[1]*Q0\n",
    "\n",
    "    #Sample the Endomorphisms\n",
    "    P1 = (2**e - q)*P0\n",
    "    Q1 = (2**e - q)*Q0\n",
    "    P2 = alphaP\n",
    "    Q2 = alphaQ\n",
    "\n",
    "    return P1, Q1, P2,Q2, alpha  \n",
    "\n",
    "\n",
    "\n",
    "def Special_isogeny_1(E0, P1, Q1, P2, Q2, e, Rs):\n",
    "    P1, P2 = P1 - P2, P1 + P2\n",
    "    Q1, Q2 = Q1 - Q2, Q1 + Q2\n",
    "    e = e-1\n",
    "    for i in range(len(Rs)):\n",
    "        Rs[i] = (Rs[i][0]-Rs[i][1],Rs[i][0] + Rs[i][1])\n",
    "    return P1, Q1, P2, Q2, e, Rs\n",
    "        \n",
    "def iota_auto(R,E0, zeta):\n",
    "    return E0([-R[0], zeta*R[1], R[2]])\n",
    "\n",
    "def Special_isogeny_2(E0, P1, Q1, P2, Q2, e, zeta,  Rs):\n",
    "        P1, P2 = (P1 + iota_auto(P2, E0, zeta)), (iota_auto(P1, E0, zeta) + P2)\n",
    "        Q1, Q2 = (Q1 + iota_auto(Q2, E0, zeta)), (iota_auto(Q1, E0, zeta) + Q2)\n",
    "        e = e-1\n",
    "        for i in range(len(Rs)):\n",
    "            Rs[i] = (Rs[i][0] + iota_auto(Rs[i][1], E0, zeta), iota_auto(Rs[i][0],E0 ,zeta) + Rs[i][1])\n",
    "        return P1, Q1, P2, Q2, e, Rs\n",
    "\n",
    "\n",
    "\n",
    "def eval_basis_unsmooth_SpecialDomain(E0, P1 ,Q1 , P2, Q2, e, N, Basis, basis_order ,zeta, position):    \n",
    "    Rs  = []\n",
    "    Res = []\n",
    "    E1 = E0\n",
    "    E2 = E0\n",
    "    for i in range(len(Basis)):\n",
    "        P = Basis[i][0]    \n",
    "        Q = Basis[i][1]\n",
    "        PQ = P+Q\n",
    "        if position[i]:\n",
    "            Rs.append((P , E0(0)))\n",
    "            Rs.append((Q , E0(0)))\n",
    "            Rs.append((PQ , E0(0))) \n",
    "        else:\n",
    "            Rs.append((E0(0) , P))\n",
    "            Rs.append((E0(0) , Q))\n",
    "            Rs.append((E0(0) , PQ)) \n",
    "\n",
    "\n",
    "    #Check bad cases in E0xE0\n",
    "    while e >=0 :\n",
    "        \n",
    "        T1 = 2**(e-1)*P1\n",
    "        T2 = 2**(e-1)*P2\n",
    "        S1 = 2**(e-1)*Q1\n",
    "        S2 = 2**(e-1)*Q2\n",
    "\n",
    "        if (T1.is_zero() or T2.is_zero() or S1.is_zero() or S2.is_zero()):\n",
    "            #print(\"Special Case n1\",t)\n",
    "\n",
    "            \n",
    "            if T1.is_zero():\n",
    "                T1, S1 = S1, T1\n",
    "                T2, S2 = S2, T2\n",
    "            assert not T1.is_zero()\n",
    "            if not S1.is_zero():\n",
    "                assert S1 == T1\n",
    "                S2 -= T2\n",
    "            assert T2.is_zero() or T2 == S2\n",
    "            phi1 = E1.isogeny(T1)\n",
    "            phi2 = E2.isogeny(S2)\n",
    "            e = e-1\n",
    "            P1, Q1 = phi1(P1), phi1(Q1)\n",
    "            P2, Q2 = phi2(P2), phi2(Q2)\n",
    "            E1 = P1.curve()\n",
    "            E2 = P2.curve()\n",
    "            for i in range(len(Rs)):\n",
    "                Rs[i] = (phi1(Rs[i][0]),phi2(Rs[i][1]))\n",
    "        else:\n",
    "            if P1.curve() == P2.curve() == E0:\n",
    "                if S1[0] == 0:\n",
    "                    T1, S1 = S1, T1\n",
    "                    T2, S2 = S2, T2\n",
    "                elif not T1[0] == 0:\n",
    "                    T1 += S1\n",
    "                    T2 += S2\n",
    "                assert T1[0] == 0\n",
    "                \n",
    "                if T2[0] == 0:\n",
    "                    if S1 == S2:\n",
    "                        #print(\"Special Case n1\",t)\n",
    "                        P1, Q1, P2, Q2, e, Rs = Special_isogeny_1(E0, P1, Q1, P2, Q2, e, Rs)\n",
    "                            \n",
    "            \n",
    "                    else:\n",
    "                        #print(\"Special Case n2\",t)\n",
    "                        P1, Q1, P2, Q2, e, Rs = Special_isogeny_2(E0, P1, Q1, P2, Q2, e, zeta,  Rs)\n",
    "                            \n",
    "                else:\n",
    "                    #print(\"OUT\",t)\n",
    "                    break\n",
    "            else:\n",
    "                    #print(\"OUT\",t)\n",
    "                    break\n",
    "\n",
    "    \n",
    "    Pa, Qa = CouplePoint(P1,P2), CouplePoint(Q1, Q2)\n",
    "    kernel = (Pa, Qa)\n",
    "    Phi = EllipticProductIsogenySqrt(kernel, e, None, zeta)\n",
    "    Xs = [Phi(CouplePoint(R[0],R[1])) for R in Rs]\n",
    "    \n",
    "    for i in range(0,int(len(Xs)/3)):\n",
    "         X = Xs[3*i]\n",
    "         Y = Xs[3*i+1]\n",
    "         XY = Xs[3*i+2]\n",
    "         if not (X[0] + Y[0] == XY[0] or X[0] + Y[0] == -XY[0]):\n",
    "             Y[0] = -Y[0]\n",
    "         Pd, Qd = X[0], Y[0]\n",
    "         if not Pd.weil_pairing(Qd, basis_order[i]) == Basis[i][0].weil_pairing(Basis[i][1], basis_order[i])**N[i]:\n",
    "            if not (X[1] + Y[1] == XY[1] or X[1] + Y[1] == -XY[1]):\n",
    "                Y[1] = -Y[1]\n",
    "            Pd, Qd = X[1], Y[1]\n",
    "            assert Pd.weil_pairing(Qd, basis_order[i]) == Basis[i][0].weil_pairing(Basis[i][1], basis_order[i])**N[i]\n",
    "         Res.append((Pd,Qd))\n",
    "    return Res\n"
   ]
  },
  {
   "cell_type": "code",
   "execution_count": null,
   "id": "61498bf8-8cb3-4294-94a1-ee32b75f7cb5",
   "metadata": {},
   "outputs": [],
   "source": []
  },
  {
   "cell_type": "code",
   "execution_count": 15,
   "id": "222316d8-68bb-4a7b-ba75-4c82bc1e580e",
   "metadata": {},
   "outputs": [],
   "source": [
    "#t0 = time.perf_counter_ns()\n",
    "#t=5\n",
    "#for ti in range(t):\n",
    "#    P1, Q1, P2,Q2, alpha  = compute_endo(E0, p , q , e , Basis_2, action_matrices_2)\n",
    "#    Res = eval_basis_unsmooth_SpecialDomain(E0, P1 ,Q1 , P2, Q2,e, [q,q], [Basis_2,Basis_q], [2**e, q] ,zeta, [True,True])\n",
    "#t1 = time.perf_counter_ns()\n",
    "\n",
    "#print(\"SQIPrime Response algorithm took on average \",float(t1-t0)/10**6/t, \"ms.\" )\n"
   ]
  },
  {
   "cell_type": "code",
   "execution_count": null,
   "id": "cf2766b4-081c-49a0-9774-5da466dfdbfd",
   "metadata": {},
   "outputs": [],
   "source": []
  },
  {
   "cell_type": "markdown",
   "id": "7f667eb5-4941-4d4b-82d8-6d5ea360033a",
   "metadata": {},
   "source": [
    "## Compress Class"
   ]
  },
  {
   "cell_type": "code",
   "execution_count": 16,
   "id": "90f7bc47-bfff-4e10-94b6-ef1b725c0a30",
   "metadata": {},
   "outputs": [],
   "source": [
    "\n",
    "def integer_to_bytes(n, byte_len=None):\n",
    "    \"\"\"\n",
    "    Represent an integer n as bytes in big-endian\n",
    "    \"\"\"\n",
    "    n = int(n)\n",
    "    if byte_len is None:\n",
    "        byte_len = (n.bit_length() + 7) // 8\n",
    "    return n.to_bytes(byte_len, 'big')\n",
    "\n",
    "def bytes_to_integer(b):\n",
    "    \"\"\"\n",
    "    Represent bytes as an integer in big-endian\n",
    "    \"\"\"\n",
    "    return ZZ(int.from_bytes(b, 'big'))\n",
    "\n",
    "def compress_curve(E,p_byte_len ):\n",
    "    A = E.a_invariants()[1]\n",
    "    return integer_to_bytes(A[0], p_byte_len)+ integer_to_bytes(A[2], p_byte_len)\n",
    "\n",
    "def decompress_curve(Fp4,R,p_byte_len):\n",
    "    a_bytes = R[:p_byte_len]\n",
    "    b_bytes = R[p_byte_len:]\n",
    "    a_int = bytes_to_integer(a_bytes)\n",
    "    b_int = bytes_to_integer(b_bytes)\n",
    "    A = Fp4([a_int,0, b_int,0])\n",
    "    return EllipticCurve(Fp4, [0, A, 0, 1, 0])\n",
    "\n",
    "\n",
    "def compress_points(E, Ps, p_byte_len):\n",
    "    A = E.a_invariants()[1]\n",
    "    Rs=[]\n",
    "    for P in Ps:\n",
    "        w = P.x()\n",
    "        bool = sqrt_Fp4(w**3+A*w**2+w, zeta) == P.y()        \n",
    "        Rs.append((integer_to_bytes(w[0], p_byte_len)+ integer_to_bytes(w[2], p_byte_len), bool))\n",
    "    return R.tuple()\n",
    "\n",
    "def decompress_points(E, Fp4,Rs,p_byte_len):\n",
    "    A = E.a_invariants()[1]\n",
    "    Ps=[]\n",
    "    for R in Rs:\n",
    "        a_bytes = R[0][:p_byte_len]\n",
    "        b_bytes = R[0][p_byte_len:]\n",
    "        a_int = bytes_to_integer(a_bytes)\n",
    "        b_int = bytes_to_integer(b_bytes)\n",
    "        X = Fp4([a_int,0, b_int,0])\n",
    "        Y= sqrt_Fp4(X**3+A*X**2+X, zeta)\n",
    "        if not R[1]:\n",
    "            Y = -Y\n",
    "        Ps.append(E([X,Y]))\n",
    "    return Ps \n",
    "\n",
    "def Hash(Byte_length, m):\n",
    "    shake = SHAKE256.new(m)\n",
    "    return shake.read(Byte_length)\n"
   ]
  },
  {
   "cell_type": "markdown",
   "id": "328a69ef-b595-433b-b17a-232985cd485d",
   "metadata": {},
   "source": [
    "## Signature functions"
   ]
  },
  {
   "cell_type": "code",
   "execution_count": 17,
   "id": "a6fa96e5-7c08-41c3-b3ae-e1c76e4e6c89",
   "metadata": {},
   "outputs": [],
   "source": [
    "#Stolen from realease 10.4.\n",
    "# Add to ideal class\n",
    "\n",
    "def chi(a, I):\n",
    "    r\"\"\"\n",
    "    From section 3.2 in Antonin's thesis.\n",
    "    Calculates the equivalent ideal of I, of norm(a)\n",
    "    Based on the surjection from I \\ {0} to the set of equivalent ideals of I\n",
    "    Obtained by a → I * (a_bar / n(I))\n",
    "    \"\"\"\n",
    "    return I * (a.conjugate() / I.norm())\n",
    "\n",
    "\n",
    "def make_endo(Quat_alg, Basis0, alpha):\n",
    "    assert len(alpha) == 4\n",
    "    alpha_endo = Quat_alg(0)\n",
    "    for j in range(4):\n",
    "        alpha_endo += Basis0[j]*alpha[j]\n",
    "    return alpha_endo\n",
    "\n",
    "\n",
    "def component_endo(gamma):\n",
    "    return [gamma[0]-gamma[3], gamma[1]-gamma[2],2*gamma[2],2*gamma[3]]\n",
    "\n",
    "\n",
    "def endo_reduction(gamma, q):\n",
    "    return [gamma[i]%q for i in range(len(gamma))]\n"
   ]
  },
  {
   "cell_type": "markdown",
   "id": "4f7505b9-1b46-4741-a552-24c94c1392ea",
   "metadata": {},
   "source": [
    "# Setup"
   ]
  },
  {
   "cell_type": "code",
   "execution_count": null,
   "id": "e79275dc-dbce-45e4-83f3-84f8dd0428ca",
   "metadata": {},
   "outputs": [],
   "source": []
  },
  {
   "cell_type": "code",
   "execution_count": null,
   "id": "d3033389-48f1-4bbd-9a6d-6414c8b3edc6",
   "metadata": {},
   "outputs": [],
   "source": []
  },
  {
   "cell_type": "code",
   "execution_count": null,
   "id": "0a185300-d241-416e-adb2-73d1c3518668",
   "metadata": {},
   "outputs": [],
   "source": []
  },
  {
   "cell_type": "code",
   "execution_count": null,
   "id": "9f0a6e50-1bc2-4473-880c-1f2c5af129e1",
   "metadata": {},
   "outputs": [],
   "source": []
  },
  {
   "cell_type": "code",
   "execution_count": null,
   "id": "a74236c5-ed19-472b-bd9d-8bb7297caf1e",
   "metadata": {},
   "outputs": [],
   "source": []
  },
  {
   "cell_type": "code",
   "execution_count": null,
   "id": "9396e953-1b34-4591-bfa2-e4f047d75b87",
   "metadata": {},
   "outputs": [],
   "source": []
  },
  {
   "cell_type": "code",
   "execution_count": null,
   "id": "e78e7f84-0942-4416-b10b-427939cc60db",
   "metadata": {},
   "outputs": [],
   "source": []
  },
  {
   "cell_type": "code",
   "execution_count": null,
   "id": "6f92f1d8-dc9c-4e03-b580-f88b13fec274",
   "metadata": {},
   "outputs": [],
   "source": []
  },
  {
   "cell_type": "code",
   "execution_count": null,
   "id": "a1d92974-7f4d-4f84-9c27-2445970d0566",
   "metadata": {},
   "outputs": [],
   "source": []
  },
  {
   "cell_type": "code",
   "execution_count": null,
   "id": "6c6408dd-8100-4fb2-9a6c-9e9942f0543a",
   "metadata": {},
   "outputs": [],
   "source": []
  },
  {
   "cell_type": "code",
   "execution_count": null,
   "id": "ee629a92-4ff0-42e7-a2c0-a324f9d5c59e",
   "metadata": {},
   "outputs": [],
   "source": []
  },
  {
   "cell_type": "code",
   "execution_count": null,
   "id": "8bcf2f90-99ca-4fca-99a2-95fd9046b92f",
   "metadata": {},
   "outputs": [],
   "source": []
  },
  {
   "cell_type": "code",
   "execution_count": 18,
   "id": "03e3af6d-6bfa-42fa-ab85-1d2b295c7e87",
   "metadata": {},
   "outputs": [],
   "source": [
    "p117 = 2**247 * 79 - 1\n",
    "q117 = 168118140144706967996895604212334429\n",
    "e117 = 247\n",
    "window117 = [14]\n",
    "\n",
    "\n",
    "p130 = 2**273 * 19**2 - 1\n",
    "q130= 1733124013302036320718171822563477047667\n",
    "e130 = 273\n",
    "window130 = [15]\n",
    "\n",
    "p186 = 2**397 * 3**2 * 7**2 * 11**2 -1\n",
    "q186 = 139608035310883914672048824597166248641399835557000865381\n",
    "e186 = 397\n",
    "window186 = [17]\n",
    "\n",
    "p240 = 2**499 * 3**2 * 7**2 -1 \n",
    "q240 = 2464280664223269984651655821505754297856674907148353228398431687157640139\n",
    "e240 = 499\n",
    "window240 = [24]\n"
   ]
  },
  {
   "cell_type": "code",
   "execution_count": 23,
   "id": "479b3f25-26c6-4bf7-9842-bcf7963cbcbe",
   "metadata": {},
   "outputs": [],
   "source": [
    "sqiprime117 = SQIPrime(p130, q130, e130, window130)"
   ]
  },
  {
   "cell_type": "code",
   "execution_count": 26,
   "id": "d5320959-2da4-45ae-b5ac-0c8d87adf973",
   "metadata": {},
   "outputs": [],
   "source": [
    "pk, sk = sqiprime117.KeyGen()\n"
   ]
  },
  {
   "cell_type": "code",
   "execution_count": 27,
   "id": "ea5efb59-cbcd-4821-a4f7-2e86f8f092ab",
   "metadata": {},
   "outputs": [
    {
     "name": "stdout",
     "output_type": "stream",
     "text": [
      "True\n",
      "True\n",
      "True\n",
      "True\n",
      "True\n",
      "True\n",
      "True\n",
      "True\n",
      "True\n",
      "True\n"
     ]
    }
   ],
   "source": [
    "for i in range(10):\n",
    "    mes = integer_to_bytes(i)\n",
    "    pk, sk = sqiprime117.KeyGen()\n",
    "    sign = sqiprime117.Sign(sk, pk, mes)\n",
    "    print(sqiprime117.Verif(pk, mes, sign))"
   ]
  },
  {
   "cell_type": "code",
   "execution_count": 28,
   "id": "3c480a6a-7eab-475c-8e3b-1795d67c2705",
   "metadata": {},
   "outputs": [
    {
     "ename": "NameError",
     "evalue": "name 'com' is not defined",
     "output_type": "error",
     "traceback": [
      "\u001b[0;31m---------------------------------------------------------------------------\u001b[0m",
      "\u001b[0;31mNameError\u001b[0m                                 Traceback (most recent call last)",
      "Cell \u001b[0;32mIn[28], line 2\u001b[0m\n\u001b[1;32m      1\u001b[0m chall \u001b[38;5;241m=\u001b[39m rand\u001b[38;5;241m.\u001b[39mrandint(Integer(\u001b[38;5;241m0\u001b[39m),q117)\n\u001b[0;32m----> 2\u001b[0m sign \u001b[38;5;241m=\u001b[39m sqiprime117\u001b[38;5;241m.\u001b[39mResponse(sk, pk, sec, \u001b[43mcom\u001b[49m, chall)\n\u001b[1;32m      3\u001b[0m sign\n",
      "\u001b[0;31mNameError\u001b[0m: name 'com' is not defined"
     ]
    }
   ],
   "source": [
    "chall = rand.randint(0,q117)\n",
    "sign = sqiprime117.Response(sk, pk, sec, com, chall)\n",
    "sign"
   ]
  },
  {
   "cell_type": "code",
   "execution_count": null,
   "id": "abf50e24-ff33-4a02-8c30-4f7dd5fa73f4",
   "metadata": {},
   "outputs": [],
   "source": []
  },
  {
   "cell_type": "code",
   "execution_count": null,
   "id": "8a9741d7-d02b-4ae8-ab9a-b9a919f12b75",
   "metadata": {},
   "outputs": [],
   "source": []
  },
  {
   "cell_type": "code",
   "execution_count": 29,
   "id": "607c0768-f8e9-4337-a094-f341c31755e0",
   "metadata": {},
   "outputs": [
    {
     "name": "stdout",
     "output_type": "stream",
     "text": [
      "6623435729119185267495434064884374241620787410226872084033732000468691521806 14620776862072490894821862540230162076835195432858449448788883103770789978951\n"
     ]
    }
   ],
   "source": [
    "#Fix the prime field\n",
    "p = p117\n",
    "q= q117\n",
    "e = e117\n",
    "window = window240\n",
    "\n",
    "\n",
    "Fp4, Fp2, zeta = calcFields(p)\n",
    "Fq = GF(q) \n",
    "Z2e = Integers(2**e)\n",
    "\n",
    "#Fp4.base_ring()\n",
    "\n",
    "\n",
    "#Compute the Standard basis\n",
    "E0 = EllipticCurve(Fp4, [0, 0, 0, 1, 0]) #Curves are in the Montgomery model\n",
    "#Basis_2 = basis_4(E0,2,e)\n",
    "Basis_2= Basis_comput(E0, Fp4, Fp2, zeta, False,2, e)\n",
    "#Basis_q = basis_4(E0,q,1)\n",
    "Basis_q = Basis_comput(E0, Fp4, Fp2, zeta, True,q, 1)\n",
    "action_matrices_2 = End.action_matrices(Basis_2, 2**e, zeta, Fp4)\n",
    "image_action_q =  image_matrices(Basis_q, q, zeta, Fp4)\n",
    "#image_action_2 =  image_matrices(Basis_2, q, zeta, Fp4)\n",
    "\n",
    "#Compute the Precomputed Basis.\n",
    "Quat_alg = QuaternionAlgebra(-1, -p)\n",
    "O0_basis = (Quat_alg((1,0,0,0)),Quat_alg((0,1,0,0)),Quat_alg((0,1/2,1/2,0)),Quat_alg((1/2,0,0,1/2)))\n",
    "Basis_q, iota, Ideal_P = FindPrecomputedBasis(E0, Basis_q, Quat_alg, O0_basis,image_action_q, zeta, q)\n",
    "image_action_q = image_matrices(Basis_q, q, zeta, Fp4)\n",
    "iota_end = make_endo(Quat_alg, O0_basis, iota)\n",
    "Im = action_image(iota, image_action_q, Basis_q)\n",
    "assert Im[0]==Basis_q[1]\n",
    "assert q*Basis_q[0] == E0(0) and q*Basis_q[0] == E0(0)"
   ]
  },
  {
   "cell_type": "code",
   "execution_count": 30,
   "id": "3c62681b-cca4-4671-aac9-f5a8428fc1ea",
   "metadata": {},
   "outputs": [
    {
     "data": {
      "text/plain": [
       "6023983689016758459914690608845200820280357037530714683709027749309696345454*z2 + 7099662976916286461216467599364661388991736078842655812810482861058753692407"
      ]
     },
     "execution_count": 30,
     "metadata": {},
     "output_type": "execute_result"
    }
   ],
   "source": [
    "zeta"
   ]
  },
  {
   "cell_type": "code",
   "execution_count": null,
   "id": "e1f5130d-3021-411a-a97e-debc2e30ad66",
   "metadata": {},
   "outputs": [],
   "source": []
  },
  {
   "cell_type": "code",
   "execution_count": null,
   "id": "ffecda0b-76f4-4a29-b4ff-8364c2f2204b",
   "metadata": {},
   "outputs": [],
   "source": []
  },
  {
   "cell_type": "code",
   "execution_count": null,
   "id": "870989ee-81c3-46c4-9565-741395a7faf4",
   "metadata": {},
   "outputs": [],
   "source": []
  },
  {
   "cell_type": "code",
   "execution_count": null,
   "id": "f5d2f029-2271-4174-a1f6-ddfbbf132534",
   "metadata": {},
   "outputs": [],
   "source": []
  },
  {
   "cell_type": "code",
   "execution_count": null,
   "id": "06b0b5cb-a2cc-4a13-93c0-ebe07a26fc1b",
   "metadata": {},
   "outputs": [],
   "source": []
  },
  {
   "cell_type": "code",
   "execution_count": null,
   "id": "7e8e4e3e-d865-47c3-93a3-9a3725538ec2",
   "metadata": {},
   "outputs": [],
   "source": []
  },
  {
   "cell_type": "code",
   "execution_count": null,
   "id": "0f33b892-30ce-4c2f-96c0-cc06083543f8",
   "metadata": {},
   "outputs": [],
   "source": []
  },
  {
   "cell_type": "code",
   "execution_count": null,
   "id": "bd657043-cfb3-4852-8ac6-0ce0c2725382",
   "metadata": {},
   "outputs": [],
   "source": []
  },
  {
   "cell_type": "code",
   "execution_count": null,
   "id": "e4ddc08e-3a61-436f-b9e2-fdc0a0e77638",
   "metadata": {},
   "outputs": [],
   "source": []
  },
  {
   "cell_type": "code",
   "execution_count": null,
   "id": "d2770c6a-df2d-44b7-9d9c-fd0175fe7b19",
   "metadata": {},
   "outputs": [],
   "source": []
  },
  {
   "cell_type": "code",
   "execution_count": null,
   "id": "32d32fe0-e070-4d68-b259-00980fb08e45",
   "metadata": {},
   "outputs": [],
   "source": []
  },
  {
   "cell_type": "code",
   "execution_count": null,
   "id": "070a26cb-d8cf-4972-b49b-08050c6ec864",
   "metadata": {},
   "outputs": [],
   "source": []
  },
  {
   "cell_type": "markdown",
   "id": "a4faf4e8-515d-4245-a564-25108f9f0f9c",
   "metadata": {},
   "source": [
    "# Key Generation"
   ]
  },
  {
   "cell_type": "code",
   "execution_count": null,
   "id": "9c76a9b8-0f53-4e0c-a4bd-62daf10d91b2",
   "metadata": {},
   "outputs": [],
   "source": []
  },
  {
   "cell_type": "code",
   "execution_count": 31,
   "id": "c585a3ff-a0f0-4a30-89f7-34142ca0fe42",
   "metadata": {},
   "outputs": [],
   "source": [
    "def SQIprime_KeyGen():\n",
    "    P1, Q1, P2,Q2, alpha = compute_endo(E0, p , q*(2**q.nbits()-q) , e , Basis_2, action_matrices_2)\n",
    "    P0_, Q0_ = 2**(e-q.nbits())*Basis_2[0],2**(e-q.nbits())*Basis_2[1]\n",
    "\n",
    "    Ideal_0 = Quat_alg.ideal(O0_basis)\n",
    "    alpha_endo = make_endo(Quat_alg, O0_basis, alpha)\n",
    "    #I_tau=(Ideal_0*(alpha_endo) + q) + (Ideal_0)*(q)\n",
    "    I_rho=Ideal_0*(conjugate(alpha_endo))+ (Ideal_0)*((2**q.nbits()-q)*(2**e-q*(2**q.nbits()-q)))\n",
    "\n",
    "    #assert I_tau.norm() == q\n",
    "    #assert I_rho.norm() == (2**q.nbits()-q)*(2**e-q*(2**q.nbits()-q))\n",
    "    size1= q*(2**q.nbits() - q)\n",
    "    size2 = 2**e-q*(2**q.nbits()-q)\n",
    "\n",
    "    Res = eval_basis_unsmooth_SpecialDomain(E0, P1,Q1,P2,Q2, e, \n",
    "                                                [size1, size2,size2], \n",
    "                                                [(P0_,Q0_), Basis_q,Basis_2], [2**q.nbits(), q, 2**e],zeta, [True,False, False]\n",
    "                                               )\n",
    "    \n",
    "    #Res = eval_basis_unsmooth_SpecialDomain(E0, P1,Q1,P2,Q2, e, [q*(2**q.nbits() - q), 2**e-q*(2**q.nbits()-q),2**e-q*(2**q.nbits()-q)], [(P0_,Q0_), Basis_q,Basis_2], [2**q.nbits(), q, 2**e],zeta, [True,False, False])\n",
    "    rho1_BasisEA_q = Res[1]\n",
    "    rho1_BasisEA_2 = Res[2]\n",
    "    P2_, Q2_ = Res[0][0],Res[0][1]\n",
    "    \n",
    "    P1_ = (-q)*P0_\n",
    "    Q1_ = (-q)*Q0_\n",
    "    \n",
    "\n",
    "    \n",
    "    Pa, Qa = CouplePoint(P1_,P2_), CouplePoint(Q1_, Q2_)\n",
    "    kernel = (Pa, Qa)\n",
    "    Phi_A2 = EllipticProductIsogenySqrt(kernel, q.nbits(), None, zeta)\n",
    "    \n",
    "    E_A1 = Phi_A2.domain()[1]\n",
    "    \n",
    "    Mask_matrix = random_matrix(Fq,2,2) \n",
    "    \n",
    "    tau_BasisEA_2 = eval_basis_unsmooth(E0, E_A1, Phi_A2, q, Basis_2, 2**e, True)\n",
    "    E_A = tau_BasisEA_2[0].curve()\n",
    "\n",
    "    \n",
    "    assert rho1_BasisEA_q[0].curve() == E_A1\n",
    "\n",
    "    rho_BasisEA_q = eval_basis_unsmooth(E0, E_A1, Phi_A2, 2**q.nbits()-q, rho1_BasisEA_q,q, False)\n",
    "    rho_BasisEA_2 = eval_basis_unsmooth(E0, E_A1, Phi_A2, 2**q.nbits()-q, rho1_BasisEA_2,2**e, False)\n",
    "\n",
    "    assert rho_BasisEA_q[0].curve() == E_A\n",
    "\n",
    "    R,S = (Mask_matrix[0][0]*rho_BasisEA_q[0]+Mask_matrix[0][1]*rho_BasisEA_q[1]), (Mask_matrix[1][0]*rho_BasisEA_q[0]+Mask_matrix[1][1]*rho_BasisEA_q[1])\n",
    "    \n",
    "    public_key = (E_A,(R,S))\n",
    "\n",
    "    secret_key = (I_rho, tau_BasisEA_2,rho_BasisEA_2, Mask_matrix)\n",
    "    return public_key, secret_key"
   ]
  },
  {
   "cell_type": "code",
   "execution_count": 32,
   "id": "41ff500f-f399-435e-a272-6cb47bb75363",
   "metadata": {},
   "outputs": [],
   "source": [
    "public_key, secret_key = SQIprime_KeyGen()"
   ]
  },
  {
   "cell_type": "code",
   "execution_count": null,
   "id": "e6295a81-5554-473e-938a-a7745a7871bd",
   "metadata": {},
   "outputs": [],
   "source": []
  },
  {
   "cell_type": "code",
   "execution_count": null,
   "id": "b0c46a14-3a92-4e70-a889-6bf68863945b",
   "metadata": {},
   "outputs": [],
   "source": []
  },
  {
   "cell_type": "code",
   "execution_count": null,
   "id": "1698e655-ba4a-4691-85b9-869bc4765d65",
   "metadata": {},
   "outputs": [],
   "source": []
  },
  {
   "cell_type": "code",
   "execution_count": null,
   "id": "bc22d071-f5ff-4883-9537-24f147feffe1",
   "metadata": {},
   "outputs": [],
   "source": []
  },
  {
   "cell_type": "code",
   "execution_count": 33,
   "id": "6f01fe23-9eeb-4425-b75a-68ff0986fae7",
   "metadata": {},
   "outputs": [
    {
     "data": {
      "text/plain": [
       "((Elliptic Curve defined by y^2 = x^3 + (859368811792807935634853386021217061531493293746701782376639632438983468046*z^2+16240083479585854227083319701628386003305506783783079700010603252312245204062)*x^2 + x over Finite Field in z of size 17866357519039022340746304327512392032047517165206258904525681907470971174911^4,\n",
       "  ((14049355717113885930694603594557144533006863301059906822893168120171283923407*z^2 + 13613005778098013631855675854451921364639615962579727740686287828546358720521 : 8180346814878648470547551269244546352085834683018719945223749067274497086781*z^3 + 10573386398846576524632174344722426888778638296246669626154433347582136039923*z : 1),\n",
       "   (17447419678193691056165350530978502580811114092870756954670517006384730468419*z^2 + 14194226593618970315401877747539502461959199840394858097277180544456996808113 : 9301644604796669538780855213043524428647795751698002935375451363820542585868*z^3 + 9864215302214651156188220864137279307120311246679182690119018651433810174301*z : 1))),\n",
       " (\n",
       "                                                                                                                                                                                                                                                                                                                                                                                                                                                                                                                                                                                                                                                                                                                                                                                                                                                                                                                                                                                                                                                                                                                                                                                                                                                                                                                                                                                                                                                                                                                                                                                                                                                                                                                                                                                                                                                                                                                                                                                                                                                                                                                               [ 67687332181773242117657992364884277  77760946097398619978347252334205141]\n",
       "Fractional ideal (1/2 + 19409923610957326722019891141324598657801375098144059294290961016313572264202966725223175844292479286723487185*j + 55054678680215120118984844771268368784787050227624007240477536314361021150514010771979528791319046120558237887/2*k, 1/2*i + 19200987498562241256785255815558311435547902440186363264785778119432980368707061025979264113330792955965346103/2*j + 19409923610957326722019891141324598657801375098144059294290961016313572264202966725223175844292479286723487185*k, 37127833089388680687885050293413340110167476333905185252631657216897000759610535898979396452324919538261791995*j, 37127833089388680687885050293413340110167476333905185252631657216897000759610535898979396452324919538261791995*k), ((4546191052395780436924044642107185263639148462123954668945246282617874258623*z^2 + 16938113270463870817157290080436572182682434901478167513385886997512910221958 : 8710129058218019662223895135235005613642316101479792274284228927543528902776*z^2 + 2961262068587860766394362069194755368423281861333910018366802729315732061381 : 1), (1964758508617688392312561109142535637598100538853668172342747472584843520478*z^2 + 5815258857060349140498931270679889143877085210337104947222795532185560504633 : 11387066705551171673001165598154553790434677660993223808769284814283799341837*z^2 + 8620781354912354928731020734589383879001661287069499347835980639319641570613 : 1)), ((6102135307594420984132771939225669230869580163602520220988999730782110311712*z^2 + 5562030765456923497197048221529025388059661435191855585185490001720990600698 : 6380457319361570268552917962721840393119466126817850707275333493503240586783*z^2 + 6875841256155345220581038685158160042217790718175032101574452424437597230164 : 1), (11390483336780332686984672517512247669746887969851501598238431716054037961767*z^2 + 7736806836477105672545796263000952420123141504996492365994498715766639225509 : 14243083207837543869738070881836258903798465348565073564772680678986083818850*z^2 + 9404889632317934398954140622867392402628087255987290886677046834030341326973 : 1)), [  6258500175287874460500934410029178 148029806756581717755423560026380165]\n",
       "))"
      ]
     },
     "execution_count": 33,
     "metadata": {},
     "output_type": "execute_result"
    }
   ],
   "source": [
    "public_key, secret_key"
   ]
  },
  {
   "cell_type": "markdown",
   "id": "12e18e0f-79c6-4fa9-86e7-3dd5bcd5f00d",
   "metadata": {},
   "source": [
    "# Signature"
   ]
  },
  {
   "cell_type": "markdown",
   "id": "291244ab-3c6d-492f-b509-947ad6a590e4",
   "metadata": {},
   "source": [
    "## Commit"
   ]
  },
  {
   "cell_type": "code",
   "execution_count": 34,
   "id": "600def7e-d3ac-4315-bd54-dd8ec99bea9b",
   "metadata": {},
   "outputs": [],
   "source": [
    "def SQIprime_Commit():    \n",
    "    deg_1 = 1\n",
    "\n",
    "    while not sympy.isprime(deg_1:=rand.randint(0,2**int(e/2))):\n",
    "        pass\n",
    "    P1, Q1, P2,Q2, alpha = compute_endo(E0, p , deg_1 , e , Basis_2 , action_matrices_2)\n",
    "\n",
    "    Ideal_0 = Quat_alg.ideal(O0_basis)\n",
    "    alpha_endo = make_endo(Quat_alg, O0_basis, alpha)\n",
    "    I_psi=(Ideal_0*(alpha_endo)) + (Ideal_0)*(deg_1)\n",
    "    \n",
    "    Image_BasisE1_2 =  eval_basis_unsmooth_SpecialDomain(E0, P1 ,Q1 , P2, Q2,e, [deg_1], [Basis_2], [2**e],zeta, [True])[0]  \n",
    "    E_1 = Image_BasisE1_2[0].curve()\n",
    "\n",
    "    \n",
    "    #BasisE1_2 = Basis_comput(E_1,Fp4, Fp2, zeta, False ,2, e)\n",
    "\n",
    "    # Compute discrete log for the dual of phi_1. \n",
    "    #disc_log_=[]\n",
    "    #disc_log_image.append(BiDLP_power_two(BasisE1_2[0],Image_BasisE1_2[0],Image_BasisE1_2[1], e, window))\n",
    "    #disc_log_image.append(BiDLP_power_two(BasisE1_2[1],Image_BasisE1_2[0],Image_BasisE1_2[1], e, window))\n",
    "\n",
    "    commit = E_1\n",
    "    secret_commit = I_psi, Image_BasisE1_2, deg_1\n",
    "    return commit, secret_commit"
   ]
  },
  {
   "cell_type": "code",
   "execution_count": 35,
   "id": "74a4b637-e14d-4203-b6fc-babc7d445277",
   "metadata": {},
   "outputs": [],
   "source": [
    "commit, secret_commit = SQIprime_Commit()"
   ]
  },
  {
   "cell_type": "code",
   "execution_count": 36,
   "id": "9681aa6a-6979-47e9-8f1e-fa56d88dedba",
   "metadata": {},
   "outputs": [
    {
     "data": {
      "text/plain": [
       "(Fractional ideal (1/2 + 2425954220003115489303536411330504574*j + 3461996357910935671574797246550341327/2*k, 1/2*i + 2394458311658805432154659561472002139/2*j + 2425954220003115489303536411330504574*k, 2928227334784870551864728404011171733*j, 2928227334784870551864728404011171733*k),\n",
       " ((5769948661868193270757640535051512065457490753666965398872778109186155649256*z^2 + 381510637640920582866265590468611757976679119243665905630353898972477913119 : 11946310089202276532970978435972521685393601679559637713934777725793764362304*z^2 + 15608422266003881041180967884132884488600280933722290145579486437436342690761 : 1),\n",
       "  (7406385341526153926532050991794948358618673700150831328398908377492851476230*z^2 + 8176981675494771877535963808670518904881467729791163845252545583858193839900 : 12898583834142101253138471623871116826808884820131113087032755613510740060686*z^2 + 6115020187732682450029910029049397989053250150995189407256081878747673361429 : 1)),\n",
       " 2928227334784870551864728404011171733)"
      ]
     },
     "execution_count": 36,
     "metadata": {},
     "output_type": "execute_result"
    }
   ],
   "source": [
    "secret_commit"
   ]
  },
  {
   "cell_type": "code",
   "execution_count": 37,
   "id": "087e0f19-6348-453c-9e56-4bd6b2995cfc",
   "metadata": {},
   "outputs": [
    {
     "data": {
      "text/plain": [
       "Elliptic Curve defined by y^2 = x^3 + (5682612750618915792901960273746460788409625678251382438047103888180229451617*z^2+3829967814827306641907015030286098919805373880340938658037840962266952877730)*x^2 + x over Finite Field in z of size 17866357519039022340746304327512392032047517165206258904525681907470971174911^4"
      ]
     },
     "execution_count": 37,
     "metadata": {},
     "output_type": "execute_result"
    }
   ],
   "source": [
    "commit"
   ]
  },
  {
   "cell_type": "code",
   "execution_count": null,
   "id": "0dcee3d9-e67e-4590-800c-48d4f8a38852",
   "metadata": {},
   "outputs": [],
   "source": []
  },
  {
   "cell_type": "markdown",
   "id": "f26e2606-507c-44e3-b13f-474d9bc369f2",
   "metadata": {},
   "source": [
    "## Challenge"
   ]
  },
  {
   "cell_type": "code",
   "execution_count": 38,
   "id": "668ab375-2e77-4336-b2c8-87fb93599db4",
   "metadata": {},
   "outputs": [],
   "source": [
    "#Challenge\n",
    "chall = rand.randint(0,q)  \n"
   ]
  },
  {
   "cell_type": "markdown",
   "id": "7c0625eb-b4f6-4a76-9142-88b15b800f6d",
   "metadata": {},
   "source": [
    "## Response"
   ]
  },
  {
   "cell_type": "code",
   "execution_count": 39,
   "id": "46d01802-ec4e-404d-9c9b-08111323346f",
   "metadata": {},
   "outputs": [],
   "source": [
    "def SQIprime_Response(secret_key, public_key, secret_commit, commit, chall):\n",
    "    #Loading\n",
    "    E_A,(R,S) = public_key \n",
    "    I_rho, tau_BasisEA_2,rho_BasisEA_2, Mask_matrix = secret_key\n",
    "    E_1 = commit\n",
    "    I_psi, Image_BasisE1_2, deg_1 = secret_commit\n",
    "    ker_chall = R + chall*S \n",
    "\n",
    "    deg_rho = (2**q.nbits()-q)*(2**e-q*(2**q.nbits()-q))\n",
    "    \n",
    "    #Compute the challenge ideal\n",
    "    matrixbc = Mask_matrix.transpose() * Matrix([[Fq(1)],[Fq(chall)]])\n",
    "    C = Quat_alg(matrixbc[0][0])+Quat_alg(matrixbc[1][0])*iota_end\n",
    "\n",
    "    I_rhoI_varphi = (Ideal_P*(C**(-1))).intersection(I_rho)\n",
    "\n",
    "\n",
    "\n",
    "    # Compute the answer ideal\n",
    "    \n",
    "    J = I_psi.conjugate()*I_rhoI_varphi\n",
    "\n",
    "\n",
    "    norm_J = q*deg_1*(2**q.nbits()-q)*(2**e-q*(2**q.nbits()-q))\n",
    "    \n",
    "    #assert norm_J == J.norm()\n",
    "    beta = J.minimal_element()\n",
    "    d = beta.reduced_norm()/norm_J\n",
    "    assert d*q < 2**e\n",
    "    e2 = arity(d)\n",
    "    EVEN = e2 == 0\n",
    "\n",
    "    #Minkowski_reduced_basis = J.reduced_basis()\n",
    "    #EVEN = True\n",
    "    #e2=0\n",
    "    \n",
    "    #for beta in Minkowski_reduced_basis:\n",
    "    #    d = beta.reduced_norm()/norm_J\n",
    "    #    if d % 2 == 1 and d*q < 2**e:\n",
    "    #        EVEN = False\n",
    "    #        break\n",
    "    #if EVEN:\n",
    "    #    d = Minkowski_reduced_basis[0].reduced_norm()//norm_J\n",
    "    #    beta = Minkowski_reduced_basis[0]\n",
    "    #    e2 = arity(d)    \n",
    "        \n",
    "    I_sigma = chi(beta, J)\n",
    "\n",
    "    \n",
    "    I_psiI_sigma = I_psi*I_sigma \n",
    "\n",
    "    # Compute images of kappa using EvalTorsion.\n",
    "    \n",
    "    #Compute corresponding endomorphism\n",
    "    #gamma2 = (I_rhoI_varphi.conjugate()*I_psiI_sigma).minimal_element()\n",
    "    gamma = (I_psiI_sigma.conjugate()*I_rhoI_varphi).minimal_element()\n",
    "    #print(gamma == gamma2.conjugate())\n",
    "\n",
    "    \n",
    "    \n",
    "    gamma_list = component_endo(gamma)\n",
    "    gamma_list = endo_reduction(gamma_list, 2**e)\n",
    "\n",
    "    #Compute different points\n",
    "\n",
    "    \n",
    "    #vP = End.action_by_matrices(gamma_list, [(disc_log_image[0][0]), (disc_log_image[0][1])], action_matrices_2)\n",
    "    #vQ = End.action_by_matrices(gamma_list, [(disc_log_image[1][0]), (disc_log_image[1][1])], action_matrices_2)\n",
    "\n",
    "    vP = End.action_by_matrices(gamma_list, [1,0], action_matrices_2)\n",
    "    vQ = End.action_by_matrices(gamma_list, [0,1], action_matrices_2)\n",
    "\n",
    "    \n",
    "    #vP = ((deg_rho*vP[0])%2**e, (deg_rho*vP[1])%2**e)\n",
    "    #vQ = ((deg_rho*vQ[0])%2**e, (deg_rho*vQ[1])%2**e)\n",
    "\n",
    "    X3 = vP[0]*Image_BasisE1_2[0] + vP[1]*Image_BasisE1_2[1]\n",
    "    Y3 = vQ[0]*Image_BasisE1_2[0] + vQ[1]*Image_BasisE1_2[1]\n",
    "    \n",
    "    Z2e = Integers(2**e)\n",
    "    lambda_ = Z2e(deg_1)**(-1)\n",
    "    \n",
    "    X4, Y4 =  lambda_*X3, lambda_*Y3\n",
    "\n",
    "    #assert X4.weil_pairing(Y4, 2**e) == rho_BasisEA_2[0].weil_pairing(rho_BasisEA_2[1], 2**e)**(q*d)\n",
    "\n",
    "\n",
    "        \n",
    "    e_auxiliary = e - e2\n",
    "    d_auxiliary = d>>e2\n",
    "\n",
    "    \n",
    "    \n",
    "    #assert(X4.weil_pairing(Y4, 2**e) == (rho_BasisEA_2[0].weil_pairing(rho_BasisEA_2[1], 2**e))**(d*q))\n",
    "\n",
    "    # Construct auxiliary endomorphism.\n",
    "    sigma = quat.FullRepresentInteger(d_auxiliary*(2**e_auxiliary-(q*d_auxiliary)),p)\n",
    "    vP = End.action_by_matrices(sigma, [1, 0], action_matrices_2)\n",
    "    vP = ((vP[0])%2**e_auxiliary, (vP[1])%2**e_auxiliary)    \n",
    "    \n",
    "    vQ = End.action_by_matrices(sigma, [0, 1], action_matrices_2)\n",
    "    vQ = ((vQ[0])%2**e_auxiliary, (vQ[1])%2**e_auxiliary)\n",
    "\n",
    "    sigmaP = (2**e2*vP[0])*Basis_2[0] + (2**(e2)*vP[1])*Basis_2[1]\n",
    "    sigmaQ = (2**e2*vQ[0])*Basis_2[0] + (2**e2*vQ[1])*Basis_2[1]\n",
    "\n",
    "    \n",
    "    #P2, Q2 = 2**e2*d_auxiliary*(2**e_auxiliary-(q*d_auxiliary))*tau_BasisEA_2[0], 2**e2*d_auxiliary*(2**e_auxiliary-(q*d_auxiliary))*tau_BasisEA_2[1]\n",
    "    P2, Q2 = -(q*(d_auxiliary**2)*2**e2)*tau_BasisEA_2[0], -(q*(d_auxiliary**2)*2**e2)*tau_BasisEA_2[1]\n",
    "\n",
    "    P1 = (d_auxiliary*q)*sigmaP\n",
    "    Q1 = (d_auxiliary*q)*sigmaQ\n",
    "\n",
    "    assert P2.curve() == E_A\n",
    "\n",
    "\n",
    "    #assert(P2.weil_pairing(Q2, 2**e_auxiliary)==  sigmaP.weil_pairing(sigmaQ, 2**e_auxiliary) **(-((q*d_auxiliary)**2)))\n",
    "    Pa, Qa = CouplePoint(P1,P2), CouplePoint(Q1, Q2)\n",
    "    kernel = (Pa, Qa)\n",
    "    Phi_delta = EllipticProductIsogenySqrt(kernel, e_auxiliary, None, zeta)\n",
    "\n",
    "    \n",
    "     #Evaluate points\n",
    "    Image_BasisE_delta_2 = eval_basis_unsmooth(E0, E_A, Phi_delta, 2**e_auxiliary-q*d_auxiliary,rho_BasisEA_2 , 2**e, False)\n",
    "    #V, W = eval_basis_unsmooth(E0, E_A, Phi_delta, 2**e-q*d, (ker_chall,ker_dual_chall), q, False)\n",
    "    V = Phi_delta(CouplePoint(E0(0), ker_chall))\n",
    "    E_delta = Image_BasisE_delta_2[0].curve()\n",
    "\n",
    "    \n",
    "\n",
    "    BasisE_delta_2 = Basis_comput(E_delta, Fp4, Fp2, zeta, False ,2, e)\n",
    "    #print(2**(e-1)*BasisE_delta_2[0],2**(e-1)*BasisE_delta_2[1])\n",
    "\n",
    "\n",
    "     #Compute discrete log for the dual of phi_1. \n",
    "    disc_log_image=[]\n",
    "    disc_log_image.append(BiDLP_power_two(BasisE_delta_2[0],Image_BasisE_delta_2[0],Image_BasisE_delta_2[1], e, window))\n",
    "    disc_log_image.append(BiDLP_power_two(BasisE_delta_2[1],Image_BasisE_delta_2[0],Image_BasisE_delta_2[1], e, window))\n",
    "\n",
    "\n",
    "    #T = (disc_log_image[0][0]*X4 +  disc_log_image[0][1]*Y4)*(2**e_auxiliary- q*d_auxiliary)\n",
    "    #U = (disc_log_image[1][0]*X4 +  disc_log_image[1][1]*Y4)*(2**e_auxiliary- q*d_auxiliary)\n",
    "    \n",
    "    T = -(disc_log_image[0][0]*X4 +  disc_log_image[0][1]*Y4)\n",
    "    U = -(disc_log_image[1][0]*X4 +  disc_log_image[1][1]*Y4)\n",
    "\n",
    "    \n",
    "    #assert T.weil_pairing(U, 2**e) == BasisE_delta_2[0].weil_pairing(BasisE_delta_2[1],2**e)**(q*d*(2**e_auxiliary-q*d_auxiliary))\n",
    "\n",
    "    \n",
    "    if V[0].curve() == E_delta:\n",
    "        V = V[0]\n",
    "    elif V[1].curve() == E_delta:\n",
    "        V = V[1]\n",
    "    else:\n",
    "        print(\"Problem with the auxiliary isogeny\")\n",
    "\n",
    "    assert V.curve() == E_delta\n",
    "    \n",
    "    #assert T.weil_pairing(U, 2**e_auxiliary) == X4.weil_pairing(Y4,2**e_auxiliary)**(-q*d_auxiliary)\n",
    "\n",
    "\n",
    "    \n",
    "    #Z2e = Integers(2**e_auxiliary)\n",
    "    #inver = int(Z2e(q*d_auxiliary)**(-1))\n",
    "    #T,U = inver*T, inver*U\n",
    "    \n",
    "\n",
    "    assert T.curve() == E_1\n",
    "    signature = E_1, E_delta, BasisE_delta_2, T,U,V, e2\n",
    "    return signature\n",
    "\n"
   ]
  },
  {
   "cell_type": "code",
   "execution_count": 40,
   "id": "111b96ca-f8d3-4e61-a09f-19bbc1cbb869",
   "metadata": {},
   "outputs": [],
   "source": [
    "signature = [0]\n",
    "while signature[-1] == 0:\n",
    "    chall = randint(0,q)\n",
    "    signature = SQIprime_Response(secret_key, public_key, secret_commit, commit, chall)\n"
   ]
  },
  {
   "cell_type": "code",
   "execution_count": 41,
   "id": "965dfa5f-6448-4f83-86e5-a89c7afab811",
   "metadata": {},
   "outputs": [],
   "source": [
    "chall = randint(0,q)\n",
    "signature = SQIprime_Response(secret_key, public_key, secret_commit, commit, chall)"
   ]
  },
  {
   "cell_type": "code",
   "execution_count": null,
   "id": "0263042b-a147-484e-8066-7a02645fb86b",
   "metadata": {},
   "outputs": [],
   "source": []
  },
  {
   "cell_type": "code",
   "execution_count": 42,
   "id": "42a85b4c-deae-48d3-abee-fab761b5780d",
   "metadata": {},
   "outputs": [],
   "source": [
    "def SQIprime_sign(secret_key, public_key, Message):\n",
    "    \n",
    "    commit, secret_commit = SQIprime_Commit()\n",
    "    "
   ]
  },
  {
   "cell_type": "code",
   "execution_count": null,
   "id": "811a23f9-f61f-4ba1-89a2-73d94ad163d9",
   "metadata": {},
   "outputs": [],
   "source": []
  },
  {
   "cell_type": "code",
   "execution_count": null,
   "id": "03c9909a-ca94-4d73-97db-00b659140a1c",
   "metadata": {},
   "outputs": [],
   "source": []
  },
  {
   "cell_type": "code",
   "execution_count": null,
   "id": "ad58961d-b8f3-4d7a-b613-b684683ac2bc",
   "metadata": {},
   "outputs": [],
   "source": []
  },
  {
   "cell_type": "markdown",
   "id": "f0c5460b-0254-4a22-9fe9-0627d191647a",
   "metadata": {},
   "source": [
    "## Verification"
   ]
  },
  {
   "cell_type": "code",
   "execution_count": 43,
   "id": "aacf7f36-2493-4826-8e00-7a3745f5a4b9",
   "metadata": {},
   "outputs": [],
   "source": [
    "#Verification\n",
    "def SQIprime_verify(public_key, chall, signature):\n",
    "    #Load \n",
    "    E_A,(R,S) = public_key\n",
    "    E_1, E_delta, BasisE_delta_2, T,U,V, e2 = signature\n",
    "    ker_chall = R + chall*S \n",
    "    pos = 0\n",
    "    \n",
    "    e_auxiliary = e - e2\n",
    "    E_1auxiliary = E_1\n",
    "    \n",
    "    #Check points validity\n",
    "    if not (V.curve() ==E_delta or (U.curve() == T.curve() == E_1)):\n",
    "        return False\n",
    "\n",
    "    #Even Case\n",
    "    if e2 !=0:\n",
    "        \n",
    "        T_aux = 2**e_auxiliary*T\n",
    "        U_aux = 2**e_auxiliary*U\n",
    "\n",
    "        if two_order(E_1, T_aux, e2) >= e2:\n",
    "            kernel_sigma2 = T_aux\n",
    "        else:\n",
    "            kernel_sigma2 = U_aux\n",
    "\n",
    "        sigma2 = E_1.isogeny(kernel_sigma2)\n",
    "        E_1auxiliary = sigma2.codomain()\n",
    "        T_inter, U_inter = sigma2(T), sigma2(U)\n",
    "\n",
    "        Pa, Qa = CouplePoint((2**e2)*BasisE_delta_2[0],T_inter), CouplePoint((2**e2)*BasisE_delta_2[1], U_inter)\n",
    "  \n",
    "    else:\n",
    "        #Odd case\n",
    "        Pa, Qa = CouplePoint(BasisE_delta_2[0],T), CouplePoint(BasisE_delta_2[1], U)\n",
    "    \n",
    "    kernel = (Pa, Qa)\n",
    "    Phi_verif = EllipticProductIsogenySqrt(kernel, e_auxiliary, None, zeta)\n",
    "\n",
    "    #Check codomain\n",
    "    if Phi_verif.codomain()[0].j_invariant() == E_A.j_invariant():\n",
    "        pos = 0\n",
    "    elif Phi_verif.codomain()[1].j_invariant() == E_A.j_invariant():\n",
    "        pos = 1\n",
    "    else:\n",
    "        return False\n",
    "\n",
    "    \n",
    "    #Compute point\n",
    "    Inter_point = Phi_verif(CouplePoint(V,E_1auxiliary(0)))\n",
    "    bool1 = (Phi_verif.codomain()[pos]).isomorphism_to(E_A)(Inter_point[pos]).x() == ((2**e_auxiliary) * (ker_chall)).x()\n",
    "    bool2 = Inter_point[1-pos] == Phi_verif.codomain()[1-pos](0)\n",
    "\n",
    "    #Counter attacks\n",
    "\n",
    "    W = sample_ran_element(E_delta, Fp4, Fp2, zeta, True)\n",
    "    W = ((p-1)//q)*W\n",
    "    #W = point_ord_4(E_delta, q,1)\n",
    "    Inter_point2 = Phi_verif(CouplePoint(W,E_1auxiliary(0)))\n",
    "    bool3 = (Inter_point2[1-pos] != Phi_verif.codomain()[1-pos](0))\n",
    "    return bool1 and bool2 and bool3"
   ]
  },
  {
   "cell_type": "code",
   "execution_count": 44,
   "id": "b0be0092-0f5b-418a-83f3-f2c3444864dd",
   "metadata": {},
   "outputs": [
    {
     "name": "stdout",
     "output_type": "stream",
     "text": [
      "True\n",
      "True\n",
      "True\n",
      "True\n",
      "True\n",
      "True\n",
      "True\n",
      "True\n",
      "True\n",
      "True\n",
      "SQIPrime Verify algorithm took on average 215.1899166 ms.\n"
     ]
    }
   ],
   "source": [
    "speed_up_sagemath()\n",
    "\n",
    "t0 = time.perf_counter_ns()\n",
    "for i in range(10):\n",
    "    print(SQIprime_verify(public_key, chall, signature))\n",
    "t1 = time.perf_counter_ns()\n",
    "\n",
    "print(\"SQIPrime Verify algorithm took on average\",float(t1-t0)/10**6/10, \"ms.\" )\n"
   ]
  },
  {
   "cell_type": "code",
   "execution_count": null,
   "id": "872f058c-325c-4cde-bea4-c4cb8d79bc5d",
   "metadata": {},
   "outputs": [],
   "source": []
  },
  {
   "cell_type": "code",
   "execution_count": 45,
   "id": "7f206b34-8e37-4b36-b0a6-ab5fbe16d007",
   "metadata": {},
   "outputs": [],
   "source": [
    "E1 = signature[0]\n",
    "P,Q = signature[2]"
   ]
  },
  {
   "cell_type": "code",
   "execution_count": 46,
   "id": "0c603a72-6351-425e-8dfb-4998a1d7ded4",
   "metadata": {},
   "outputs": [
    {
     "data": {
      "text/plain": [
       "((16704847337553689248324652724650893217375807860009646449355799834905845090983*z^2 + 16637983296940972805831058998657720118879289768334401240459148607692586411380 : 6106854017040273793141645026740347977663914792924447878434131010705370954233*z^2 + 15284347162643862177449442787478397388016189413883536072767705662096965612772 : 1),\n",
       " (11250401035287430933636041868858799680727757623739762515214029843749177208565*z^2 + 14475213007215545414116307960636477453737171437172570621438073131612868144569 : 756844354935990763104207212753589459985245953016115716792241594743223143361*z^2 + 233297886944050489976227337087448708786738553089559180476547005081416272859 : 1))"
      ]
     },
     "execution_count": 46,
     "metadata": {},
     "output_type": "execute_result"
    }
   ],
   "source": [
    "P,Q"
   ]
  },
  {
   "cell_type": "code",
   "execution_count": 47,
   "id": "51c7b9a4-7f22-4844-ac03-1aa1a15eafbb",
   "metadata": {},
   "outputs": [
    {
     "data": {
      "text/plain": [
       "Elliptic Curve defined by y^2 = x^3 + (5682612750618915792901960273746460788409625678251382438047103888180229451617*z^2+3829967814827306641907015030286098919805373880340938658037840962266952877730)*x^2 + x over Finite Field in z of size 17866357519039022340746304327512392032047517165206258904525681907470971174911^4"
      ]
     },
     "execution_count": 47,
     "metadata": {},
     "output_type": "execute_result"
    }
   ],
   "source": [
    "aa= compression.compress_curve(E1,32)\n",
    "compression.decompress_curve(Fp4, aa, 32)"
   ]
  },
  {
   "cell_type": "code",
   "execution_count": 48,
   "id": "12c54453-6838-48ae-8424-869e2a7523e5",
   "metadata": {},
   "outputs": [],
   "source": [
    "bb= compression.compress_points(E1,zeta,[P,Q],32)"
   ]
  },
  {
   "cell_type": "code",
   "execution_count": 49,
   "id": "30640fb8-8f1d-4112-bdfe-a70ce09685c9",
   "metadata": {},
   "outputs": [
    {
     "data": {
      "text/plain": [
       "[(16704847337553689248324652724650893217375807860009646449355799834905845090983*z^2 + 16637983296940972805831058998657720118879289768334401240459148607692586411380 : 15298801153988591101098525102345156113341059018580089516531911091946540677267*z^2 + 12911050114873344983140735947526649892296017310970947847886739315459105845939 : 1),\n",
       " (11250401035287430933636041868858799680727757623739762515214029843749177208565*z^2 + 14475213007215545414116307960636477453737171437172570621438073131612868144569 : 3862242320040174129235939193009232329248959375382426105816381082138300237357*z^2 + 13791404360002553238633432928463646029112013116786986884330555427147350016170 : 1)]"
      ]
     },
     "execution_count": 49,
     "metadata": {},
     "output_type": "execute_result"
    }
   ],
   "source": [
    "compression.decompress_points(E1,Fp4,zeta,bb,32)"
   ]
  },
  {
   "cell_type": "code",
   "execution_count": null,
   "id": "e24b1618-b1d5-4e69-8431-985e3a8d57c7",
   "metadata": {},
   "outputs": [],
   "source": []
  },
  {
   "cell_type": "code",
   "execution_count": 50,
   "id": "db70da63-a5d6-40f2-bf93-92ad2fedf226",
   "metadata": {},
   "outputs": [
    {
     "data": {
      "text/plain": [
       "b\"\\x93\\x80\\xd1<\\xf5\\\\=\\xae\\xb5'r\\x9ex\\x08\\xda\\xdd\""
      ]
     },
     "execution_count": 50,
     "metadata": {},
     "output_type": "execute_result"
    }
   ],
   "source": [
    "m = integer_to_bytes(123)\n",
    "shake = SHAKE256.new(m)\n",
    "shake.read(16)\n"
   ]
  },
  {
   "cell_type": "code",
   "execution_count": 51,
   "id": "df5b6cf0-cd8b-4e4f-9aa7-703018e40dc9",
   "metadata": {},
   "outputs": [
    {
     "ename": "NameError",
     "evalue": "name 't' is not defined",
     "output_type": "error",
     "traceback": [
      "\u001b[0;31m---------------------------------------------------------------------------\u001b[0m",
      "\u001b[0;31mNameError\u001b[0m                                 Traceback (most recent call last)",
      "Cell \u001b[0;32mIn[51], line 2\u001b[0m\n\u001b[1;32m      1\u001b[0m t0 \u001b[38;5;241m=\u001b[39m time\u001b[38;5;241m.\u001b[39mperf_counter_ns()\n\u001b[0;32m----> 2\u001b[0m \u001b[38;5;28;01mfor\u001b[39;00m i \u001b[38;5;129;01min\u001b[39;00m \u001b[38;5;28mrange\u001b[39m(\u001b[43mt\u001b[49m):\n\u001b[1;32m      3\u001b[0m     m \u001b[38;5;241m=\u001b[39m integer_to_bytes(Integer(\u001b[38;5;241m123\u001b[39m))\n\u001b[1;32m      4\u001b[0m     shake \u001b[38;5;241m=\u001b[39m SHAKE256\u001b[38;5;241m.\u001b[39mnew(m)\n",
      "\u001b[0;31mNameError\u001b[0m: name 't' is not defined"
     ]
    }
   ],
   "source": [
    "t0 = time.perf_counter_ns()\n",
    "for i in range(t):\n",
    "    m = integer_to_bytes(123)\n",
    "    shake = SHAKE256.new(m)\n",
    "    shake.read(16)\n",
    "t1 = time.perf_counter_ns()\n",
    "\n",
    "print(\"SQIPrime Key Generation took on average \",float(t1-t0)/10**6/t, \"ms.\" )\n"
   ]
  },
  {
   "cell_type": "code",
   "execution_count": null,
   "id": "a0d47546-20b8-449d-a47e-e957be2d99e3",
   "metadata": {},
   "outputs": [],
   "source": []
  },
  {
   "cell_type": "code",
   "execution_count": null,
   "id": "7965da64-c229-49dc-b0c5-492699e899b8",
   "metadata": {},
   "outputs": [],
   "source": []
  },
  {
   "cell_type": "code",
   "execution_count": 61,
   "id": "82ea2ab3-6b7e-42d6-9e1a-661fe22713e7",
   "metadata": {},
   "outputs": [],
   "source": [
    "sqiprime117 = SQIPrime(p117, q117, e117, window117, pp117)"
   ]
  },
  {
   "cell_type": "markdown",
   "id": "336b0535-55cb-444a-9e34-9ebfb59ccb28",
   "metadata": {},
   "source": [
    "# Tiny speed test"
   ]
  },
  {
   "cell_type": "code",
   "execution_count": 62,
   "id": "60349972-b23b-400a-9f00-3bd962ed3821",
   "metadata": {},
   "outputs": [],
   "source": [
    "t = 100\n"
   ]
  },
  {
   "cell_type": "code",
   "execution_count": 63,
   "id": "f25332c4-ea7f-4bb1-859c-e216c0df0b2f",
   "metadata": {},
   "outputs": [
    {
     "name": "stdout",
     "output_type": "stream",
     "text": [
      "SQIPrime Key Generation took on average  485.06564707999996 ms.\n"
     ]
    }
   ],
   "source": [
    "#SQIprime_KeyGen time \n",
    "speed_up_sagemath()\n",
    "t0 = time.perf_counter_ns()\n",
    "for i in range(t):\n",
    "    public_key_test, secret_key_test = sqiprime117.KeyGen()\n",
    "t1 = time.perf_counter_ns()\n",
    "\n",
    "print(\"SQIPrime Key Generation took on average \",float(t1-t0)/10**6/t, \"ms.\" )\n"
   ]
  },
  {
   "cell_type": "code",
   "execution_count": 64,
   "id": "d3dda06d-1cb9-4eba-9684-ced3f285c309",
   "metadata": {},
   "outputs": [
    {
     "name": "stdout",
     "output_type": "stream",
     "text": [
      "SQIPrime Key Commitment took on average  279.42495542 ms.\n"
     ]
    }
   ],
   "source": [
    "speed_up_sagemath()\n",
    "t0 = time.perf_counter_ns()\n",
    "for i in range(t):\n",
    "    secret_commit_test, commit_test = sqiprime117.Commit()\n",
    "t1 = time.perf_counter_ns()\n",
    "\n",
    "print(\"SQIPrime Key Commitment took on average \",float(t1-t0)/10**6/t, \"ms.\" )\n"
   ]
  },
  {
   "cell_type": "code",
   "execution_count": 65,
   "id": "65e12163-a160-4b6d-b0bd-4225b386a607",
   "metadata": {},
   "outputs": [
    {
     "name": "stdout",
     "output_type": "stream",
     "text": [
      "2\n",
      "SQIPrime Response algorithm took on average  390.77424209 ms.\n"
     ]
    }
   ],
   "source": [
    "#SQIprime_Response() time \n",
    "speed_up_sagemath()\n",
    "\n",
    "t0 = time.perf_counter_ns()\n",
    "for i in range(t):\n",
    "    chall_test= rand.randint(0,q)\n",
    "    signature_test = sqiprime117.Response(secret_key_test, public_key_test, secret_commit_test, commit_test, chall_test)\n",
    "print(signature_test[-1])\n",
    "t1 = time.perf_counter_ns()\n",
    "\n",
    "print(\"SQIPrime Response algorithm took on average \",float(t1-t0)/10**6/t, \"ms.\" )"
   ]
  },
  {
   "cell_type": "code",
   "execution_count": 66,
   "id": "1635b784-3a09-4084-8524-17b3ab26782f",
   "metadata": {},
   "outputs": [
    {
     "name": "stdout",
     "output_type": "stream",
     "text": [
      "SQIPrime Verify algorithm took on average 200.68763125 ms.\n"
     ]
    },
    {
     "data": {
      "text/plain": [
       "True"
      ]
     },
     "execution_count": 66,
     "metadata": {},
     "output_type": "execute_result"
    }
   ],
   "source": [
    "#SQIprime_Verify() time \n",
    "speed_up_sagemath()\n",
    "t0 = time.perf_counter_ns()\n",
    "for i in range(t):\n",
    "    valid = sqiprime117.Verify(public_key_test, chall_test, signature_test)\n",
    "    if not valid:\n",
    "        print(\"Problem in verifying the scheme\")\n",
    "t1 = time.perf_counter_ns()\n",
    "\n",
    "print(\"SQIPrime Verify algorithm took on average\",float(t1-t0)/10**6/t, \"ms.\" )\n",
    "valid"
   ]
  },
  {
   "cell_type": "code",
   "execution_count": null,
   "id": "475c015c-022f-4ac5-9f3b-f874f903884b",
   "metadata": {},
   "outputs": [],
   "source": []
  },
  {
   "cell_type": "code",
   "execution_count": null,
   "id": "84d6ccf2-d030-450e-b6ff-adb7c81990ac",
   "metadata": {},
   "outputs": [],
   "source": []
  },
  {
   "cell_type": "code",
   "execution_count": null,
   "id": "deeb6f97-aa20-426d-b863-86f4b3a68df5",
   "metadata": {},
   "outputs": [],
   "source": []
  },
  {
   "cell_type": "code",
   "execution_count": null,
   "id": "b889e0df-7824-4b71-bb82-17ffb8ad19ec",
   "metadata": {},
   "outputs": [],
   "source": []
  },
  {
   "cell_type": "code",
   "execution_count": 49,
   "id": "36a66b9b-8f64-4f58-89fb-66b68a586ad3",
   "metadata": {},
   "outputs": [
    {
     "ename": "NameError",
     "evalue": "name 'compress_basis' is not defined",
     "output_type": "error",
     "traceback": [
      "\u001b[0;31m---------------------------------------------------------------------------\u001b[0m",
      "\u001b[0;31mNameError\u001b[0m                                 Traceback (most recent call last)",
      "Cell \u001b[0;32mIn[49], line 1\u001b[0m\n\u001b[0;32m----> 1\u001b[0m Rs \u001b[38;5;241m=\u001b[39m\u001b[43mcompress_basis\u001b[49m(E0,[Basis_2[Integer(\u001b[38;5;241m0\u001b[39m)],Basis_2[Integer(\u001b[38;5;241m1\u001b[39m)],Basis_q[Integer(\u001b[38;5;241m0\u001b[39m)],Basis_q[Integer(\u001b[38;5;241m1\u001b[39m)]], Integer(\u001b[38;5;241m32\u001b[39m))\n\u001b[1;32m      2\u001b[0m Rs\n",
      "\u001b[0;31mNameError\u001b[0m: name 'compress_basis' is not defined"
     ]
    }
   ],
   "source": [
    "Rs =compress_basis(E0,[Basis_2[0],Basis_2[1],Basis_q[0],Basis_q[1]], 32)\n",
    "Rs"
   ]
  },
  {
   "cell_type": "code",
   "execution_count": 50,
   "id": "1a8c7be0-749d-4706-aa01-f76a1517d7db",
   "metadata": {},
   "outputs": [],
   "source": [
    "def integer_to_bytes(n, byte_len=None):\n",
    "    \"\"\"\n",
    "    Represent an integer n as bytes in big-endian\n",
    "    \"\"\"\n",
    "    n = int(n)\n",
    "    if byte_len is None:\n",
    "        byte_len = (n.bit_length() + 7) // 8\n",
    "    return n.to_bytes(byte_len, 'big')\n",
    "\n",
    "def bytes_to_integer(b):\n",
    "    \"\"\"\n",
    "    Represent bytes as an integer in big-endian\n",
    "    \"\"\"\n",
    "    return ZZ(int.from_bytes(b, 'big'))\n",
    "\n",
    "def compress_curve(E,p_byte_len ):\n",
    "    A = E.a_invariants()[1]\n",
    "    return integer_to_bytes(A[0], p_byte_len)+ integer_to_bytes(A[2], p_byte_len)\n",
    "\n",
    "def decompress_curve(Fp4,R,p_byte_len):\n",
    "    a_bytes = R[:p_byte_len]\n",
    "    b_bytes = R[p_byte_len:]\n",
    "    a_int = bytes_to_integer(a_bytes)\n",
    "    b_int = bytes_to_integer(b_bytes)\n",
    "    A = Fp4([a_int,0, b_int,0])\n",
    "    return EllipticCurve(Fp4, [0, A, 0, 1, 0])\n",
    "\n",
    "\n",
    "def compress_points(E, Ps, p_byte_len):\n",
    "    A = E.a_invariants()[1]\n",
    "    Rs=[]\n",
    "    for P in Ps:\n",
    "        w = P.x()\n",
    "        bool = sqrt_Fp4(w**3+A*w**2+w, zeta) == P.y()        \n",
    "        Rs.append((integer_to_bytes(w[0], p_byte_len)+ integer_to_bytes(w[2], p_byte_len), bool))\n",
    "    return R.tuple()\n",
    "\n",
    "def decompress_points(E, Fp4,Rs,p_byte_len):\n",
    "    A = E.a_invariants()[1]\n",
    "    Ps=[]\n",
    "    for R in Rs:\n",
    "        a_bytes = R[0][:p_byte_len]\n",
    "        b_bytes = R[0][p_byte_len:]\n",
    "        a_int = bytes_to_integer(a_bytes)\n",
    "        b_int = bytes_to_integer(b_bytes)\n",
    "        X = Fp4([a_int,0, b_int,0])\n",
    "        Y= sqrt_Fp4(X**3+A*X**2+X, zeta)\n",
    "        if not R[1]:\n",
    "            Y = -Y\n",
    "        Ps.append(E([X,Y]))\n",
    "    return Ps "
   ]
  },
  {
   "cell_type": "code",
   "execution_count": null,
   "id": "54af3f00-1a83-48a6-b282-58056fa64d8e",
   "metadata": {},
   "outputs": [],
   "source": []
  },
  {
   "cell_type": "code",
   "execution_count": 51,
   "id": "6235fdc5-37be-4746-b4b5-da4e13158477",
   "metadata": {},
   "outputs": [
    {
     "data": {
      "text/plain": [
       "b'f\\xf3\\xe3e\\x8c\\xd1\\x8b\\xe3\\xd3\\xd1\\xdd\\x895\\xd5\\xc7\\xce'"
      ]
     },
     "execution_count": 51,
     "metadata": {},
     "output_type": "execute_result"
    }
   ],
   "source": [
    "Hash(16, integer_to_bytes(13))"
   ]
  },
  {
   "cell_type": "code",
   "execution_count": 52,
   "id": "7143330a-23b3-4a19-b879-1ec73ac7092c",
   "metadata": {},
   "outputs": [
    {
     "ename": "NameError",
     "evalue": "name 'Rs' is not defined",
     "output_type": "error",
     "traceback": [
      "\u001b[0;31m---------------------------------------------------------------------------\u001b[0m",
      "\u001b[0;31mNameError\u001b[0m                                 Traceback (most recent call last)",
      "Cell \u001b[0;32mIn[52], line 3\u001b[0m\n\u001b[1;32m      1\u001b[0m t0 \u001b[38;5;241m=\u001b[39m time\u001b[38;5;241m.\u001b[39mperf_counter_ns()\n\u001b[1;32m      2\u001b[0m \u001b[38;5;28;01mfor\u001b[39;00m i \u001b[38;5;129;01min\u001b[39;00m \u001b[38;5;28mrange\u001b[39m(t):\n\u001b[0;32m----> 3\u001b[0m     decompress_points(E0, Fp4,\u001b[43mRs\u001b[49m,Integer(\u001b[38;5;241m32\u001b[39m))\n\u001b[1;32m      4\u001b[0m t1 \u001b[38;5;241m=\u001b[39m time\u001b[38;5;241m.\u001b[39mperf_counter_ns()\n\u001b[1;32m      6\u001b[0m \u001b[38;5;28mprint\u001b[39m(\u001b[38;5;124m\"\u001b[39m\u001b[38;5;124mSQIPrime Response algorithm took on average \u001b[39m\u001b[38;5;124m\"\u001b[39m,\u001b[38;5;28mfloat\u001b[39m(t1\u001b[38;5;241m-\u001b[39mt0)\u001b[38;5;241m/\u001b[39mInteger(\u001b[38;5;241m10\u001b[39m)\u001b[38;5;241m*\u001b[39m\u001b[38;5;241m*\u001b[39mInteger(\u001b[38;5;241m6\u001b[39m)\u001b[38;5;241m/\u001b[39mt, \u001b[38;5;124m\"\u001b[39m\u001b[38;5;124mms.\u001b[39m\u001b[38;5;124m\"\u001b[39m )\n",
      "\u001b[0;31mNameError\u001b[0m: name 'Rs' is not defined"
     ]
    }
   ],
   "source": [
    "t0 = time.perf_counter_ns()\n",
    "for i in range(t):\n",
    "    decompress_points(E0, Fp4,Rs,32)\n",
    "t1 = time.perf_counter_ns()\n",
    "\n",
    "print(\"SQIPrime Response algorithm took on average \",float(t1-t0)/10**6/t, \"ms.\" )\n",
    "\n"
   ]
  },
  {
   "cell_type": "code",
   "execution_count": null,
   "id": "c1a5a690-c45b-42bd-8ed9-aecb113f151d",
   "metadata": {},
   "outputs": [],
   "source": []
  },
  {
   "cell_type": "code",
   "execution_count": null,
   "id": "209aa687-e8dd-4773-89ab-43212dd10941",
   "metadata": {},
   "outputs": [],
   "source": []
  },
  {
   "cell_type": "markdown",
   "id": "98b976e1-9878-490f-a844-9b59fd5fba6f",
   "metadata": {},
   "source": [
    "## Precomputed setup"
   ]
  },
  {
   "cell_type": "code",
   "execution_count": 57,
   "id": "66c3e3f8-bb52-4435-8737-5588a5fa4199",
   "metadata": {},
   "outputs": [],
   "source": [
    "#pp117\n",
    "p117 = 2**247 * 79 - 1\n",
    "q117 = 168118140144706967996895604212334429\n",
    "e117 = 247\n",
    "window117 = [14]\n",
    "\n",
    "t117=  1371914230417757366428392920863370364541612682108850587953449886929153531474\n",
    "n117 = 10767692651943649319589436523002381625291898856497311446758414905083295076826\n",
    "\n",
    "#Basis_E0_2\n",
    "Point0 = [[11914771203870397572555265354151879208392109774443874530678186862526155601449,15318549611333786211143161343850308825997911094218171396895497268307466429140],[3608952323386837722498149193402655164370851614407642562521492705327034229269,4291592298971114016380288532491641706596429215978722754368907010530512129169]]\n",
    "Point1 = [[9560622470033290547945459361858419932463346624790195203403553567121546634060,14854412416200276665548736097120849281343798401456182653425276893586706129833],[11853489859791651961198190232663337851409103396715842182978452929588334571431,5980448306270463575574187986161065936775733043204573015671456787630804457864]]\n",
    "\n",
    "#Action_torsion2\n",
    "action_2 = [\n",
    "[(167891739519548982725428721111284100559112614269625404601166471140827195043, 172684642372986329571158037598140197748874263647889896749798417675396641331),  (14854389063369790965435500355391895421646244308852896697574738760720007410,  58264684772084211461233358983809469466805324530453822038399122624628136285)],\n",
    "    [(83928917767786144984807220384361811140365419488837366047926280437509338596,  183150072292303833082406280797489622433454469089745773581387409400210765232), (191080188737101491486555087002074236773473512768440579032598096703180440221,  142227506523847049201854859710731758885552519311241860591639313327945992732)], \n",
    "    [(23494026642071768993645042868673601898649594213160357511498326455012562804,  125770308810849678929112667684824431994619093103886088741076418815768758948), (30917920061918270930726178814992533264594311407918279807780931003730311569, 202662397649561425193017037226419968127268344586918869128067267310442768525)]]\n",
    "\n",
    "#Basis_E0_q\n",
    "Point2 = [[7875284546222851635034633177564927624502084444991238411292604718337755348848,2646945819027089927366536082271355321769408502471268448490621351707509124471],[310144864298216408700644169053501948174892519134348421713355535379569540526,5160012028176448219956791155388053181406043963215951445842770253965819204246]]\n",
    "Point3 = [[17809620210421405756385521950001261507809910849369583160915043758581624556578,7286148136277869000197174688475229389121721992848286100569909420666271607193],[8028238343556656246273612929450444358237242758909415528760419772545692408308,11790496902205414285834194692386444422621588826158845600052038018870461886652]]\n",
    "\n",
    "#Ideal_P\n",
    "Ideal = [(1/2 ,0, 134588137729279977940316288959545771, 97976921001638429982032817794701359/2), (0,1/2 , 238259359287775506011758390629967499/2, 134588137729279977940316288959545771), (0,0,168118140144706967996895604212334429,0),(0,0,0,168118140144706967996895604212334429)]\n",
    "\n",
    "#Endomorphism\n",
    "iota_basis = [123990604717324746307375563406954350088266,-1752162310992879163778168201332598893413326, 84100, 39548]\n",
    "\n",
    "pp117=[]\n",
    "pp117.append((t117,n117))\n",
    "pp117.append((Point0,Point1))\n",
    "pp117.append(action_2)\n",
    "pp117.append((Point2,Point3))\n",
    "pp117.append(Ideal)\n",
    "pp117.append(iota_basis)\n",
    "\n",
    "\n",
    "sqiprime117 = SQIPrime_Sigma(p117, q117, e117, window117, pp117)"
   ]
  },
  {
   "cell_type": "code",
   "execution_count": 60,
   "id": "66b46810-381c-4bf5-9cec-d979bd4a777d",
   "metadata": {},
   "outputs": [
    {
     "name": "stdout",
     "output_type": "stream",
     "text": [
      "True\n",
      "True\n",
      "True\n",
      "True\n",
      "True\n",
      "True\n",
      "True\n",
      "True\n",
      "True\n",
      "True\n"
     ]
    }
   ],
   "source": [
    "for i in range(10):\n",
    "    pk, sk = sqiprime117.KeyGen()\n",
    "    sec, com = sqiprime117.Commit()\n",
    "    chall = rand.randint(0,q117)\n",
    "    sign = sqiprime117.Response(sk, pk, sec, com, chall)\n",
    "    print(sqiprime117.Verify(pk, chall, sign))"
   ]
  },
  {
   "cell_type": "code",
   "execution_count": null,
   "id": "a34608cf-c6c4-4f06-82e3-6a50875fb754",
   "metadata": {},
   "outputs": [],
   "source": []
  },
  {
   "cell_type": "code",
   "execution_count": null,
   "id": "0b6a62ee-18e7-46ae-b6a5-7087224fc671",
   "metadata": {},
   "outputs": [],
   "source": []
  },
  {
   "cell_type": "code",
   "execution_count": 100,
   "id": "36721b9c-326b-4728-9319-b8eaa43c1bed",
   "metadata": {},
   "outputs": [],
   "source": [
    "#pp130\n",
    "p130 = 2**273 * 19**2 - 1\n",
    "q130= 1733124013302036320718171822563477047667\n",
    "e130 = 273\n",
    "window130 = [15]\n",
    "\n",
    "t130=  2452632244215042236587883946340535900819817719306044826870828674667325358101294920360\n",
    "n130 = 1466422228515388428908794422275031248599320990200925784434723046827791394899855676341\n",
    "\n",
    "\n",
    "#Basis_E0_2\n",
    "Point0 = [[802152706306822036512498493434265277729136169622940091922069964806932891999220145465,4141571747014391967399392552621026990096785372238311134054304525730030157120290498389],[160919961096821923258275839074589638874247540427673660851082438404401309413144475591,2814833417098866078608045110773612628453314584393440188811507004801627400401175980841]]\n",
    "Point1 = [[3445262485486090416635557876197969216001380723018473825051551388354494818148155540065,1254781742894293759806774165208815066138774443188846048389292655192056355454958747595],[3698848314430207862120569604215439125728581496530913974787894032025190971532031088694,2486295705475538445347642585600134508195288001122570350432897918136182776376279066234]]\n",
    "\n",
    "\n",
    "#Action_torsion2\n",
    "action_2 = [\n",
    "[(6345546499363383989866979296587784150161985876274168974347386061873347757755942974, 11759067393472414561371417842241846175802333894391629120575709441610780578478462523),  (5956951030222615074950047488723873823719153400233012479590872335584509118285349953,  8831554221150124376691316850470957307981817553820671035432398389211841970409748418)],\n",
    "    [(4544993222018183966914259898503087271092830121867952073355525841347178059956350098,  15017670907177058841429134906100092587723474205551868940267264622279250458223051787), (8643193266014004860677120270231382403672877679112454145091836235571430296298262452,  10632107498495324399644036248555654187050973308226887936424258609738011668209341294)], \n",
    "    [(10990890860882218874702507578044445983395778488539897613061059076785956515676189145,  3357458945646960854429308991353564098617169406570033295793684104149113877228421380), (838228309056684062716688684364845218553646491211526329756198409673569832938957690, 4186209859631289491855788569014295474748024941554942396718725374299233212489502248)]]\n",
    "\n",
    "\n",
    "#Basis_E0_q\n",
    "Point2 = [[5092837171656275598195162307948633901112407150266955280917770443586800797563693263017,2203400066677010344057425997509323279580293517029639175293723249290931314642053632093],[3261845425850137852703262466766329926312314733314495395667714683540774691021422721689,3329219230165726745693462074219591037397452027388183623795655270705767481828932347963]]\n",
    "Point3 = [[3484336597275161053270404255483124559637485502175099461867617734033391878550107958254,2156282431041995234807058305641714697986531024567538162380762167681392660834533456974],[4906201536034154568209666678165297706019121517090264956812761278775761895094955786276,4121818620214872289771234441495181321836295747090193858583848941989082725313463787089]]\n",
    "\n",
    "\n",
    "\n",
    "#Ideal_P\n",
    "Ideal = [(1/2 ,0, 1270110998062854321922106407256694151154, 1021326697982651975375944303619775216499/2), (0,1/2 , 2444921328621420666060399341507178878835/2, 1270110998062854321922106407256694151154), (0,0,1733124013302036320718171822563477047667,0),(0,0,0,1733124013302036320718171822563477047667)]\n",
    "\n",
    "\n",
    "#Endomorphism\n",
    "iota_basis = [-15737842864611160730910969411859942105794517334,-48552838654278724036186135725847980940716017681, 102894, 42461]\n",
    "\n",
    "\n",
    "pp130=[]\n",
    "pp130.append((t130,n130))\n",
    "pp130.append((Point0,Point1))\n",
    "pp130.append(action_2)\n",
    "pp130.append((Point2,Point3))\n",
    "pp130.append(Ideal)\n",
    "pp130.append(iota_basis)\n",
    "\n",
    "\n",
    "\n",
    "sqiprime130 = SQIPrime_Sigma(p130, q130, e130, window130, pp130)"
   ]
  },
  {
   "cell_type": "code",
   "execution_count": 101,
   "id": "1ddca306-88fc-416d-8f8c-c40916d27803",
   "metadata": {},
   "outputs": [
    {
     "name": "stdout",
     "output_type": "stream",
     "text": [
      "True\n",
      "True\n",
      "True\n",
      "True\n",
      "True\n",
      "True\n",
      "True\n",
      "True\n",
      "True\n",
      "True\n"
     ]
    }
   ],
   "source": [
    "for i in range(10):\n",
    "    pk, sk = sqiprime130.KeyGen()\n",
    "    com, sec = sqiprime130.Commit()\n",
    "    chall = rand.randint(0,q130)\n",
    "    sign = sqiprime130.Response(sk, pk, sec, com, chall)\n",
    "    print(sqiprime130.Verify(pk, chall, sign))"
   ]
  },
  {
   "cell_type": "code",
   "execution_count": 102,
   "id": "a381d3c7-da16-4ba4-9955-7dd0eabade63",
   "metadata": {},
   "outputs": [],
   "source": [
    "#p186\n",
    "\n",
    "p186 = 2**397 * 3**2 * 7**2 * 11**2 -1\n",
    "q186 = 139608035310883914672048824597166248641399835557000865381\n",
    "e186 = 397\n",
    "window186 = [17]\n",
    "\n",
    "t186=  2744129672068600833150548486852094618674761105783364207348105633690519129814523702143292827942270614125642391886528205064712\n",
    "n186 = 16123821995401168995027757975359372930579609244068829574357770106285877712826076501574496175750809376751279413008073126996305\n",
    "\n",
    "\n",
    "\n",
    "#Basis_E0_2\n",
    "Point0 = [[12374456778935531011632826138365041751805961928686577683910741026009432084872724340975984339009347018516837344515662193726972,10131607246038867814230465582983224200218482134110546815276178148735943434071891122747269930429254077602380298141419944915062],\n",
    "          [9157253117553815428914747787760701483062377882265273329576091137417503249165449577067856076812697892398227966818124781218056,9142703822960682291689886043748770569918299962248198551015952921563421403912373632643458819979668609089064567653423472109878]\n",
    "         ]\n",
    "Point1 = [[3489630129332496383864177027964766404791350188822479721556517621017090511522644765100838322100532846323751588748654525839457,13651499103953814021154629969183821071165793674154308190778954700558842213711783086519676659421418567611757175537580316594522],\n",
    "          [4831772612198250594567504092057927754029265144336049529619122971731078855374370584763669811114617844143340567894087690337747,7896291086475571069354444029412583528827821078029550148270736869680524026748324350085730758267976078350227155827406223638082]\n",
    "         ]\n",
    "\n",
    "\n",
    "#Action_torsion2\n",
    "action_2 = [\n",
    "[(221925552353006929861667165251862025144698480142449305051394347996836351731447476070546985900405067252098818758396317837, 124968776902560274135035441737455335604252639184226096956743246458181331555203230454203678189710185563129057693488743142),  \n",
    "     (125297543066899278291618439643836410561223088964896573014140786581052501333895027116876182867461883207587045254269815657,  100855682407856643845322731248514459146514743961203634052438071570744601020657673258158683259612161677389077738197118835)],\n",
    "    [(179150928959218402697994893921203754165135614105307615583292089343041703007500467330119827631729093817684692957949557287,  73004966415862423318789508138005681943335868472344526663476410544343819208443249153114497366782802042418707916708189619),\n",
    "     (318116913173136131062996273363132669360130018558639058317788839247811217802380022772212108344781753671073139086144270389,  143630305801645171008995002579172730126077609998345323520540330224539249744604681998585841528288135111803203538643879385)], \n",
    "    [(164022144283397575804316401343134323337525180385121455997016624297433600470841468416794485058249947176198186314457149722,  223823406554778523197459567024356403989302303558645724029863959469754870397549376900655024270851898416077930670196790925),\n",
    "     (298901659936378960654283599725405610603692169046628285249220937294271747143911030945023186465645316829272836140934654414, 158759090477465997902673495157242160953688043718531483106815795270147352281263680911911184101767281753289710182136286951)]\n",
    "]\n",
    "\n",
    "\n",
    "#Basis_E0_q\n",
    "Point2 = [[12626799199846563667776043949549694459706988971799699444748079754195441736773342731797989718077641731366930365771002269114851,349953787233997958571505037289913557292469677393697142730793281255704322115735536312286412108535055475364060611902226943974],\n",
    "          [3792390310537822306419727855998334540493543118623466581910562737771204056256513182600342621720825919214457805495442922050032,2349561182545344434209559057398706633101704274324098564512046396886318394930324595354822259413026793911993325552776680995873]\n",
    "         ]\n",
    "Point3 = [[4181523486436905133780824125519525980977065858367179189129686212181906694462592686739969856217245013201739725547722714631257,15652075884676866079350002691714119474718145429807329628393033489746668251114313270487135481535123427055376972532350843408715],\n",
    "          [7623050598684746773152734558246343797909160555801404632389753023959788613431740271179874256751057804397873481164930405112697,3909461355485915366147272498763126674206369080864473373490781761221591732125762555587343723419351190882920898973955875861634]\n",
    "         ]\n",
    "\n",
    "#Ideal_P\n",
    "Ideal = [(1/2 ,0, 111799832340486495188652959361954072660736754479629009215, 167676443915047513738544729125503367173629875830414775937/2), (0,1/2 , 111539626706720315605552920068829130109169795283586954825/2, 111799832340486495188652959361954072660736754479629009215), (0,0,139608035310883914672048824597166248641399835557000865381,0),(0,0,0,139608035310883914672048824597166248641399835557000865381)]\n",
    "\n",
    "\n",
    "#Endomorphism\n",
    "iota_basis = [5137738814354726358519137967052469370166658802774112542819620169408,-1404325963927972810848704903964066574422822437158539892681486788050, 45735, 16432]\n",
    "\n",
    "\n",
    "\n",
    "pp186=[]\n",
    "pp186.append((t186,n186))\n",
    "pp186.append((Point0,Point1))\n",
    "pp186.append(action_2)\n",
    "pp186.append((Point2,Point3))\n",
    "pp186.append(Ideal)\n",
    "pp186.append(iota_basis)\n",
    "\n",
    "\n",
    "\n",
    "sqiprime186 = SQIPrime_Sigma(p186, q186, e186, window186, pp186)\n",
    "\n"
   ]
  },
  {
   "cell_type": "code",
   "execution_count": 103,
   "id": "0b9dfd67-cf26-4313-b459-0e5166b8d78f",
   "metadata": {},
   "outputs": [
    {
     "name": "stdout",
     "output_type": "stream",
     "text": [
      "True\n",
      "True\n",
      "True\n",
      "True\n",
      "True\n",
      "True\n",
      "True\n",
      "True\n",
      "True\n",
      "True\n"
     ]
    }
   ],
   "source": [
    "for i in range(10):\n",
    "    pk, sk = sqiprime186.KeyGen()\n",
    "    com, sec = sqiprime186.Commit()\n",
    "    chall = rand.randint(0,q186)\n",
    "    sign = sqiprime186.Response(sk, pk, sec, com, chall)\n",
    "    print(sqiprime186.Verify(pk, chall, sign))"
   ]
  },
  {
   "cell_type": "code",
   "execution_count": 104,
   "id": "922f71bc-4a1f-4584-9140-7245fdee8349",
   "metadata": {},
   "outputs": [],
   "source": [
    "#p240\n",
    "\n",
    "p240 = 2**499 * 3**2 * 7**2 -1 \n",
    "q240 = 2464280664223269984651655821505754297856674907148353228398431687157640139\n",
    "e240 = 499\n",
    "window240 = [24]\n",
    "\n",
    "t240=  693045578339544409110074003857008189720262219616499531844335537477418358427772651851153706554322855073017460523828748286806756991158728971392407295828081\n",
    "n240 = 695161388861380828564646472914593619400953431720886999671267196566212600028596555716999418781881700605690401546451051996140616236229809473121678253708726\n",
    "\n",
    "\n",
    "\n",
    "#Basis_E0_2\n",
    "Point0 = [[108593063177871754454764607153771817572350568981166223349906037110916217514875586594552694287834706190197247136977232409326081843014100109860802483061800,318110838794343255561528645418321648204976385023328619651702070604735045217179276340547096911545650128316185640275416668444903278430979258887146970001885],\n",
    "          [548036899958241949100165784708137716279983198213551116073050423393270760386479721072996215331986058855110818547280687652176291936749159296767271515978662,90109889716597863839501144148123711186682113416584179763900253368792504341444513891811874198153722626456384209180877213770963743174198552216842479826801]\n",
    "         ]\n",
    "\n",
    "Point1 = [[587833157677285445947531411789884181282163285818480613150980627148598557676973186737463109232668489969609066029344786286760344605419191577735496325972672,59315284737431754563311937556595031724420874591745153175389763031135175061076129140490695535054993414228702804260787659962548689578569108324714927605504],\n",
    "          [261548432820264206569455293762983232549378355165243292490300172354760912190655721291747018726778993009601927783236563123738080397280283732928780848130444,98961817381834456804107581235753897219035211318979127848888031262703798410181100450060301487386057721427584184112529999822164458853595458993648493623265]\n",
    "         ]\n",
    "\n",
    "\n",
    "#Action_torsion2\n",
    "action_2 = [\n",
    "[(1185438652679329363798905643071588529308118610891355761474882381664722684600584585024980648768149737323826483991890811904844671268294006912788547411835, 1515365512149626155001653239920114377557637482480484738663042546977728990432591089393412039304685355995199918459818024778123387601815634183133068902453),  \n",
    "     (1006938291574953565930916707758846245895431983726128684914416913594793759271133839042593422099302934869019655886401431223680030436170878808124683360270,  451256651268741571207689205342211046800202412130176633266763302383344213601752692416654397394802341251616858071889223599763957004648689613875716382853)],\n",
    "    [(1494294252938158083985256638181854108323911062681735387622492963786763679121630916557907146082554556835780699800214767418230296909584176177183583149510,  1193272525556541262252973945519525015208683502962143256906438517664975592990774606797905810913626742763321843859933609402919152569803504570078782002308),\n",
    "     (1198342991471254390865435663529056400983696271521859210271461485898581134624115707846297710952728532860824722652444795224779479434086771925367193466071,  142401051009912851021338210231945467784409960339797007119152720261303219080706360883727900080397521739662642263565268086378331363358520349480680645178)], \n",
    "    [(1614540060606358679049655728156131402368168356852126161068522191338964999587149846854703106203942582642354973959797510111115323050721893977196517243046,  1297295508923253839388184819341945195353503328742292569657571688217459385508644482920963438185064812332772874577863903944522128819542941883272309976430),\n",
    "     (1114945406221895898046528530583634906308604514937157105221876413013256049917172906348881874178552935186889847938916871039534377714537475435496917304455, 22155243341712255956939120257668173740152666169406233673123492709101898615187430586931939959009495933088368103982525393493305222220802549467746551643)]\n",
    "]\n",
    "\n",
    "\n",
    "#Basis_E0_q\n",
    "Point2 = [[371795474263631819880757041112411967378779282783200199630031784406042463509778665618652332986862927594816859687169205737359016453645256134477094066218994,439546761124321113448759345471543122212862568489000265080841177328621042567087862872785558894136976843343201749521163899857864917645690938414081735137288],\n",
    "          [404246900092213605071672945317079655641088937217713629452647209930835727782527349766928371431994263095027596807626790010993042170506643458087132761309499,571698442772935794735176774569498820834188421710313287986277579115228566256735876413030174080655179356350500196984865187247691728524112064934297763268078]\n",
    "         ]\n",
    "Point3 = [[561457643600366077226171470133665718287798056280960105049159139347837115460542324972514198912348621274850363483951519608334123455170947116608155893259029,212059581749296361483954487555792015251522364312381247837332554603088157170016696109704852731423167406122897523217495305469223175738728478557482912044687],\n",
    "          [461323228589262610015476987974415020864641745967324542004076070540099163539620739964784575449743091999983885077457075136329739333031476556536953786156792,99962042974332995331099644543309015150700947494536248197672096970114873752175023034315893953854902918436336376631914235885632178256996545411763202770094]\n",
    "         ]\n",
    "\n",
    "#Ideal_P\n",
    "Ideal = [(1/2 ,0, 441165414043718980989607351008276078212256461350516168856057648618394950, 4075542332359996968878645500906438518040477656673130656716135122502354615/2), (0,1/2 , 853018996086543000424666142105070077672872157623575800080728251812925663/2, 441165414043718980989607351008276078212256461350516168856057648618394950), (0,0,2464280664223269984651655821505754297856674907148353228398431687157640139,0),(0,0,0,2464280664223269984651655821505754297856674907148353228398431687157640139)]\n",
    "\n",
    "\n",
    "#Endomorphism\n",
    "iota_basis = [-550385343674398044454077299908570666942499249273213761135728748903647941279709063,141926718208843806621959812621528332860397977982800225835362045587328179255313196, 98620, 42771]\n",
    "\n",
    "\n",
    "\n",
    "pp240=[]\n",
    "pp240.append((t240,n240))\n",
    "pp240.append((Point0,Point1))\n",
    "pp240.append(action_2)\n",
    "pp240.append((Point2,Point3))\n",
    "pp240.append(Ideal)\n",
    "pp240.append(iota_basis)\n",
    "\n",
    "\n",
    "\n",
    "sqiprime240 = SQIPrime_Sigma(p240, q240, e240, window240, pp240)\n",
    "\n"
   ]
  },
  {
   "cell_type": "code",
   "execution_count": 105,
   "id": "8834c35d-1caa-4c64-8e35-e9f8b3e87a39",
   "metadata": {},
   "outputs": [
    {
     "name": "stdout",
     "output_type": "stream",
     "text": [
      "True\n",
      "True\n",
      "True\n",
      "True\n",
      "True\n",
      "True\n",
      "True\n",
      "True\n",
      "True\n",
      "True\n"
     ]
    }
   ],
   "source": [
    "for i in range(10):\n",
    "    pk, sk = sqiprime240.KeyGen()\n",
    "    com, sec = sqiprime240.Commit()\n",
    "    chall = rand.randint(0,q240)\n",
    "    sign = sqiprime240.Response(sk, pk, sec, com, chall)\n",
    "    print(sqiprime240.Verify(pk, chall, sign))"
   ]
  },
  {
   "cell_type": "code",
   "execution_count": null,
   "id": "b316120d-3fd8-4bd1-bdbd-e10a52ee2e0b",
   "metadata": {},
   "outputs": [],
   "source": []
  },
  {
   "cell_type": "code",
   "execution_count": null,
   "id": "0b85203d-86b8-46e7-af5c-b372ed7d7bdd",
   "metadata": {},
   "outputs": [],
   "source": []
  },
  {
   "cell_type": "code",
   "execution_count": null,
   "id": "ed7c02bf-4b4b-4448-ab64-0d5c0f14e6d7",
   "metadata": {},
   "outputs": [],
   "source": []
  },
  {
   "cell_type": "code",
   "execution_count": null,
   "id": "f01c3c84-f3db-48e8-ae37-410e1ae5e0ce",
   "metadata": {},
   "outputs": [],
   "source": []
  },
  {
   "cell_type": "code",
   "execution_count": null,
   "id": "a01b8971-c9fd-443f-83bc-96c7100a1d2f",
   "metadata": {},
   "outputs": [],
   "source": []
  },
  {
   "cell_type": "code",
   "execution_count": null,
   "id": "ccaa183b-8750-4b7a-9b83-1349a3d8e10f",
   "metadata": {},
   "outputs": [],
   "source": []
  },
  {
   "cell_type": "code",
   "execution_count": null,
   "id": "1c66344d-7076-462b-b3cc-f04a34612363",
   "metadata": {},
   "outputs": [],
   "source": []
  }
 ],
 "metadata": {
  "kernelspec": {
   "display_name": "SageMath 10.4",
   "language": "sage",
   "name": "sagemath-10.4"
  },
  "language_info": {
   "codemirror_mode": {
    "name": "ipython",
    "version": 3
   },
   "file_extension": ".py",
   "mimetype": "text/x-python",
   "name": "python",
   "nbconvert_exporter": "python",
   "pygments_lexer": "ipython3",
   "version": "3.12.4"
  }
 },
 "nbformat": 4,
 "nbformat_minor": 5
}
