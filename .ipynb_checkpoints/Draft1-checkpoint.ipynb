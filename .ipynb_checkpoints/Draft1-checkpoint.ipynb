{
 "cells": [
  {
   "cell_type": "code",
   "execution_count": 97,
   "id": "0cce6b7e-0d81-490f-b04a-aa2c8a5312bb",
   "metadata": {},
   "outputs": [],
   "source": [
    "from sage.all import (\n",
    "    EllipticCurve,\n",
    "    randint,\n",
    "    ZZ,\n",
    "    discrete_log,\n",
    "    GF,\n",
    "    matrix,\n",
    "    block_matrix,\n",
    "    set_random_seed\n",
    ")\n",
    "from sage.modules.free_module_integer import IntegerLattice\n",
    "\n",
    "import quaternion as quat\n",
    "import endomorphism as End\n",
    "import elliptic_curve as elc\n",
    "import parameter_generate as param\n",
    "import d2isogeny\n",
    "import supersingular\n",
    "import compression\n",
    "import richelot_isogenies as richelot\n",
    "import utilities_festa as utilities\n",
    "import random as rand\n",
    "from utilities.strategy import optimised_strategy\n"
   ]
  },
  {
   "cell_type": "code",
   "execution_count": null,
   "id": "19833b36-35d0-4a62-83aa-82916983863c",
   "metadata": {},
   "outputs": [],
   "source": []
  },
  {
   "cell_type": "code",
   "execution_count": null,
   "id": "ed3082b2-55f6-4cdf-9d0f-b6dd2d662183",
   "metadata": {},
   "outputs": [],
   "source": []
  },
  {
   "cell_type": "code",
   "execution_count": null,
   "id": "90afb88d-7877-4ddb-ae4a-a2ec9c97539c",
   "metadata": {},
   "outputs": [],
   "source": []
  },
  {
   "cell_type": "code",
   "execution_count": null,
   "id": "aa1fdda1-66be-4110-b953-0d70f135388c",
   "metadata": {},
   "outputs": [],
   "source": []
  },
  {
   "cell_type": "code",
   "execution_count": 12,
   "id": "a296cdf1-d70f-46b1-b315-3043c8f3cc2f",
   "metadata": {},
   "outputs": [],
   "source": [
    "#SQIPrime Stuff to compute"
   ]
  },
  {
   "cell_type": "code",
   "execution_count": null,
   "id": "eb0fd97c-de44-4215-b71d-0bb140347d5d",
   "metadata": {},
   "outputs": [],
   "source": []
  },
  {
   "cell_type": "code",
   "execution_count": 29,
   "id": "54bb3c4d-74d1-44e0-999c-50e30789fbdd",
   "metadata": {},
   "outputs": [],
   "source": [
    "#Compute GF(p^4), its restriction GF(p^2) such that GF(p^2)=F_p[x]/(x^2+1) with root i. \n",
    "def calcFields(p):\n",
    "    assert p % 4 == 3\n",
    "    R = PolynomialRing(GF(p), name=\"x\")\n",
    "    x = R.gens()[0]\n",
    "    Fp2 = GF(p**2, modulus=x**2+1, name=\"i\")\n",
    "    z = Fp2.random_element()\n",
    "    while z.is_square():\n",
    "        z = Fp2.random_element()\n",
    "    t = ZZ(z + z**p)\n",
    "    n = ZZ(z**(p+1))\n",
    "    R = PolynomialRing(ZZ, name=\"x\")\n",
    "    x = R.gens()[0]\n",
    "    Fp4 = GF(p**4, modulus=x**4 - t*x**2 + n, name=\"z\")\n",
    "    Fp2 = Fp4.subfield(2)\n",
    "    i = Fp2(-1).sqrt()\n",
    "    return Fp4, Fp2, i\n",
    "\n",
    "#Compute a random point in E(Fp^4)[l^e].\n",
    "def point_ord_4(E, l, e):\n",
    "    assert is_prime(l)\n",
    "    p = E.base_ring().characteristic()\n",
    "    assert (p^2 - 1) % l**e == 0\n",
    "    P = (p^2 - 1)//(l**e)*E.random_point()\n",
    "    while (l**(e-1)*P).is_zero():\n",
    "        P = (p^2 - 1)//(l**e)*E.random_point()\n",
    "    assert (l**e*P).is_zero()\n",
    "    if P[1][0] >= (p^2 - 1)//2 or (P[1][0] == 0 and P[1][1] >= (p^2 - 1)//2):   # even if the seed of random_point is fixed, the sign of point is random.\n",
    "        P = -P\n",
    "    return P\n",
    "    \n",
    "def basis_4(E, l, e):\n",
    "    P = point_ord_4(E, l, e)\n",
    "    Q = point_ord_4(E, l, e)\n",
    "    while (l**(e-1)*P).weil_pairing(l**(e-1)*Q, l) == 1:\n",
    "        Q = point_ord_4(E, l, e)\n",
    "    return P, Q\n",
    "\n"
   ]
  },
  {
   "cell_type": "code",
   "execution_count": 30,
   "id": "4995c337-ff28-416b-87b1-73c99e3ca787",
   "metadata": {},
   "outputs": [],
   "source": [
    "def image_matrices(basis, N, zeta2, F2):\n",
    "    one = [1,0,0,0]\n",
    "    Ms = []\n",
    "    for alpha in [one[-i:]+one[:-i] for i in range(1, 4)]:\n",
    "        Ms.append(image_matrix(alpha, basis, N, zeta2, F2))\n",
    "    return Ms\n",
    "    \n",
    "def image_matrix(alpha, basis, N, zeta2, F2):\n",
    "    P, Q = basis\n",
    "    aP, aQ = [End.action(alpha, R, zeta2, F2) for R in [P, Q]]\n",
    "    return (aP,aQ)\n",
    "\n",
    "def action_image(alpha, images_list, basis):\n",
    "    retP, retQ = alpha[0]*basis[0], alpha[0]*basis[1]\n",
    "    for i in range(1,4):\n",
    "        retP += alpha[i]* images_list[i-1][0]        \n",
    "        retQ += alpha[i]* images_list[i-1][1]\n",
    "    return (retP, retQ)\n",
    "\n"
   ]
  },
  {
   "cell_type": "code",
   "execution_count": 46,
   "id": "011229cd-4fd0-4e5d-ac3d-19b4fce78266",
   "metadata": {},
   "outputs": [
    {
     "name": "stdout",
     "output_type": "stream",
     "text": [
      "(4417796384799466535270653410996022843738211028631409493418472968760704010008484643314*z^2 + 5276011983880659506065805611948706365878823140207941827132466406210734709086921580063 : 4669241696968583596307076539261848755297664586548523538863719218345398261288319806708*z^2 + 3517365244553552965873890133882044847163405663203162395942292893994048411847501056683 : 1)\n"
     ]
    },
    {
     "data": {
      "text/plain": [
       "(4417796384799466535270653410996022843738211028631409493418472968760704010008484643314*z^2 + 5276011983880659506065805611948706365878823140207941827132466406210734709086921580063 : 4669241696968583596307076539261848755297664586548523538863719218345398261288319806708*z^2 + 3517365244553552965873890133882044847163405663203162395942292893994048411847501056683 : 1)"
      ]
     },
     "execution_count": 46,
     "metadata": {},
     "output_type": "execute_result"
    }
   ],
   "source": [
    "image_action_2 =  image_matrices(Basis_2, q, zeta, Fp4)\n",
    "alpha=[0,0,0,2]\n",
    "print(action_image(alpha, image_action_2, Basis_2)[0])\n",
    "vP = End.action_by_matrices(alpha, [1, 0], action_matrices_2)\n",
    "vP[0]*Basis_2[0] + vP[1]*Basis_2[1]\n"
   ]
  },
  {
   "cell_type": "code",
   "execution_count": 42,
   "id": "ce926600-b4fa-462c-b9fe-8edaab9d8ab8",
   "metadata": {},
   "outputs": [],
   "source": [
    "def FindPrecomputedBasis(E,basis, Qalgebra, Basis0, image_action, zeta, d):\n",
    "    assert E == EllipticCurve(Fp4, [0, Fp4(0), 0, 1, 0])\n",
    "    p = E.base_ring().characteristic()\n",
    "    P,Q = basis[0],basis[1]\n",
    "    Ideal_0 = Qalgebra.ideal(Basis0)\n",
    "    assert d*P == E(0) and d*Q == E(0)\n",
    "    c=1\n",
    "    while gcd(c,d) != 1 or c * d < p:\n",
    "        c = rand.randint(p>>64,p)\n",
    "    c *=  d\n",
    "    alpha = quat.FullRepresentInteger(c,p)\n",
    "    a, b = rand.randint(1, d), rand.randint(1, d)\n",
    "    R,S = E(0), E(0)\n",
    "    while R == E(0):\n",
    "        while( a % d == 0 or b % d == 0):\n",
    "            a, b = rand.randint(1, d), rand.randint(1, d)\n",
    "        vP = action_image(alpha,image_action, basis)\n",
    "        R = a*vP[0] + b*vP[1]\n",
    "    alpha_endo = Qalgebra(0)\n",
    "    for j in range(4):\n",
    "        alpha_endo += Basis0[j]*alpha[j]\n",
    "    Ideal_P = Ideal_0*conjugate(alpha_endo)+ (Ideal_0*d)\n",
    "    \n",
    "    inter_image = image_matrices((R,S), d, zeta, Fp4)\n",
    "    n = rand.randint(p<<10, p<<32)\n",
    "    while gcd(n,d) != 1:\n",
    "        n = rand.randint(16*p, 128*p)\n",
    "    iota = quat.FullRepresentInteger(n,p)\n",
    "    wP = action_image(iota, inter_image ,(R,S))\n",
    "    S = wP[0] \n",
    "    while R.weil_pairing(S, d) == 1:\n",
    "        while gcd(n,d)  != 1 or n*d<p:\n",
    "            n = rand.randint(4*p, p*d)\n",
    "        iota = quat.FullRepresentInteger(n,p)\n",
    "        wP = action_image(iota, inter_image, vP)\n",
    "        S  = wP[0] \n",
    "\n",
    "    return (R,S), iota, Ideal_P"
   ]
  },
  {
   "cell_type": "code",
   "execution_count": 43,
   "id": "4aca16f4-ef4f-4d30-aefd-5fd5ec4c4ad3",
   "metadata": {},
   "outputs": [],
   "source": [
    "(R,S), iota, Ideal_P = FindPrecomputedBasis(E0, Basis_q, Q, O0_basis,image_action_q, zeta, q)\n",
    "image_RS = image_matrices((R,S), q, zeta, Fp4)\n",
    "Im = action_image(iota, image_RS, (R,S))\n",
    "assert Im[0]==S"
   ]
  },
  {
   "cell_type": "code",
   "execution_count": null,
   "id": "3784a43b-66c3-4d56-8780-aa2067ccd950",
   "metadata": {},
   "outputs": [],
   "source": [
    "#Ideal Computation\n",
    "#To check tomorrow as we do not have the same values in each cases"
   ]
  },
  {
   "cell_type": "code",
   "execution_count": 45,
   "id": "3fd48930-2e99-4873-850c-26a1991ef0c2",
   "metadata": {},
   "outputs": [
    {
     "data": {
      "text/plain": [
       "1733124013302036320718171822563477047667"
      ]
     },
     "execution_count": 45,
     "metadata": {},
     "output_type": "execute_result"
    }
   ],
   "source": [
    "Ideal_P.norm()"
   ]
  },
  {
   "cell_type": "code",
   "execution_count": 51,
   "id": "e3fef91c-303a-40fe-895d-b9ab669f95cd",
   "metadata": {},
   "outputs": [
    {
     "data": {
      "text/plain": [
       "Order of Quaternion Algebra (-1, -5478933360105376520327544909088205666389913038264237243530502186841753491867814592511) with base ring Rational Field with basis (1/2 + 1/2*k, 1/2*i + 1/2*j, j, k)"
      ]
     },
     "execution_count": 51,
     "metadata": {},
     "output_type": "execute_result"
    }
   ],
   "source": [
    "Q = QuaternionAlgebra(-1, -p)\n",
    "O0_basis = (Q((1,0,0,0)),Q((0,1,0,0)),Q((0,1/2,1/2,0)),Q((1/2,0,0,1/2)))\n",
    "\n",
    "Ideal_0 = Q.ideal(O0_basis)\n",
    "assert Ideal_0.right_order() == Ideal_0.left_order()\n",
    "assert Ideal_0.is_integral()\n",
    "Ideal_0.right_order()"
   ]
  },
  {
   "cell_type": "code",
   "execution_count": 59,
   "id": "3bc8ddbe-b5a5-4357-8ae5-a444f61e4a9b",
   "metadata": {},
   "outputs": [
    {
     "data": {
      "text/plain": [
       "-11776973863690823715571178087351796816015213074695057332559763 - 42677738730087437964177968661217985594809368870172381091899883*i + 3202173214672078119*j + 2288969200457936412*k"
      ]
     },
     "execution_count": 59,
     "metadata": {},
     "output_type": "execute_result"
    }
   ],
   "source": [
    "alpha_endo = Q(0)\n",
    "for i in range(4):\n",
    "    alpha_endo += O0_basis[i]*alpha[i]\n",
    "alpha_endo"
   ]
  },
  {
   "cell_type": "code",
   "execution_count": 65,
   "id": "98e22d30-8364-4258-8f63-d99829b24612",
   "metadata": {},
   "outputs": [
    {
     "data": {
      "text/plain": [
       "Order of Quaternion Algebra (-1, -5478933360105376520327544909088205666389913038264237243530502186841753491867814592511) with base ring Rational Field with basis (1/2 + 1733124013302036320718171822563477047667/2*k, 1/3466248026604072641436343645126954095334*i + 2721560234974109659751734093928868056177/3466248026604072641436343645126954095334*j + 2942051337433669563303991637113627630550071529479572878398678482603760500643296/1733124013302036320718171822563477047667*k, j + 1003047726320503976094624032642653498434*k, 1733124013302036320718171822563477047667*k)"
      ]
     },
     "execution_count": 65,
     "metadata": {},
     "output_type": "execute_result"
    }
   ],
   "source": [
    "I = Ideal_0*conjugate(alpha_endo)+ (Ideal_0*q)\n",
    "I.right_order()"
   ]
  },
  {
   "cell_type": "code",
   "execution_count": null,
   "id": "acf66889-e15a-4e76-9bfa-3838d62ac68b",
   "metadata": {},
   "outputs": [],
   "source": []
  },
  {
   "cell_type": "code",
   "execution_count": null,
   "id": "21e74d22-154d-417c-8430-d644cd33075a",
   "metadata": {},
   "outputs": [],
   "source": []
  },
  {
   "cell_type": "code",
   "execution_count": 67,
   "id": "015da32f-04f5-4bff-860d-a3c197e56ea5",
   "metadata": {},
   "outputs": [
    {
     "data": {
      "text/plain": [
       "1733124013302036320718171822563477047667"
      ]
     },
     "execution_count": 67,
     "metadata": {},
     "output_type": "execute_result"
    }
   ],
   "source": [
    "q"
   ]
  },
  {
   "cell_type": "code",
   "execution_count": null,
   "id": "5de560f3-7705-44ab-9c72-ff966ef8c28b",
   "metadata": {},
   "outputs": [],
   "source": [
    "#SQIPrime SETUP:"
   ]
  },
  {
   "cell_type": "code",
   "execution_count": 3,
   "id": "995ea2b1-b6ba-49ae-9498-a73b57ff3000",
   "metadata": {},
   "outputs": [
    {
     "ename": "NameError",
     "evalue": "name 'param' is not defined",
     "output_type": "error",
     "traceback": [
      "\u001b[0;31m---------------------------------------------------------------------------\u001b[0m",
      "\u001b[0;31mNameError\u001b[0m                                 Traceback (most recent call last)",
      "Cell \u001b[0;32mIn[3], line 4\u001b[0m\n\u001b[1;32m      2\u001b[0m p \u001b[38;5;241m=\u001b[39m Integer(\u001b[38;5;241m2\u001b[39m) \u001b[38;5;241m*\u001b[39m\u001b[38;5;241m*\u001b[39m Integer(\u001b[38;5;241m273\u001b[39m) \u001b[38;5;241m*\u001b[39m Integer(\u001b[38;5;241m19\u001b[39m) \u001b[38;5;241m*\u001b[39m\u001b[38;5;241m*\u001b[39m Integer(\u001b[38;5;241m2\u001b[39m) \u001b[38;5;241m-\u001b[39mInteger(\u001b[38;5;241m1\u001b[39m)\n\u001b[1;32m      3\u001b[0m q\u001b[38;5;241m=\u001b[39m Integer(\u001b[38;5;241m1733124013302036320718171822563477047667\u001b[39m)\n\u001b[0;32m----> 4\u001b[0m Fp4, Fp2, zeta \u001b[38;5;241m=\u001b[39m \u001b[43mparam\u001b[49m\u001b[38;5;241m.\u001b[39mcalcFields(p)\n\u001b[1;32m      5\u001b[0m \u001b[38;5;66;03m#Fp4.base_ring()\u001b[39;00m\n\u001b[1;32m      6\u001b[0m \n\u001b[1;32m      7\u001b[0m \u001b[38;5;66;03m#Compute the Standard basis\u001b[39;00m\n\u001b[1;32m      8\u001b[0m E0 \u001b[38;5;241m=\u001b[39m EllipticCurve(Fp4, [Integer(\u001b[38;5;241m0\u001b[39m), Fp4(Integer(\u001b[38;5;241m0\u001b[39m)), Integer(\u001b[38;5;241m0\u001b[39m), Integer(\u001b[38;5;241m1\u001b[39m), Integer(\u001b[38;5;241m0\u001b[39m)]) \u001b[38;5;66;03m#Curves are in the Montgomery model\u001b[39;00m\n",
      "\u001b[0;31mNameError\u001b[0m: name 'param' is not defined"
     ]
    }
   ],
   "source": [
    "#Fix the prime field\n",
    "p = 2 ^ 273 * 19 ^ 2 -1\n",
    "q= 1733124013302036320718171822563477047667\n",
    "Fp4, Fp2, zeta = param.calcFields(p)\n",
    "#Fp4.base_ring()\n",
    "\n",
    "#Compute the Standard basis\n",
    "E0 = EllipticCurve(Fp4, [0, Fp4(0), 0, 1, 0]) #Curves are in the Montgomery model\n",
    "Basis_2 = basis_4(E0,2,273)\n",
    "Basis_q = basis_4(E0,q,1)\n",
    "action_matrices_2 = End.action_matrices(Basis_2, 2^273, zeta, Fp4)\n",
    "image_action_q =  image_matrices(Basis_q, q, zeta, Fp4)\n",
    "#image_action_2 =  image_matrices(Basis_2, q, zeta, Fp4)\n",
    "\n",
    "#Compute the Precomputed Basis.\n",
    "Quat_alg = QuaternionAlgebra(-1, -p)\n",
    "O0_basis = (Q((1,0,0,0)),Q((0,1,0,0)),Q((0,1/2,1/2,0)),Q((1/2,0,0,1/2)))\n",
    "(R,S), iota, Ideal_P = FindPrecomputedBasis(E0, Basis_q, Quat_alg, O0_basis,image_action_q, zeta, q)\n",
    "image_q = image_matrices((R,S), q, zeta, Fp4)\n",
    "Im = action_image(iota, image_q, (R,S))\n",
    "assert Im[0]==S\n"
   ]
  },
  {
   "cell_type": "code",
   "execution_count": null,
   "id": "e924016a-a45e-4e3f-bc83-51478a01cbf3",
   "metadata": {},
   "outputs": [],
   "source": []
  },
  {
   "cell_type": "code",
   "execution_count": null,
   "id": "f145b3a1-4c9a-4182-b75d-13a0d55c7c8b",
   "metadata": {},
   "outputs": [],
   "source": []
  },
  {
   "cell_type": "code",
   "execution_count": null,
   "id": "6a880f75-3564-4d3d-a3ce-2d0ac4f3550e",
   "metadata": {},
   "outputs": [],
   "source": [
    "#SQIPrime KeyGen"
   ]
  },
  {
   "cell_type": "code",
   "execution_count": null,
   "id": "f70366e0-d0e7-45f9-adb3-9873bf2a8f15",
   "metadata": {},
   "outputs": [],
   "source": []
  },
  {
   "cell_type": "code",
   "execution_count": 330,
   "id": "2a3d7ffa-06d4-4e19-a0e9-5816264ce275",
   "metadata": {},
   "outputs": [],
   "source": []
  },
  {
   "cell_type": "code",
   "execution_count": 398,
   "id": "366d4968-a332-4495-8a66-1b6ce1c35bf2",
   "metadata": {},
   "outputs": [],
   "source": [
    "R,S = NonSmoothRandomIsog(273, q, basis2, action_matrices, strategy, True)"
   ]
  },
  {
   "cell_type": "code",
   "execution_count": 399,
   "id": "a922097f-e51a-4109-9cda-05150350292c",
   "metadata": {},
   "outputs": [
    {
     "data": {
      "text/plain": [
       "Elliptic Curve defined by y^2 = x^3 + (5264815805662272042150242956617979690985558890988056461059201972517704382646220818306*i+3380888534640681589487218976860051796789414652290119301138385217698324773251323623731)*x^2 + x over Finite Field in i of size 5478933360105376520327544909088205666389913038264237243530502186841753491867814592511^2"
      ]
     },
     "execution_count": 399,
     "metadata": {},
     "output_type": "execute_result"
    }
   ],
   "source": [
    "R.curve()"
   ]
  },
  {
   "cell_type": "code",
   "execution_count": 418,
   "id": "ea0baeb0-3c51-4f8b-b5a2-742235ca1eb9",
   "metadata": {},
   "outputs": [],
   "source": [
    "E0t=E0.quadratic_twist()\n"
   ]
  },
  {
   "cell_type": "code",
   "execution_count": 2,
   "id": "ffdde749-fe53-49d8-99c1-d95a5b90df6e",
   "metadata": {},
   "outputs": [],
   "source": [
    "def point_ord_twist(E, l, e):\n",
    "    assert is_prime(l)\n",
    "    p = E.base_ring().characteristic()\n",
    "    assert (p - 1) % l**e == 0\n",
    "    P = (p - 1)//(l**e)*E.random_point()\n",
    "    while (l**(e-1)*P).is_zero():\n",
    "        P = (p - 1)//(l**e)*E.random_point()\n",
    "    assert (l**e*P).is_zero()\n",
    "    if P[1][0] >= (p - 1)//2 or (P[1][0] == 0 and P[1][1] >= (p - 1)//2):   # even if the seed of random_point is fixed, the sign of point is random.\n",
    "        P = -P\n",
    "    return P\n",
    "    \n",
    "def basis_twist(E, l, e):\n",
    "    P = point_ord_twist(E, l, e)\n",
    "    Q = point_ord_twist(E, l, e)\n",
    "    while (l**(e-1)*P).weil_pairing(l**(e-1)*Q, l) == 1:\n",
    "        Q = point_ord_twist(E, l, e)\n",
    "    return P, Q\n",
    "\n",
    "def point_ord_4(E, l, e):\n",
    "    assert is_prime(l)\n",
    "    p = E.base_ring().characteristic()\n",
    "    assert (p^2 - 1) % l**e == 0\n",
    "    P = (p^2 - 1)//(l**e)*E.random_point()\n",
    "    while (l**(e-1)*P).is_zero():\n",
    "        P = (p^2 - 1)//(l**e)*E.random_point()\n",
    "    assert (l**e*P).is_zero()\n",
    "    if P[1][0] >= (p^2 - 1)//2 or (P[1][0] == 0 and P[1][1] >= (p^2 - 1)//2):   # even if the seed of random_point is fixed, the sign of point is random.\n",
    "        P = -P\n",
    "    return P\n",
    "    \n",
    "def basis_4(E, l, e):\n",
    "    P = point_ord_4(E, l, e)\n",
    "    Q = point_ord_4(E, l, e)\n",
    "    while (l**(e-1)*P).weil_pairing(l**(e-1)*Q, l) == 1:\n",
    "        Q = point_ord_4(E, l, e)\n",
    "    return P, Q\n",
    "\n"
   ]
  },
  {
   "cell_type": "code",
   "execution_count": null,
   "id": "d41b80c6-ce85-41a0-a64a-86a8c13d2481",
   "metadata": {},
   "outputs": [],
   "source": []
  },
  {
   "cell_type": "code",
   "execution_count": null,
   "id": "72c05fdd-5284-4a4c-93ae-539742dc77a8",
   "metadata": {},
   "outputs": [],
   "source": []
  },
  {
   "cell_type": "code",
   "execution_count": null,
   "id": "709e843e-1423-444e-b778-cc13b2c7de43",
   "metadata": {},
   "outputs": [],
   "source": []
  },
  {
   "cell_type": "code",
   "execution_count": null,
   "id": "d1965047-a596-40a0-8c9b-f7599a203c4d",
   "metadata": {},
   "outputs": [],
   "source": []
  },
  {
   "cell_type": "code",
   "execution_count": 4,
   "id": "36c1aae9-ed43-4973-8740-7dceb0fe9384",
   "metadata": {},
   "outputs": [
    {
     "ename": "NameError",
     "evalue": "name 'basis2' is not defined",
     "output_type": "error",
     "traceback": [
      "\u001b[0;31m---------------------------------------------------------------------------\u001b[0m",
      "\u001b[0;31mNameError\u001b[0m                                 Traceback (most recent call last)",
      "Cell \u001b[0;32mIn[4], line 1\u001b[0m\n\u001b[0;32m----> 1\u001b[0m P,Q \u001b[38;5;241m=\u001b[39m \u001b[43mbasis2\u001b[49m\n\u001b[1;32m      2\u001b[0m Pq,Qq\u001b[38;5;241m=\u001b[39m basisq\n\u001b[1;32m      3\u001b[0m alpha \u001b[38;5;241m=\u001b[39m quat\u001b[38;5;241m.\u001b[39mFullRepresentInteger(q\u001b[38;5;241m*\u001b[39m(Integer(\u001b[38;5;241m2\u001b[39m)\u001b[38;5;241m*\u001b[39m\u001b[38;5;241m*\u001b[39mInteger(\u001b[38;5;241m273\u001b[39m)\u001b[38;5;241m-\u001b[39mq),p)\n",
      "\u001b[0;31mNameError\u001b[0m: name 'basis2' is not defined"
     ]
    }
   ],
   "source": [
    "P,Q = basis2\n",
    "Pq,Qq= basisq\n",
    "alpha = quat.FullRepresentInteger(q*(2^273-q),p)\n",
    "vP = End.action_by_matrices(alpha, [1, 0], action_matrices)\n",
    "alphaP = vP[0]*P + vP[1]*Q\n",
    "vQ = End.action_by_matrices(alpha, [0, 1], action_matrices)\n",
    "alphaQ = vQ[0]*P + vQ[1]*Q\n",
    "\n",
    "X = D2IsogenyImage(E0, E0, (2**273 - q)*P, (2**273 - q)*Q, alphaP, alphaQ, 273, [(Pq, E0(0))], strategy, True)"
   ]
  },
  {
   "cell_type": "code",
   "execution_count": null,
   "id": "2aa9bbf3-3f8a-495e-af6b-5d83568ff516",
   "metadata": {},
   "outputs": [],
   "source": []
  },
  {
   "cell_type": "code",
   "execution_count": null,
   "id": "f19caeee-c851-4c84-b2f6-98aa5903fc23",
   "metadata": {},
   "outputs": [],
   "source": []
  },
  {
   "cell_type": "code",
   "execution_count": null,
   "id": "32b58060-f64e-48c1-a0dc-6eccb3ec2129",
   "metadata": {},
   "outputs": [],
   "source": []
  },
  {
   "cell_type": "code",
   "execution_count": null,
   "id": "0c76b91b-1ebc-4436-9aa8-5fb2749a402a",
   "metadata": {},
   "outputs": [],
   "source": []
  },
  {
   "cell_type": "code",
   "execution_count": null,
   "id": "59cfec5f-6495-4f86-bc93-eef3921f0739",
   "metadata": {},
   "outputs": [],
   "source": []
  },
  {
   "cell_type": "code",
   "execution_count": null,
   "id": "fc6d31e1-fa79-4d6f-9614-db97e6238017",
   "metadata": {},
   "outputs": [],
   "source": []
  },
  {
   "cell_type": "markdown",
   "id": "702f8777-53c9-4131-90a1-98080c652cb1",
   "metadata": {},
   "source": [
    "## Response in separate part (for Debug)"
   ]
  },
  {
   "cell_type": "code",
   "execution_count": 180,
   "id": "36785061-c11c-4cd9-a74e-967eb3114936",
   "metadata": {},
   "outputs": [],
   "source": [
    "chall = rand.randint(0,q)  \n"
   ]
  },
  {
   "cell_type": "code",
   "execution_count": 181,
   "id": "6f28c6d0-ce6a-4857-9f33-02c9b10183c9",
   "metadata": {},
   "outputs": [],
   "source": [
    "E_A,(R,S) = public_key \n",
    "Phi_A, I_tau, I_rho, Mask_matrix = secret_key\n",
    "E_1, BasisE1_2 = commit\n",
    "I_psi, disc_log_image, deg_1 = secret_commit\n",
    "ker_chall = R + chall*S \n",
    "ker_dual_chall = -chall*R + S \n"
   ]
  },
  {
   "cell_type": "code",
   "execution_count": 182,
   "id": "c3b0670f-86dd-44fb-af15-9195634a790b",
   "metadata": {},
   "outputs": [
    {
     "name": "stdout",
     "output_type": "stream",
     "text": [
      "[                                      1]\n",
      "[745178752435255190734328154363895032692]\n"
     ]
    }
   ],
   "source": [
    "#Compute the corresponding ideal\n",
    "matrixbc = Mask_matrix.transpose() * Matrix([[Fq(1)],[Fq(chall)]])\n",
    "print(matrixbc)\n",
    "Ideal_0 = Quat_alg.ideal(O0_basis)\n",
    "C = Quat_alg(matrixbc[0][0])+Quat_alg(matrixbc[1][0])*iota_end\n",
    "\n",
    "\n",
    "I_varphi = pushforward(C*Ideal_P*(C**(-1)), C*I_rho)\n",
    "\n",
    "assert I_varphi.norm() == q\n",
    "\n",
    "I_rhoI_varphi =multiply_ideals(I_rho,I_varphi)\n",
    "\n",
    "\n",
    "#print(I_rhoI_varphi)\n",
    "#I_varphi2 = pushforward(Ideal_P,I_rho)\n",
    "#assert I_varphi2 == I_varphi\n",
    "#assert I_varphi.left_order() == I_rho.right_order()\n",
    "\n",
    "# Compute the answer ideal\n",
    "J = multiply_ideals(I_rhoI_varphi.conjugate(), I_psi)\n",
    "I_sigma, Minkowski_reduced_basis = small_equivalent_ideal(J)\n",
    "i=1\n",
    "while I_sigma.norm() % 2 == 0 and i < 4:\n",
    "    I_sigma = chi(Minkowski_reduced_basis[i],J)\n",
    "    i +=1\n",
    "while I_sigma.norm() %2 == 0 or I_sigma.norm()*q > 2**e:\n",
    "    det = generate_small_norm_quat_random(Minkowski_reduced_basis, coeff_bound, search_bound)\n",
    "    I_sigma = chi(det, J)\n",
    "d = I_sigma.norm()\n",
    "\n",
    "#Compute kappa \n",
    "I_rhoI_varphiI_sigma = multiply_ideals(I_rhoI_varphi, I_sigma)\n",
    "\n"
   ]
  },
  {
   "cell_type": "code",
   "execution_count": null,
   "id": "67bc2574-d227-4ca0-9abb-b8a801ffe435",
   "metadata": {},
   "outputs": [],
   "source": []
  },
  {
   "cell_type": "code",
   "execution_count": 183,
   "id": "a850f4b2-0991-47e8-bf44-6f48200bd4f5",
   "metadata": {},
   "outputs": [
    {
     "data": {
      "text/plain": [
       "Fractional ideal (1/2 + 977047035384166648680216013417459081373065066188637044903663998863811765268526836912445710816918727997481703213533580887514879902941933278397307245806037363571785*j + 1087193747098868587440996593926404707008528054995903489617101831306094034877480781898509828526141951512975432089329904035212724615343806654382739524515153747158647/2*k, 1/2*i + 280791314149106915789120574920914495652584265458960620523500808862293397492173839126069417403611154970759660596942094639150557332513606517694043770678789454489997/2*j + 917866891629452059747857966487071621791609271302482989706562945731887548067179251852705524874113089823439076606016223305028746355760857385607980635630451405564740*k, 1448590395556976809662396023521649769641031538413282731965546614747974004981579032356878647411934990598618910782534540261415445136995166778031571800192773655802275*j, 1448590395556976809662396023521649769641031538413282731965546614747974004981579032356878647411934990598618910782534540261415445136995166778031571800192773655802275*k)"
      ]
     },
     "execution_count": 183,
     "metadata": {},
     "output_type": "execute_result"
    }
   ],
   "source": [
    "J"
   ]
  },
  {
   "cell_type": "code",
   "execution_count": 189,
   "id": "1e3b9d4f-3d43-4060-8ae1-712667a37ab3",
   "metadata": {},
   "outputs": [],
   "source": [
    "# Compute images of kappa using EvalTorsion.\n",
    "\n",
    "#Compute corresponding endomorphism\n",
    "auto = left_isomorphism(I_rhoI_varphiI_sigma,I_psi)\n",
    "Gamma = multiply_ideals(I_psi, I_rhoI_varphiI_sigma.conjugate(), auto)\n",
    "gamma = left_isomorphism(Quat_alg.ideal(O0_basis),Gamma)\n",
    "gamma = Quat_alg([0,1,0,0])*gamma\n",
    "\n",
    "assert gamma.reduced_norm() % q == 0\n",
    "\n",
    "gamma_list = component_endo(gamma)\n",
    "\n",
    "#Compute different points\n",
    "X1 = deg_1*(disc_log_image[0][0] * Basis_2[0] + disc_log_image[0][1] * Basis_2[1])\n",
    "Y1 = deg_1*(disc_log_image[1][0] * Basis_2[0] + disc_log_image[1][1] * Basis_2[1])\n",
    "\n",
    "assert X1.weil_pairing(Y1, 2**e) == BasisE1_2[0].weil_pairing(BasisE1_2[1], 2**e)**(deg_1)\n",
    "\n",
    "#if X1.weil_pairing(Y1, 2**e) == BasisE1_2[0].weil_pairing(BasisE1_2[1], 2**e)**(-deg_1):\n",
    "#    X1, Y1 = Y1, X1\n",
    "    \n",
    "vP = End.action_by_matrices(gamma_list, [1, 0], action_matrices_2)\n",
    "X2 = vP[0]*X1 + vP[1]*Y1\n",
    "vQ = End.action_by_matrices(gamma_list, [0, 1], action_matrices_2)\n",
    "Y2 = vQ[0]*X1  + vQ[1]*Y1\n",
    "\n",
    "X3, Y3 = eval_basis_unsmooth(E0, E0, Phi_A, 2**e - q, (X2,Y2), 2**e, False)\n",
    "\n",
    "assert X3.curve() == Y3.curve() == E_A\n",
    "\n",
    "lambda_ = Z2e(q*deg_1)**(-1)\n",
    "\n",
    "X4, Y4 =  lambda_*X3, lambda_*Y3\n",
    "\n",
    "assert(X4.weil_pairing(Y4, 2**e) == (BasisE1_2[0].weil_pairing(BasisE1_2[1], 2**e))**(d*q))"
   ]
  },
  {
   "cell_type": "code",
   "execution_count": 190,
   "id": "ccfbef98-f5ba-4f0d-a47c-8fe37cdf6139",
   "metadata": {},
   "outputs": [],
   "source": [
    "auto = left_isomorphism(I_rhoI_varphiI_sigma,I_psi)\n",
    "Gamma = multiply_ideals(I_psi, I_rhoI_varphiI_sigma.conjugate(), auto)\n",
    "gamma = left_isomorphism(Quat_alg.ideal(O0_basis),Gamma)\n",
    "gamma = Quat_alg([0,1,0,0])*gamma\n",
    "gamma_list = component_endo(gamma)\n",
    "\n",
    "gamma_list2 = component_endo(gamma.conjugate())\n"
   ]
  },
  {
   "cell_type": "code",
   "execution_count": 191,
   "id": "6fd925e0-53b0-43e3-b541-13ab7cfb65f8",
   "metadata": {},
   "outputs": [
    {
     "data": {
      "text/plain": [
       "(0 : 1 : 0)"
      ]
     },
     "execution_count": 191,
     "metadata": {},
     "output_type": "execute_result"
    }
   ],
   "source": [
    "X,Y = action_image(gamma_list2, image_action_q, Basis_q)\n",
    "(Mask_matrix[0,0]*X + chall*Mask_matrix[0,1]*Y)+(Mask_matrix[1,0]*X + chall*Mask_matrix[1,1]*Y)"
   ]
  },
  {
   "cell_type": "code",
   "execution_count": 192,
   "id": "99a51262-7bd7-4f03-9bdf-369e3ace1c63",
   "metadata": {},
   "outputs": [
    {
     "data": {
      "text/plain": [
       "i"
      ]
     },
     "execution_count": 192,
     "metadata": {},
     "output_type": "execute_result"
    }
   ],
   "source": [
    "Quat_alg([0,1,0,0])"
   ]
  },
  {
   "cell_type": "code",
   "execution_count": null,
   "id": "a8ea4299-cab5-414d-9674-99471aebb326",
   "metadata": {},
   "outputs": [],
   "source": []
  },
  {
   "cell_type": "code",
   "execution_count": null,
   "id": "db713967-1137-4514-a6d9-5f397ffaf0ae",
   "metadata": {},
   "outputs": [],
   "source": []
  },
  {
   "cell_type": "code",
   "execution_count": 193,
   "id": "e4c0e8d5-d73d-4c2d-843a-a651846deb4e",
   "metadata": {},
   "outputs": [],
   "source": [
    "# Construct auxiliary endomorphism.\n",
    "sigma = quat.FullRepresentInteger(d*(2**e-(q*d)),p)\n",
    "vP = End.action_by_matrices(sigma, [1, 0], action_matrices_2)\n",
    "sigmaP = vP[0]*Basis_2[0] + vP[1]*Basis_2[1]\n",
    "vQ = End.action_by_matrices(sigma, [0, 1], action_matrices_2)\n",
    "sigmaQ = vQ[0]*Basis_2[0] + vQ[1]*Basis_2[1]\n",
    "\n",
    "P2,Q2 = eval_basis_unsmooth(E0,E0, Phi_A, q, (sigmaP,sigmaQ), 2**e, True)\n",
    "P1 = (-d*q)*Basis_2[0]\n",
    "Q1 = (-d*q)*Basis_2[1]\n",
    "\n",
    "assert(P2.weil_pairing(Q2, 2**e)==  Basis_2[0].weil_pairing(Basis_2[1], 2**e) **(-((q*d)**2)))\n",
    "Pa, Qa = CouplePoint(P1,P2), CouplePoint(Q1, Q2)\n",
    "kernel = (Pa, Qa)\n",
    "Phi_delta = EllipticProductIsogenySqrt(kernel, e, None, zeta)\n",
    "\n"
   ]
  },
  {
   "cell_type": "code",
   "execution_count": 194,
   "id": "4e7099d8-b87e-413d-a6a1-2d5014a1877f",
   "metadata": {},
   "outputs": [],
   "source": [
    "#Evaluate points\n",
    "T, U = eval_basis_unsmooth(E0, E_A, Phi_delta, 2**e-q*d, (X4,Y4), 2**e, False)\n",
    "V, W = eval_basis_unsmooth(E0, E_A, Phi_delta, 2**e-q*d, (ker_chall,ker_dual_chall), q, False)\n",
    "E_delta = T.curve()\n",
    "assert V.curve() == E_delta\n",
    "assert T.weil_pairing(U, 2**e) == X4.weil_pairing(Y4,2**e)**(-q*d)\n",
    "inver = int(Z2e(q*d)**(-1))\n",
    "T,U = inver*T, inver*U\n",
    "assert T.weil_pairing(U,2**e) == BasisE1_2[0].weil_pairing(BasisE1_2[1], 2**e)**((-1))\n",
    "signature2 = E_1, BasisE1_2, E_delta, T,U,V"
   ]
  },
  {
   "cell_type": "code",
   "execution_count": 195,
   "id": "2aadecbc-fe0d-4e2e-9982-4b944a543904",
   "metadata": {},
   "outputs": [
    {
     "data": {
      "text/plain": [
       "(Elliptic Curve defined by y^2 = x^3 + (1320003985884288247106730111784819426967755964105386742959697899914803192511775584144*z^2+3975349083809857667534922415878330164739106996313536237915344271018724222626618005727)*x^2 + x over Finite Field in z of size 5478933360105376520327544909088205666389913038264237243530502186841753491867814592511^4,\n",
       " ((4338925680859150594347428678004836706029094742997267280349210972465795705331701560858*z^2 + 1135354979525087571452207032865813384163087718844273384375839434474118230165890566895 : 1578931467657040920530335992280987895909022843568541490300982224862603535436721893662*z^2 + 70493036017534123201376440807400127558982849175260993464832363575590820001945499218 : 1),\n",
       "  (1784374356772282532412542109026530181092624644890485305521965623607927385147334311435*z^2 + 3319361039380011665376153010169059313645931304806873592040351007253763532631256690814 : 25549268420931103216283906304905951955893506649908358390965500269317853383674932523*z^2 + 619834516462163347315906090084003945304694818341087323762965768251407590770708862216 : 1)),\n",
       " Elliptic Curve defined by y^2 = x^3 + (2045446648786139374213285469188644975653286030359604060065211963170239698525217346116*z^2+3608963773235709498642663843002315106626813548238827883054676915227083074886433072791)*x^2 + x over Finite Field in z of size 5478933360105376520327544909088205666389913038264237243530502186841753491867814592511^4,\n",
       " (2496992026221559301092099852845652208627886012518420461745471026058464873509902878407*z^2 + 3367725067395466417004168576288202550818610899791367127099127180817948195357938385074 : 2299444710134440293826707378118043128274404575819977492214889565869000480286419730678*z^2 + 3515237917825926268199103096221935857215245140970212388998028702944782510923494205252 : 1),\n",
       " (2686824424681164099961709666954192529585585082267674752219394968824510790127268939759*z^2 + 247326397561895181039596745239681844629516752527608687741857040004479111970152494174 : 4957321008522917977503458611647519126403044152143454234320470908620679938814261179989*z^2 + 4731571392870181489259304080709238184455878046852637601553286052993977677714925379617 : 1),\n",
       " (2607512430722509476862144055472132564874522405637718124618838982788850454252339599220*z^2 + 4110161522372640902109423859048053832915592062551092746320417445071655646178243500392 : 5422472810926892437013294715166657022766892547401237328443231803867024817024702267631*z^3 + 1026602243253017913473325218211388849120565259928854554750633259351863916383192943125*z : 1))"
      ]
     },
     "execution_count": 195,
     "metadata": {},
     "output_type": "execute_result"
    }
   ],
   "source": [
    "signature2"
   ]
  },
  {
   "cell_type": "code",
   "execution_count": null,
   "id": "cb9021e4-e3d4-4749-9b56-7869184d69a3",
   "metadata": {},
   "outputs": [],
   "source": []
  },
  {
   "cell_type": "code",
   "execution_count": null,
   "id": "de3e8038-7689-4f47-97e4-9f120415362e",
   "metadata": {},
   "outputs": [],
   "source": []
  },
  {
   "cell_type": "code",
   "execution_count": null,
   "id": "871e7061-bc06-47fc-920b-a0fd44a776fc",
   "metadata": {},
   "outputs": [],
   "source": []
  },
  {
   "cell_type": "code",
   "execution_count": null,
   "id": "d0b72cc7-8170-4233-bc3c-4ca33c4d9781",
   "metadata": {},
   "outputs": [],
   "source": []
  },
  {
   "cell_type": "code",
   "execution_count": null,
   "id": "46a03103-a3f4-45e5-87d0-4642004bff7d",
   "metadata": {},
   "outputs": [],
   "source": []
  },
  {
   "cell_type": "code",
   "execution_count": null,
   "id": "cff1bb0f-a746-43f1-9126-f00a5598553c",
   "metadata": {},
   "outputs": [],
   "source": []
  },
  {
   "cell_type": "code",
   "execution_count": null,
   "id": "6e162c7d-a4f2-41ca-9dd5-65e9a87c4c67",
   "metadata": {},
   "outputs": [],
   "source": []
  },
  {
   "cell_type": "code",
   "execution_count": null,
   "id": "33f4ffd5-a3dd-4f6c-b5bc-c276f2fe8d68",
   "metadata": {},
   "outputs": [],
   "source": []
  },
  {
   "cell_type": "code",
   "execution_count": null,
   "id": "59634180-fc4e-43dc-a616-b5da75112cb6",
   "metadata": {},
   "outputs": [],
   "source": []
  },
  {
   "cell_type": "code",
   "execution_count": null,
   "id": "0bb12e16-0544-44b1-8e4d-ebe84b6050da",
   "metadata": {},
   "outputs": [],
   "source": []
  },
  {
   "cell_type": "code",
   "execution_count": null,
   "id": "12abf18a-21bf-45b3-963f-1f2445e8fb7b",
   "metadata": {},
   "outputs": [],
   "source": []
  },
  {
   "cell_type": "code",
   "execution_count": 41,
   "id": "8a7fbe20-b25e-4a04-a529-a9b732095c4e",
   "metadata": {},
   "outputs": [
    {
     "name": "stdout",
     "output_type": "stream",
     "text": [
      "[(145212*i + 486924 : 68908*i + 135992 : 1),(427043*i + 16946 : 474919*i + 326000 : 1)]\n"
     ]
    }
   ],
   "source": [
    "# Evaluate a point on E1 x E2 under the action of Phi\n",
    "R1 = E1(0)\n",
    "R2 = E2(476711*i + 497008, 316369*i + 137958)\n",
    "R = CouplePoint(R1, R2)\n",
    "print(Phi(R))\n",
    "# Output:\n",
    "#\n",
    "# [(145212*i + 486924 : 68908*i + 135992 : 1), (427043*i + 16946 : 474919*i + 326000 : 1)]"
   ]
  },
  {
   "cell_type": "code",
   "execution_count": 30,
   "id": "dc512d4a-8c9f-46f4-8ca7-e347bb2044f0",
   "metadata": {},
   "outputs": [
    {
     "data": {
      "text/plain": [
       "((290032*i + 302573 : 492133*i + 143361 : 1),\n",
       " (101436*i + 235007 : 335241*i + 184484 : 1))"
      ]
     },
     "execution_count": 30,
     "metadata": {},
     "output_type": "execute_result"
    }
   ],
   "source": [
    "E1t = E1.quadratic_twist(2+i)\n",
    "E2t= E2.quadratic_twist(2+i)\n",
    "basis2 = basis_twist(E2t,22621,1)\n",
    "basis2"
   ]
  },
  {
   "cell_type": "code",
   "execution_count": null,
   "id": "808a02d0-8997-4731-9e6f-076046e957dd",
   "metadata": {},
   "outputs": [],
   "source": []
  },
  {
   "cell_type": "code",
   "execution_count": 26,
   "id": "f994d55b-87c6-4a90-bb7f-bb5b2275bad3",
   "metadata": {},
   "outputs": [
    {
     "data": {
      "text/plain": [
       "2 * 11 * 22621"
      ]
     },
     "execution_count": 26,
     "metadata": {},
     "output_type": "execute_result"
    }
   ],
   "source": [
    "factor(497663-1)"
   ]
  },
  {
   "cell_type": "code",
   "execution_count": 173,
   "id": "98f5686b-9016-4ff6-8944-cc1082e51f63",
   "metadata": {},
   "outputs": [],
   "source": [
    "def Kani_double_path(E0,p,q,n, zeta, basis, action_matrices):\n",
    "    P0,Q0= basis[0],basis[1]\n",
    "    \n",
    "    alpha = quat.FullRepresentInteger(q*(2^271-q),p)\n",
    "    vP = End.action_by_matrices(alpha, [1, 0], action_matrices)\n",
    "    alphaP = vP[0]*P0 + vP[1]*Q0\n",
    "    vQ = End.action_by_matrices(alpha, [0, 1], action_matrices)\n",
    "    alphaQ = vQ[0]*P0 + vQ[1]*Q0\n",
    "\n",
    "    P1 = (2**n - q)*P0\n",
    "    Q1 = (2**n - q)*Q0\n",
    "    P2 = alphaP\n",
    "    Q2 = alphaQ\n",
    "\n",
    "    Pa, Qa = CouplePoint(P1,P2), CouplePoint(Q1, Q2)\n",
    "    kernel = (Pa, Qa)\n",
    "    Phi = EllipticProductIsogeny(kernel, n, optimised_strategy(n), zeta)\n",
    "    return Phi        \n"
   ]
  },
  {
   "cell_type": "code",
   "execution_count": 174,
   "id": "7728d18a-ffdf-4f26-ac1c-3891cb483bd2",
   "metadata": {},
   "outputs": [
    {
     "name": "stdout",
     "output_type": "stream",
     "text": [
      "114\n",
      "114\n",
      "66\n",
      "66\n",
      "38\n",
      "38\n",
      "22\n",
      "22\n",
      "16\n",
      "16\n",
      "9\n",
      "9\n",
      "5\n",
      "5\n"
     ]
    }
   ],
   "source": [
    "Phi = Kani_double_path(E0, p,q,271, zeta, Basis_2, action_matrices_2)"
   ]
  },
  {
   "cell_type": "code",
   "execution_count": 91,
   "id": "80431190-6de0-45ef-bb2c-7b35ca387f7b",
   "metadata": {},
   "outputs": [
    {
     "data": {
      "text/plain": [
       "(Elliptic Curve defined by y^2 = x^3 + (1298344374003009488363955025577530905991487325295984195749707052209317924289709040768*z^2+1119494818426987499085383591784759453261608789476123159475992427574470299976811069711)*x^2 + x over Finite Field in z of size 5478933360105376520327544909088205666389913038264237243530502186841753491867814592511^4,\n",
       " Elliptic Curve defined by y^2 = x^3 + (1640880021282110431510652512013724153167938572902082099706966066851466421276757600675*z^2+5196910900053377979863127750917059135551900243105380650477404866899106750804250130349)*x^2 + x over Finite Field in z of size 5478933360105376520327544909088205666389913038264237243530502186841753491867814592511^4)"
      ]
     },
     "execution_count": 91,
     "metadata": {},
     "output_type": "execute_result"
    }
   ],
   "source": [
    "Phi.get_codomain()"
   ]
  },
  {
   "cell_type": "code",
   "execution_count": 5,
   "id": "be8831c5-72da-40ca-b5ee-e8e84d562d83",
   "metadata": {},
   "outputs": [],
   "source": [
    "p = 2^273 * 19^2 -1\n",
    "Fp4, Fp2, i = param.calcFields(p)\n",
    "Fp4.base_ring()\n",
    "q= 1733124013302036320718171822563477047667\n"
   ]
  },
  {
   "cell_type": "code",
   "execution_count": 21,
   "id": "ef6f00b9-fae3-4251-86ed-4e4514b9282b",
   "metadata": {},
   "outputs": [
    {
     "data": {
      "text/plain": [
       "5478933360105376520327544909088205666389913038264237243530502186841753491867814592511"
      ]
     },
     "execution_count": 21,
     "metadata": {},
     "output_type": "execute_result"
    }
   ],
   "source": [
    "Fp4.characteristic()"
   ]
  },
  {
   "cell_type": "code",
   "execution_count": null,
   "id": "cf712fdd-cd8b-480a-8fad-e4601e266d42",
   "metadata": {},
   "outputs": [],
   "source": []
  },
  {
   "cell_type": "code",
   "execution_count": 66,
   "id": "bf1cadbd-6ca7-41cf-ab7d-222d259caabb",
   "metadata": {},
   "outputs": [
    {
     "ename": "AssertionError",
     "evalue": "",
     "output_type": "error",
     "traceback": [
      "\u001b[0;31m---------------------------------------------------------------------------\u001b[0m",
      "\u001b[0;31mAssertionError\u001b[0m                            Traceback (most recent call last)",
      "Cell \u001b[0;32mIn[66], line 6\u001b[0m\n\u001b[1;32m      4\u001b[0m P\u001b[38;5;241m=\u001b[39mBasis2[Integer(\u001b[38;5;241m0\u001b[39m)]\n\u001b[1;32m      5\u001b[0m Q\u001b[38;5;241m=\u001b[39mBasis2[Integer(\u001b[38;5;241m1\u001b[39m)]\n\u001b[0;32m----> 6\u001b[0m action_matrices \u001b[38;5;241m=\u001b[39m \u001b[43mEnd\u001b[49m\u001b[38;5;241;43m.\u001b[39;49m\u001b[43maction_matrices\u001b[49m\u001b[43m(\u001b[49m\u001b[43mBasis2\u001b[49m\u001b[43m,\u001b[49m\u001b[43m \u001b[49m\u001b[43mInteger\u001b[49m\u001b[43m(\u001b[49m\u001b[38;5;241;43m2\u001b[39;49m\u001b[43m)\u001b[49m\u001b[38;5;241;43m*\u001b[39;49m\u001b[38;5;241;43m*\u001b[39;49m\u001b[43mInteger\u001b[49m\u001b[43m(\u001b[49m\u001b[38;5;241;43m273\u001b[39;49m\u001b[43m)\u001b[49m\u001b[43m,\u001b[49m\u001b[43m \u001b[49m\u001b[43mi\u001b[49m\u001b[43m,\u001b[49m\u001b[43m \u001b[49m\u001b[43mFp4\u001b[49m\u001b[43m)\u001b[49m\n",
      "File \u001b[0;32m~/Desktop/Code/SAGE/SQIprime/endomorphism.py:98\u001b[0m, in \u001b[0;36maction_matrices\u001b[0;34m(basis, N, zeta2, F2)\u001b[0m\n\u001b[1;32m     96\u001b[0m Ms \u001b[38;5;241m=\u001b[39m []\n\u001b[1;32m     97\u001b[0m \u001b[38;5;28;01mfor\u001b[39;00m alpha \u001b[38;5;129;01min\u001b[39;00m [one[\u001b[38;5;241m-\u001b[39mi:]\u001b[38;5;241m+\u001b[39mone[:\u001b[38;5;241m-\u001b[39mi] \u001b[38;5;28;01mfor\u001b[39;00m i \u001b[38;5;129;01min\u001b[39;00m \u001b[38;5;28mrange\u001b[39m(\u001b[38;5;241m1\u001b[39m, \u001b[38;5;241m4\u001b[39m)]:\n\u001b[0;32m---> 98\u001b[0m     Ms\u001b[38;5;241m.\u001b[39mappend(\u001b[43maction_matrix\u001b[49m\u001b[43m(\u001b[49m\u001b[43malpha\u001b[49m\u001b[43m,\u001b[49m\u001b[43m \u001b[49m\u001b[43mbasis\u001b[49m\u001b[43m,\u001b[49m\u001b[43m \u001b[49m\u001b[43mN\u001b[49m\u001b[43m,\u001b[49m\u001b[43m \u001b[49m\u001b[43mzeta2\u001b[49m\u001b[43m,\u001b[49m\u001b[43m \u001b[49m\u001b[43mF2\u001b[49m\u001b[43m)\u001b[49m)\n\u001b[1;32m     99\u001b[0m \u001b[38;5;28;01mreturn\u001b[39;00m Ms\n",
      "File \u001b[0;32m~/Desktop/Code/SAGE/SQIprime/endomorphism.py:87\u001b[0m, in \u001b[0;36maction_matrix\u001b[0;34m(alpha, basis, N, zeta2, F2)\u001b[0m\n\u001b[1;32m     85\u001b[0m \u001b[38;5;28;01mdef\u001b[39;00m \u001b[38;5;21maction_matrix\u001b[39m(alpha, basis, N, zeta2, F2):\n\u001b[1;32m     86\u001b[0m     P, Q \u001b[38;5;241m=\u001b[39m basis\n\u001b[0;32m---> 87\u001b[0m     aP, aQ \u001b[38;5;241m=\u001b[39m \u001b[43m[\u001b[49m\u001b[43maction\u001b[49m\u001b[43m(\u001b[49m\u001b[43malpha\u001b[49m\u001b[43m,\u001b[49m\u001b[43m \u001b[49m\u001b[43mR\u001b[49m\u001b[43m,\u001b[49m\u001b[43m \u001b[49m\u001b[43mzeta2\u001b[49m\u001b[43m,\u001b[49m\u001b[43m \u001b[49m\u001b[43mF2\u001b[49m\u001b[43m)\u001b[49m\u001b[43m \u001b[49m\u001b[38;5;28;43;01mfor\u001b[39;49;00m\u001b[43m \u001b[49m\u001b[43mR\u001b[49m\u001b[43m \u001b[49m\u001b[38;5;129;43;01min\u001b[39;49;00m\u001b[43m \u001b[49m\u001b[43m[\u001b[49m\u001b[43mP\u001b[49m\u001b[43m,\u001b[49m\u001b[43m \u001b[49m\u001b[43mQ\u001b[49m\u001b[43m]\u001b[49m\u001b[43m]\u001b[49m\n\u001b[1;32m     88\u001b[0m     a, c \u001b[38;5;241m=\u001b[39m utilities\u001b[38;5;241m.\u001b[39mBiDLP(aP, P, Q, N)\n\u001b[1;32m     89\u001b[0m     b, d \u001b[38;5;241m=\u001b[39m utilities\u001b[38;5;241m.\u001b[39mBiDLP(aQ, P, Q, N)\n",
      "File \u001b[0;32m~/Desktop/Code/SAGE/SQIprime/endomorphism.py:87\u001b[0m, in \u001b[0;36m<listcomp>\u001b[0;34m(.0)\u001b[0m\n\u001b[1;32m     85\u001b[0m \u001b[38;5;28;01mdef\u001b[39;00m \u001b[38;5;21maction_matrix\u001b[39m(alpha, basis, N, zeta2, F2):\n\u001b[1;32m     86\u001b[0m     P, Q \u001b[38;5;241m=\u001b[39m basis\n\u001b[0;32m---> 87\u001b[0m     aP, aQ \u001b[38;5;241m=\u001b[39m [\u001b[43maction\u001b[49m\u001b[43m(\u001b[49m\u001b[43malpha\u001b[49m\u001b[43m,\u001b[49m\u001b[43m \u001b[49m\u001b[43mR\u001b[49m\u001b[43m,\u001b[49m\u001b[43m \u001b[49m\u001b[43mzeta2\u001b[49m\u001b[43m,\u001b[49m\u001b[43m \u001b[49m\u001b[43mF2\u001b[49m\u001b[43m)\u001b[49m \u001b[38;5;28;01mfor\u001b[39;00m R \u001b[38;5;129;01min\u001b[39;00m [P, Q]]\n\u001b[1;32m     88\u001b[0m     a, c \u001b[38;5;241m=\u001b[39m utilities\u001b[38;5;241m.\u001b[39mBiDLP(aP, P, Q, N)\n\u001b[1;32m     89\u001b[0m     b, d \u001b[38;5;241m=\u001b[39m utilities\u001b[38;5;241m.\u001b[39mBiDLP(aQ, P, Q, N)\n",
      "File \u001b[0;32m~/Desktop/Code/SAGE/SQIprime/endomorphism.py:79\u001b[0m, in \u001b[0;36maction\u001b[0;34m(alpha, P, zeta2, F2)\u001b[0m\n\u001b[1;32m     77\u001b[0m a, b, c, d \u001b[38;5;241m=\u001b[39m alpha\n\u001b[1;32m     78\u001b[0m ret \u001b[38;5;241m=\u001b[39m a\u001b[38;5;241m*\u001b[39mP\n\u001b[0;32m---> 79\u001b[0m ret \u001b[38;5;241m+\u001b[39m\u001b[38;5;241m=\u001b[39m b\u001b[38;5;241m*\u001b[39m\u001b[43mi_action\u001b[49m\u001b[43m(\u001b[49m\u001b[43mP\u001b[49m\u001b[43m,\u001b[49m\u001b[43m \u001b[49m\u001b[43mzeta2\u001b[49m\u001b[43m)\u001b[49m\n\u001b[1;32m     80\u001b[0m ret \u001b[38;5;241m+\u001b[39m\u001b[38;5;241m=\u001b[39m c\u001b[38;5;241m*\u001b[39mi_j_2_action(P, zeta2, F2)\n\u001b[1;32m     81\u001b[0m ret \u001b[38;5;241m+\u001b[39m\u001b[38;5;241m=\u001b[39m d\u001b[38;5;241m*\u001b[39mone_ij_2_action(P, zeta2, F2)\n",
      "File \u001b[0;32m~/Desktop/Code/SAGE/SQIprime/endomorphism.py:20\u001b[0m, in \u001b[0;36mi_action\u001b[0;34m(P, zeta2)\u001b[0m\n\u001b[1;32m     18\u001b[0m F \u001b[38;5;241m=\u001b[39m P\u001b[38;5;241m.\u001b[39mbase_ring()\n\u001b[1;32m     19\u001b[0m E \u001b[38;5;241m=\u001b[39m P\u001b[38;5;241m.\u001b[39mcurve()\n\u001b[0;32m---> 20\u001b[0m \u001b[38;5;28;01massert\u001b[39;00m zeta2 \u001b[38;5;129;01min\u001b[39;00m F\n\u001b[1;32m     21\u001b[0m \u001b[38;5;28;01massert\u001b[39;00m E \u001b[38;5;241m==\u001b[39m EllipticCurve(F, [\u001b[38;5;241m1\u001b[39m,\u001b[38;5;241m0\u001b[39m]) \u001b[38;5;66;03m# P should be on the curve y^2 = x^3 + x\u001b[39;00m\n\u001b[1;32m     22\u001b[0m X, Y, Z \u001b[38;5;241m=\u001b[39m P\n",
      "\u001b[0;31mAssertionError\u001b[0m: "
     ]
    }
   ],
   "source": [
    "A1 = Fp4(0)\n",
    "E1 = EllipticCurve(Fp4, [0, A1, 0, 1, 0]) # Curves are in the Montgomery model\n",
    "Basis2 = basis_4(E1,2,273)\n",
    "P=Basis2[0]\n",
    "Q=Basis2[1]\n",
    "action_matrices = End.action_matrices(Basis2, 2^273, i, Fp4)\n"
   ]
  },
  {
   "cell_type": "code",
   "execution_count": 82,
   "id": "25d945dd-1013-4d39-aab7-f1d2debab569",
   "metadata": {},
   "outputs": [
    {
     "ename": "NameError",
     "evalue": "name 'action_matrices' is not defined",
     "output_type": "error",
     "traceback": [
      "\u001b[0;31m---------------------------------------------------------------------------\u001b[0m",
      "\u001b[0;31mNameError\u001b[0m                                 Traceback (most recent call last)",
      "Cell \u001b[0;32mIn[82], line 2\u001b[0m\n\u001b[1;32m      1\u001b[0m alpha \u001b[38;5;241m=\u001b[39m quat\u001b[38;5;241m.\u001b[39mFullRepresentInteger(q\u001b[38;5;241m*\u001b[39m(Integer(\u001b[38;5;241m2\u001b[39m)\u001b[38;5;241m*\u001b[39m\u001b[38;5;241m*\u001b[39mInteger(\u001b[38;5;241m271\u001b[39m)\u001b[38;5;241m-\u001b[39mq),p)\n\u001b[0;32m----> 2\u001b[0m vP \u001b[38;5;241m=\u001b[39m End\u001b[38;5;241m.\u001b[39maction_by_matrices(alpha, [Integer(\u001b[38;5;241m1\u001b[39m), Integer(\u001b[38;5;241m0\u001b[39m)], \u001b[43maction_matrices\u001b[49m)\n\u001b[1;32m      3\u001b[0m alphaP \u001b[38;5;241m=\u001b[39m vP[Integer(\u001b[38;5;241m0\u001b[39m)]\u001b[38;5;241m*\u001b[39mP \u001b[38;5;241m+\u001b[39m vP[Integer(\u001b[38;5;241m1\u001b[39m)]\u001b[38;5;241m*\u001b[39mQ\n\u001b[1;32m      4\u001b[0m vQ \u001b[38;5;241m=\u001b[39m End\u001b[38;5;241m.\u001b[39maction_by_matrices(alpha, [Integer(\u001b[38;5;241m0\u001b[39m), Integer(\u001b[38;5;241m1\u001b[39m)], action_matrices)\n",
      "\u001b[0;31mNameError\u001b[0m: name 'action_matrices' is not defined"
     ]
    }
   ],
   "source": [
    "alpha = quat.FullRepresentInteger(q*(2^271-q),p)\n",
    "vP = End.action_by_matrices(alpha, [1, 0], action_matrices)\n",
    "alphaP = vP[0]*P + vP[1]*Q\n",
    "vQ = End.action_by_matrices(alpha, [0, 1], action_matrices)\n",
    "alphaQ = vQ[0]*P + vQ[1]*Q\n",
    "print(alphaP, alphaQ)"
   ]
  },
  {
   "cell_type": "code",
   "execution_count": 80,
   "id": "66fd52f2-454e-4485-9401-06ad80bc6283",
   "metadata": {},
   "outputs": [
    {
     "ename": "NameError",
     "evalue": "name 'alphaP' is not defined",
     "output_type": "error",
     "traceback": [
      "\u001b[0;31m---------------------------------------------------------------------------\u001b[0m",
      "\u001b[0;31mNameError\u001b[0m                                 Traceback (most recent call last)",
      "Cell \u001b[0;32mIn[80], line 7\u001b[0m\n\u001b[1;32m      5\u001b[0m P1 \u001b[38;5;241m=\u001b[39m (Integer(\u001b[38;5;241m2\u001b[39m)\u001b[38;5;241m*\u001b[39m\u001b[38;5;241m*\u001b[39mInteger(\u001b[38;5;241m271\u001b[39m) \u001b[38;5;241m-\u001b[39m q)\u001b[38;5;241m*\u001b[39mP\n\u001b[1;32m      6\u001b[0m Q1 \u001b[38;5;241m=\u001b[39m (Integer(\u001b[38;5;241m2\u001b[39m)\u001b[38;5;241m*\u001b[39m\u001b[38;5;241m*\u001b[39mInteger(\u001b[38;5;241m271\u001b[39m) \u001b[38;5;241m-\u001b[39m q)\u001b[38;5;241m*\u001b[39mQ\n\u001b[0;32m----> 7\u001b[0m P2 \u001b[38;5;241m=\u001b[39m \u001b[43malphaP\u001b[49m\n\u001b[1;32m      8\u001b[0m Q2 \u001b[38;5;241m=\u001b[39m alphaQ\n\u001b[1;32m     10\u001b[0m \u001b[38;5;66;03m# Construct the kernel into the expected type\u001b[39;00m\n",
      "\u001b[0;31mNameError\u001b[0m: name 'alphaP' is not defined"
     ]
    }
   ],
   "source": [
    "# We will compute an isogeny chain of length 271\n",
    "n = 271\n",
    "\n",
    "# Points for the kernel of order 2^(n+2)\n",
    "P1 = (2**271 - q)*P\n",
    "Q1 = (2**271 - q)*Q\n",
    "P2 = alphaP\n",
    "Q2 = alphaQ\n",
    "\n",
    "# Construct the kernel into the expected type\n",
    "Pa, Qa = CouplePoint(P1,P2), CouplePoint(Q1, Q2)\n",
    "kernel = (Pa, Qa)\n"
   ]
  },
  {
   "cell_type": "code",
   "execution_count": 81,
   "id": "ea89a7b8-de0a-4944-b2cf-f09cdf57d483",
   "metadata": {},
   "outputs": [
    {
     "ename": "TypeError",
     "evalue": "'function' object is not subscriptable",
     "output_type": "error",
     "traceback": [
      "\u001b[0;31m---------------------------------------------------------------------------\u001b[0m",
      "\u001b[0;31mTypeError\u001b[0m                                 Traceback (most recent call last)",
      "Cell \u001b[0;32mIn[81], line 1\u001b[0m\n\u001b[0;32m----> 1\u001b[0m Phi \u001b[38;5;241m=\u001b[39m \u001b[43mEllipticProductIsogeny\u001b[49m\u001b[43m(\u001b[49m\u001b[43mkernel\u001b[49m\u001b[43m,\u001b[49m\u001b[43m \u001b[49m\u001b[43mInteger\u001b[49m\u001b[43m(\u001b[49m\u001b[38;5;241;43m271\u001b[39;49m\u001b[43m)\u001b[49m\u001b[43m,\u001b[49m\u001b[43m \u001b[49m\u001b[43moptimised_strategy\u001b[49m\u001b[43m(\u001b[49m\u001b[43mInteger\u001b[49m\u001b[43m(\u001b[49m\u001b[38;5;241;43m271\u001b[39;49m\u001b[43m)\u001b[49m\u001b[43m)\u001b[49m\u001b[43m,\u001b[49m\u001b[43m \u001b[49m\u001b[43mi\u001b[49m\u001b[43m)\u001b[49m\n",
      "File \u001b[0;32m~/Desktop/Code/SAGE/SQIprime/theta_isogenies/product_isogeny.py:34\u001b[0m, in \u001b[0;36mEllipticProductIsogeny.__init__\u001b[0;34m(self, kernel, n, strategy, zeta)\u001b[0m\n\u001b[1;32m     32\u001b[0m \u001b[38;5;28;01mdef\u001b[39;00m \u001b[38;5;21m__init__\u001b[39m(\u001b[38;5;28mself\u001b[39m, kernel, n, strategy\u001b[38;5;241m=\u001b[39m\u001b[38;5;28;01mNone\u001b[39;00m, zeta\u001b[38;5;241m=\u001b[39m\u001b[38;5;28;01mNone\u001b[39;00m):\n\u001b[1;32m     33\u001b[0m     \u001b[38;5;28mself\u001b[39m\u001b[38;5;241m.\u001b[39mn \u001b[38;5;241m=\u001b[39m n\n\u001b[0;32m---> 34\u001b[0m     \u001b[38;5;28mself\u001b[39m\u001b[38;5;241m.\u001b[39mE1, \u001b[38;5;28mself\u001b[39m\u001b[38;5;241m.\u001b[39mE2 \u001b[38;5;241m=\u001b[39m \u001b[43mkernel\u001b[49m\u001b[43m[\u001b[49m\u001b[38;5;241;43m0\u001b[39;49m\u001b[43m]\u001b[49m\u001b[38;5;241m.\u001b[39mcurves()\n\u001b[1;32m     35\u001b[0m     \u001b[38;5;28mself\u001b[39m\u001b[38;5;241m.\u001b[39m_zeta \u001b[38;5;241m=\u001b[39m zeta\n\u001b[1;32m     36\u001b[0m     \u001b[38;5;28;01massert\u001b[39;00m kernel[\u001b[38;5;241m1\u001b[39m]\u001b[38;5;241m.\u001b[39mcurves() \u001b[38;5;241m==\u001b[39m (\u001b[38;5;28mself\u001b[39m\u001b[38;5;241m.\u001b[39mE1, \u001b[38;5;28mself\u001b[39m\u001b[38;5;241m.\u001b[39mE2)\n",
      "\u001b[0;31mTypeError\u001b[0m: 'function' object is not subscriptable"
     ]
    }
   ],
   "source": [
    "Phi = EllipticProductIsogeny(kernel, 271, optimised_strategy(271), i)\n"
   ]
  },
  {
   "cell_type": "code",
   "execution_count": 76,
   "id": "f572963d-4e13-437d-b739-7832c6aaf986",
   "metadata": {},
   "outputs": [
    {
     "name": "stdout",
     "output_type": "stream",
     "text": [
      "(3806726461714634234269617567032355635343117850944913249091021623218418577549112287711*z^3 + 5298408522495524844605880618216213358574988221142294203702019708368890319072472491111*z^2 + 3017184119141012081297751686202994411475785125270025422763030622728219773373702823075*z + 1981832029695873790861203782506749278383522275477167669451340592191911031456402712284 : 473763033863641870322597957708406301757441721850565201153980386409162991656520192366*z^3 + 2753705545620056451183302428945235971695139258808794488717620536489626439963283894581*z^2 + 2337120641155418469960056697421315979096068730893832730816901980653041507092733283517*z + 622644407833406606306382545640367118731088314611331939884221470849179833784380259788 : 1) (3276530538532118615691739974371725996705283303781915992558396774504518170095345722261*z^3 + 710788111221357820362489456956697958608126884692362714376407949178591079230519742556*z^2 + 5180402310472850960243612107484943833187932699903365940057171970819604966545070215923*z + 1235669558461135136376690842281018090940527914231210569878351096911207074427569035843 : 4301123646705897853965589802333905961121966927569737214962768015246394465976440550464*z^3 + 4936866869178019203916857057964677784305889670316318352320453032558753175904331339606*z^2 + 2292091239882075121322281469096281897013710727226821856115776173642744459110832504761*z + 4982869450222743098855837944931023794736334356886608436742399481936977033847914759995 : 1)\n"
     ]
    }
   ],
   "source": [
    "R1 = E1.random_element()\n",
    "R2 = E1.random_element()\n",
    "print(R1,R2)\n",
    "R = CouplePoint(R1, R2)\n"
   ]
  },
  {
   "cell_type": "code",
   "execution_count": 77,
   "id": "017e8571-2cb2-4b1f-a920-1a59de10b577",
   "metadata": {},
   "outputs": [],
   "source": [
    "pR = Phi(R, False)"
   ]
  },
  {
   "cell_type": "code",
   "execution_count": 80,
   "id": "f89578a2-1dcd-481a-bcb3-96d89a139d77",
   "metadata": {},
   "outputs": [
    {
     "data": {
      "text/plain": [
       "1299942197876484127806379949850289144053340515556936313058907724990375033820792739973*z^3 + 1630715268269691476461070388887895902794949229226582064678385510855082245728985826250*z^2 + 627340278844875935871704974789694305457262070542208562552470414566210622332741656477*z + 4128499289387128728300160735820080810277697794156028275894387417317105385401783202570"
      ]
     },
     "execution_count": 80,
     "metadata": {},
     "output_type": "execute_result"
    }
   ],
   "source": [
    "pR[0][0]"
   ]
  },
  {
   "cell_type": "code",
   "execution_count": 10,
   "id": "f3d66c85-f746-4ce5-804f-2272f02bd3ff",
   "metadata": {},
   "outputs": [
    {
     "data": {
      "text/plain": [
       "(Elliptic Curve defined by y^2 = x^3 + (3507620228121402869662975466949301445112779805353034324824971962397494564439613159579*z^2+2250885721927554515536490698352862144597876122751415366058670998249872228500223049995)*x^2 + x over Finite Field in z of size 5478933360105376520327544909088205666389913038264237243530502186841753491867814592511^4,\n",
       " Elliptic Curve defined by y^2 = x^3 + (5299125203262756052531511806394295362696767637538289245621857693344474713606224920430*z^2+2675015951448856443891871555327708612398445489780170242266943012180784432858170491813)*x^2 + x over Finite Field in z of size 5478933360105376520327544909088205666389913038264237243530502186841753491867814592511^4)"
      ]
     },
     "execution_count": 10,
     "metadata": {},
     "output_type": "execute_result"
    }
   ],
   "source": [
    "Phi.get_codomain()"
   ]
  },
  {
   "cell_type": "code",
   "execution_count": 96,
   "id": "0f027d43-a6d9-4ee3-aefa-808629ba58af",
   "metadata": {},
   "outputs": [
    {
     "data": {
      "text/plain": [
       "2898350185561546846343749076501202959712216849878867543999153539168503346700272044901*z^3 + 4625614561824061242402115279669670466680463771254783148454856814115812375282529968489*z"
      ]
     },
     "execution_count": 96,
     "metadata": {},
     "output_type": "execute_result"
    }
   ],
   "source": [
    "Fp4(2934022918931637204230961800318379470446117529284437550121110975616765342322762830938*zeta + 1968939872507130549154094223962484332278895650423413275561453812519053984051779968891).sqrt()"
   ]
  },
  {
   "cell_type": "code",
   "execution_count": null,
   "id": "7da0a58e-a70e-42ed-bc7e-c16be0adc0e4",
   "metadata": {},
   "outputs": [],
   "source": []
  },
  {
   "cell_type": "code",
   "execution_count": 101,
   "id": "1a3fa139-9ba6-4d3e-96c3-f9e06d43a010",
   "metadata": {},
   "outputs": [
    {
     "name": "stdout",
     "output_type": "stream",
     "text": [
      "The history saving thread hit an unexpected error (OperationalError('attempt to write a readonly database')).History will not be written to the database.\n"
     ]
    },
    {
     "ename": "NameError",
     "evalue": "name 'O0' is not defined",
     "output_type": "error",
     "traceback": [
      "\u001b[0;31m---------------------------------------------------------------------------\u001b[0m",
      "\u001b[0;31mNameError\u001b[0m                                 Traceback (most recent call last)",
      "Cell \u001b[0;32mIn[101], line 1\u001b[0m\n\u001b[0;32m----> 1\u001b[0m I\u001b[38;5;241m=\u001b[39m(\u001b[43mO0\u001b[49m\u001b[38;5;241m*\u001b[39mconjugate(alpha_endo)) \u001b[38;5;241m+\u001b[39m (O0)\u001b[38;5;241m*\u001b[39m(q)\n\u001b[1;32m      2\u001b[0m J\u001b[38;5;241m=\u001b[39m(O0\u001b[38;5;241m*\u001b[39m(alpha_endo)) \u001b[38;5;241m+\u001b[39m (O0)\u001b[38;5;241m*\u001b[39m(Integer(\u001b[38;5;241m2\u001b[39m)\u001b[38;5;241m*\u001b[39m\u001b[38;5;241m*\u001b[39mInteger(\u001b[38;5;241m273\u001b[39m)\u001b[38;5;241m-\u001b[39mq)\n\u001b[1;32m      3\u001b[0m \u001b[38;5;28mprint\u001b[39m(I\u001b[38;5;241m.\u001b[39mleft_order(),\u001b[38;5;124m\"\u001b[39m\u001b[38;5;130;01m\\n\u001b[39;00m\u001b[38;5;124m\"\u001b[39m, I\u001b[38;5;241m.\u001b[39mright_order())\n",
      "\u001b[0;31mNameError\u001b[0m: name 'O0' is not defined"
     ]
    }
   ],
   "source": [
    "I=(O0*conjugate(alpha_endo)) + (O0)*(q)\n",
    "J=(O0*(alpha_endo)) + (O0)*(2**273-q)\n",
    "print(I.left_order(),\"\\n\", I.right_order())\n",
    "print(\"\\n\\n\")\n",
    "print(J.left_order(),\"\\n\", J.right_order())\n",
    "J.norm() == 2**273-q\n",
    "#J.left_order()\n",
    "I*J.right_order()"
   ]
  },
  {
   "cell_type": "code",
   "execution_count": 102,
   "id": "39c901fd-2626-4192-aaca-7af43adfe6e5",
   "metadata": {},
   "outputs": [
    {
     "data": {
      "text/plain": [
       "-94057375826662661995299354549754677588432469213160133284319 + 370665119124747522949813957796869548969564040819734675046653/2*i + 4352888709408981831/2*j + 236862175995811248*k"
      ]
     },
     "execution_count": 102,
     "metadata": {},
     "output_type": "execute_result"
    }
   ],
   "source": [
    "I0 = Quat_alg.ideal(O0_basis)\n",
    "alpha = [-94057375826662661995299354549754677588432706075336129095567, 185332559562373761474906978898434774484779843965512633032411, 4352888709408981831, 473724351991622496]\n",
    "alpha_endo = Quat_alg(0)\n",
    "for j in range(4):\n",
    "    alpha_endo += O0_basis[j]*alpha[j]\n",
    "alpha_endo"
   ]
  },
  {
   "cell_type": "code",
   "execution_count": null,
   "id": "cac70747-5482-4ff4-8948-b5a933be7210",
   "metadata": {},
   "outputs": [],
   "source": []
  },
  {
   "cell_type": "code",
   "execution_count": 104,
   "id": "87a7aa0b-4d9b-41e4-81f2-64dd331f9eb7",
   "metadata": {},
   "outputs": [
    {
     "ename": "SyntaxError",
     "evalue": "invalid syntax (3772761559.py, line 11)",
     "output_type": "error",
     "traceback": [
      "\u001b[0;36m  Cell \u001b[0;32mIn[104], line 11\u001b[0;36m\u001b[0m\n\u001b[0;31m    alpha =\u001b[0m\n\u001b[0m             ^\u001b[0m\n\u001b[0;31mSyntaxError\u001b[0m\u001b[0;31m:\u001b[0m invalid syntax\n"
     ]
    }
   ],
   "source": [
    "def RandomEquivalentIdeal(I, e, q, Minkowski_reduced_basis):\n",
    "    # TODO: what's a good initial small search?\n",
    "    coeff_bound = min((floor(logp / 10)), 7)\n",
    "    # TODO: what's a good search bound?\n",
    "    search_bound = max(coeff_bound**4, 4096)\n",
    "    nI = ZZ(I.norm())\n",
    "    Minkowski_reduced_basis = reduced_basis(I)\n",
    "    alpha = generate_small_norm_quat_random(Minkowski_reduced_basis, coeff_bound, search_bound)\n",
    "    N = ZZ(alpha.reduced_norm())// nI\n",
    "    while N % 2 == 0 or  N*q > 2**e:\n",
    "        alpha =  \n",
    "        N = ZZ(alpha.reduced_norm())// nI\n",
    "    J = chi(alpha, I)\n",
    "    return J, N, alpha\n",
    "    \n",
    "    "
   ]
  },
  {
   "cell_type": "code",
   "execution_count": null,
   "id": "22e79f52-2ad0-40c8-949e-69fca1607e4b",
   "metadata": {},
   "outputs": [],
   "source": []
  },
  {
   "cell_type": "code",
   "execution_count": null,
   "id": "96a0e435-07a7-4282-a5b8-8c51c0e5e8d6",
   "metadata": {},
   "outputs": [],
   "source": []
  },
  {
   "cell_type": "code",
   "execution_count": null,
   "id": "52b6e61c-1455-47d8-a1a6-c7c028723759",
   "metadata": {},
   "outputs": [],
   "source": []
  },
  {
   "cell_type": "code",
   "execution_count": 107,
   "id": "f0b9cc60-e924-45fe-9202-c1e49f8d51de",
   "metadata": {},
   "outputs": [],
   "source": [
    "from utilities.fast_sqrt import sqrt_Fp2"
   ]
  },
  {
   "cell_type": "code",
   "execution_count": 145,
   "id": "37d557c5-5442-490e-b686-b4b9faa50be1",
   "metadata": {},
   "outputs": [
    {
     "data": {
      "text/plain": [
       "5478933360105376520327544909088205666389909727997371836641129615133572395626653548543*z2 + 3310266865406889372571708181096241161043968"
      ]
     },
     "execution_count": 145,
     "metadata": {},
     "output_type": "execute_result"
    }
   ],
   "source": [
    "x=Fp2([0,-1])\n",
    "y=sqrt_Fp2(x)\n",
    "y*2"
   ]
  },
  {
   "cell_type": "code",
   "execution_count": 146,
   "id": "91e188bb-379d-46dc-a257-d6ef432cc38a",
   "metadata": {},
   "outputs": [
    {
     "data": {
      "text/plain": [
       "5478933360105376520327544909088205666389913038264237243530502186841753491867814592511"
      ]
     },
     "execution_count": 146,
     "metadata": {},
     "output_type": "execute_result"
    }
   ],
   "source": [
    "p"
   ]
  },
  {
   "cell_type": "code",
   "execution_count": null,
   "id": "b1859a35-107a-40e4-a31a-62d1c3f339b7",
   "metadata": {},
   "outputs": [],
   "source": [
    "def sqrt_Fp4(x, canonical=False):\n",
    "    \"\"\"\n",
    "    Fast computation of square-roots in SageMath using that p = 3 mod 4\n",
    "    \"\"\"\n",
    "    F = x.parent()\n",
    "    x0, x1, x2, x3 = x.list()\n",
    "    z = F.gen()\n",
    "\n",
    "    \n",
    "    \n",
    "    if x1 == x3 == 0:\n",
    "        lx0 = Fp2([x0,x2]).is_square()\n",
    "        if lx0:\n",
    "            y0 = sqrt_Fp2([x0,x2])\n",
    "            root = F(y)\n",
    "            if canonical:\n",
    "                return canonical_root(root)\n",
    "            return root\n",
    "\n",
    "        else:\n",
    "            y1 = sqrt_Fp(-x0)\n",
    "            root = F([0, y1])\n",
    "            if canonical:\n",
    "                return canonical_root(root)\n",
    "            return root\n",
    "\n",
    "    delta = x0**2 + x1**2\n",
    "    sqrt_delta = sqrt_Fp(delta)\n",
    "\n",
    "    y02 = (x0 + sqrt_delta) / 2\n",
    "    if not y02.is_square():\n",
    "        y02 -= sqrt_delta\n",
    "\n",
    "    y0 = sqrt_Fp(y02)\n",
    "    y1 = x1 / (y0 + y0)\n",
    "    root = F([y0, y1])\n",
    "\n",
    "    if canonical:\n",
    "        return canonical_root(root)\n",
    "    return root\n"
   ]
  },
  {
   "cell_type": "code",
   "execution_count": 149,
   "id": "547c1262-104d-4e16-954d-7c4a99f6bda7",
   "metadata": {},
   "outputs": [],
   "source": [
    "x=Fp2([0,1])"
   ]
  },
  {
   "cell_type": "code",
   "execution_count": 150,
   "id": "5a756277-7189-4079-ae7d-7f66b02a9f0c",
   "metadata": {},
   "outputs": [
    {
     "data": {
      "text/plain": [
       "5478933360105376520327544909088205666389913038264237243530502186841753491867814592510*z^2"
      ]
     },
     "execution_count": 150,
     "metadata": {},
     "output_type": "execute_result"
    }
   ],
   "source": [
    "Fp4(x)"
   ]
  },
  {
   "cell_type": "code",
   "execution_count": 155,
   "id": "83ec614a-6810-4c25-a38a-6b6de31ee8c1",
   "metadata": {},
   "outputs": [
    {
     "data": {
      "text/plain": [
       "z2"
      ]
     },
     "execution_count": 155,
     "metadata": {},
     "output_type": "execute_result"
    }
   ],
   "source": [
    "Fp2.gen()"
   ]
  },
  {
   "cell_type": "code",
   "execution_count": 154,
   "id": "2975c9ed-497a-4e34-9be4-c80f9cbbbc97",
   "metadata": {},
   "outputs": [
    {
     "data": {
      "text/plain": [
       "2942753535763096284326002166907520023690185806098102310836236699963060970838893431129*z2 + 2781270039533818001324577455954119058949320635922086962039992048232205077009663462848"
      ]
     },
     "execution_count": 154,
     "metadata": {},
     "output_type": "execute_result"
    }
   ],
   "source": [
    "zeta"
   ]
  },
  {
   "cell_type": "code",
   "execution_count": null,
   "id": "3203f489-5463-4c8d-bd8f-315b80f6fc04",
   "metadata": {},
   "outputs": [],
   "source": []
  },
  {
   "cell_type": "code",
   "execution_count": 4,
   "id": "77b7a1bb-97e0-45e6-863d-3bed3feb9a1b",
   "metadata": {},
   "outputs": [
    {
     "ename": "NameError",
     "evalue": "name 'Q' is not defined",
     "output_type": "error",
     "traceback": [
      "\u001b[0;31m---------------------------------------------------------------------------\u001b[0m",
      "\u001b[0;31mNameError\u001b[0m                                 Traceback (most recent call last)",
      "Cell \u001b[0;32mIn[4], line 1\u001b[0m\n\u001b[0;32m----> 1\u001b[0m \u001b[43mQ\u001b[49m\u001b[38;5;241m.\u001b[39mmaximal_order()\n",
      "\u001b[0;31mNameError\u001b[0m: name 'Q' is not defined"
     ]
    }
   ],
   "source": [
    "Q.maximal_order()"
   ]
  },
  {
   "cell_type": "code",
   "execution_count": 5,
   "id": "6e2780f8-a6b6-44b0-b44e-cb13d471fcfe",
   "metadata": {},
   "outputs": [],
   "source": [
    "Q = QuaternionAlgebra(-1, -p)\n",
    "O0_basis = (Q((1,0,0,0)),Q((0,1,0,0)),Q((0,1/2,1/2,0)),Q((1/2,0,0,1/2)))\n"
   ]
  },
  {
   "cell_type": "code",
   "execution_count": 8,
   "id": "40458bb7-da3c-46a3-8ebb-729d52bdd417",
   "metadata": {},
   "outputs": [
    {
     "ename": "NameError",
     "evalue": "name 'reduced_basis' is not defined",
     "output_type": "error",
     "traceback": [
      "\u001b[0;31m---------------------------------------------------------------------------\u001b[0m",
      "\u001b[0;31mNameError\u001b[0m                                 Traceback (most recent call last)",
      "Cell \u001b[0;32mIn[8], line 4\u001b[0m\n\u001b[1;32m      2\u001b[0m a \u001b[38;5;241m=\u001b[39m I0\u001b[38;5;241m.\u001b[39mrandom_element()\n\u001b[1;32m      3\u001b[0m I1 \u001b[38;5;241m=\u001b[39m I0\u001b[38;5;241m*\u001b[39ma\n\u001b[0;32m----> 4\u001b[0m \u001b[43mreduced_basis\u001b[49m(I1)\n",
      "\u001b[0;31mNameError\u001b[0m: name 'reduced_basis' is not defined"
     ]
    }
   ],
   "source": [
    "I0 =Q.ideal(O0_basis)\n",
    "a = I0.random_element()\n",
    "I1 = I0*a\n",
    "reduced_basis(I1)"
   ]
  },
  {
   "cell_type": "code",
   "execution_count": null,
   "id": "1de89ee2-5397-4b8f-bf84-cefcfbbec99d",
   "metadata": {},
   "outputs": [],
   "source": []
  },
  {
   "cell_type": "code",
   "execution_count": null,
   "id": "ffe4f915-348c-46cd-a3dd-2884fa0a7052",
   "metadata": {},
   "outputs": [],
   "source": []
  },
  {
   "cell_type": "code",
   "execution_count": null,
   "id": "76110fe4-c6fe-48da-aa92-5ed587536f62",
   "metadata": {},
   "outputs": [],
   "source": []
  },
  {
   "cell_type": "markdown",
   "id": "741a7d78-562a-4c2f-8c67-96be7a31c0d1",
   "metadata": {},
   "source": [
    "# Legacy Code"
   ]
  },
  {
   "cell_type": "code",
   "execution_count": null,
   "id": "2ee5a168-db3f-4df0-8080-2fc06b006821",
   "metadata": {},
   "outputs": [],
   "source": []
  },
  {
   "cell_type": "code",
   "execution_count": null,
   "id": "12597e8f-c734-4562-84f8-c5ac0f773775",
   "metadata": {},
   "outputs": [],
   "source": []
  },
  {
   "cell_type": "markdown",
   "id": "b5d09af3-2432-4bf9-894e-af5766f1dffa",
   "metadata": {},
   "source": [
    "## Key Generation"
   ]
  },
  {
   "cell_type": "code",
   "execution_count": 314,
   "id": "6ff84318-8146-4a5c-9d77-8ece3a65441f",
   "metadata": {},
   "outputs": [],
   "source": [
    "#SQIPrime KeyGen:\n",
    "def SQIprime_KeyGen():\n",
    "    Phi_A, I_tau, I_rho = Kani_double_path(E0,p,q, e, zeta, Basis_2, action_matrices_2, Quat_alg, O0_basis) \n",
    "    #E_A = Phi_A.get_codomain()[0]\n",
    "    Mask_matrix = Matrix([[1,0],[0,1]])  #sample_random_matrix(Fq) \n",
    "    tau_BasisEA_2 = eval_basis_unsmooth(E0,E0, Phi_A, q, Basis_2, 2**e, True)\n",
    "    E_A = tau_BasisEA_2[0].curve()\n",
    "    rho_BasisEA_q = eval_basis_unsmooth(E0,E0, Phi_A, 2**e-q, Basis_q,q, False)\n",
    "    assert rho_BasisEA_q[0].curve() == E_A\n",
    "    R,S = (Mask_matrix[0][0]*rho_BasisEA_q[0]+Mask_matrix[0][1]*rho_BasisEA_q[1]), (Mask_matrix[1][0]*rho_BasisEA_q[0]+Mask_matrix[1][1]*rho_BasisEA_q[1])\n",
    "    public_key = (E_A,(R,S))\n",
    "    secret_key = (Phi_A, I_tau, I_rho, Mask_matrix)\n",
    "    return public_key, secret_key"
   ]
  },
  {
   "cell_type": "code",
   "execution_count": 315,
   "id": "aaba71fd-b745-44fd-9a56-1c51436b78d2",
   "metadata": {},
   "outputs": [
    {
     "ename": "ZeroDivisionError",
     "evalue": "",
     "output_type": "error",
     "traceback": [
      "\u001b[0;31m---------------------------------------------------------------------------\u001b[0m",
      "\u001b[0;31mZeroDivisionError\u001b[0m                         Traceback (most recent call last)",
      "Cell \u001b[0;32mIn[315], line 1\u001b[0m\n\u001b[0;32m----> 1\u001b[0m public_key, secret_key \u001b[38;5;241m=\u001b[39m \u001b[43mSQIprime_KeyGen\u001b[49m\u001b[43m(\u001b[49m\u001b[43m)\u001b[49m\n",
      "Cell \u001b[0;32mIn[314], line 3\u001b[0m, in \u001b[0;36mSQIprime_KeyGen\u001b[0;34m()\u001b[0m\n\u001b[1;32m      2\u001b[0m \u001b[38;5;28;01mdef\u001b[39;00m \u001b[38;5;21mSQIprime_KeyGen\u001b[39m():\n\u001b[0;32m----> 3\u001b[0m     Phi_A, I_tau, I_rho \u001b[38;5;241m=\u001b[39m \u001b[43mKani_double_path\u001b[49m\u001b[43m(\u001b[49m\u001b[43mE0\u001b[49m\u001b[43m,\u001b[49m\u001b[43mp\u001b[49m\u001b[43m,\u001b[49m\u001b[43mq\u001b[49m\u001b[43m,\u001b[49m\u001b[43m \u001b[49m\u001b[43me\u001b[49m\u001b[43m,\u001b[49m\u001b[43m \u001b[49m\u001b[43mzeta\u001b[49m\u001b[43m,\u001b[49m\u001b[43m \u001b[49m\u001b[43mBasis_2\u001b[49m\u001b[43m,\u001b[49m\u001b[43m \u001b[49m\u001b[43maction_matrices_2\u001b[49m\u001b[43m,\u001b[49m\u001b[43m \u001b[49m\u001b[43mQuat_alg\u001b[49m\u001b[43m,\u001b[49m\u001b[43m \u001b[49m\u001b[43mO0_basis\u001b[49m\u001b[43m)\u001b[49m \n\u001b[1;32m      4\u001b[0m     \u001b[38;5;66;03m#E_A = Phi_A.get_codomain()[0]\u001b[39;00m\n\u001b[1;32m      5\u001b[0m     Mask_matrix \u001b[38;5;241m=\u001b[39m Matrix([[Integer(\u001b[38;5;241m1\u001b[39m),Integer(\u001b[38;5;241m0\u001b[39m)],[Integer(\u001b[38;5;241m0\u001b[39m),Integer(\u001b[38;5;241m1\u001b[39m)]])  \u001b[38;5;66;03m#sample_random_matrix(Fq) \u001b[39;00m\n",
      "Cell \u001b[0;32mIn[175], line 18\u001b[0m, in \u001b[0;36mKani_double_path\u001b[0;34m(E0, p, q, e, zeta, basis, action_matrices, Quat_alg, Basis0)\u001b[0m\n\u001b[1;32m     16\u001b[0m kernel \u001b[38;5;241m=\u001b[39m (Pa, Qa)\n\u001b[1;32m     17\u001b[0m \u001b[38;5;66;03m#Phi = EllipticProductIsogeny(kernel, n, optimised_strategy(n), zeta)\u001b[39;00m\n\u001b[0;32m---> 18\u001b[0m Phi \u001b[38;5;241m=\u001b[39m \u001b[43mEllipticProductIsogenySqrt\u001b[49m\u001b[43m(\u001b[49m\u001b[43mkernel\u001b[49m\u001b[43m,\u001b[49m\u001b[43m \u001b[49m\u001b[43me\u001b[49m\u001b[43m,\u001b[49m\u001b[43m \u001b[49m\u001b[38;5;28;43;01mNone\u001b[39;49;00m\u001b[43m,\u001b[49m\u001b[43m \u001b[49m\u001b[43mzeta\u001b[49m\u001b[43m)\u001b[49m\n\u001b[1;32m     20\u001b[0m \u001b[38;5;28mprint\u001b[39m(Phi\u001b[38;5;241m.\u001b[39mcodomain())\n\u001b[1;32m     22\u001b[0m Ideal_0 \u001b[38;5;241m=\u001b[39m Quat_alg\u001b[38;5;241m.\u001b[39mideal(Basis0)\n",
      "File \u001b[0;32m~/Desktop/Code/SAGE/SQIprime_Fp4/theta_isogenies/product_isogeny_sqrt.py:20\u001b[0m, in \u001b[0;36mEllipticProductIsogenySqrt.__init__\u001b[0;34m(self, kernel, n, strategy, zeta)\u001b[0m\n\u001b[1;32m     19\u001b[0m \u001b[38;5;28;01mdef\u001b[39;00m \u001b[38;5;21m__init__\u001b[39m(\u001b[38;5;28mself\u001b[39m, kernel, n, strategy\u001b[38;5;241m=\u001b[39m\u001b[38;5;28;01mNone\u001b[39;00m, zeta\u001b[38;5;241m=\u001b[39m\u001b[38;5;28;01mNone\u001b[39;00m):\n\u001b[0;32m---> 20\u001b[0m     \u001b[38;5;28;43msuper\u001b[39;49m\u001b[43m(\u001b[49m\u001b[43m)\u001b[49m\u001b[38;5;241;43m.\u001b[39;49m\u001b[38;5;21;43m__init__\u001b[39;49m\u001b[43m(\u001b[49m\u001b[43mkernel\u001b[49m\u001b[43m,\u001b[49m\u001b[43m \u001b[49m\u001b[43mn\u001b[49m\u001b[43m,\u001b[49m\u001b[43m \u001b[49m\u001b[43mstrategy\u001b[49m\u001b[38;5;241;43m=\u001b[39;49m\u001b[43mstrategy\u001b[49m\u001b[43m,\u001b[49m\u001b[43m \u001b[49m\u001b[43mzeta\u001b[49m\u001b[38;5;241;43m=\u001b[39;49m\u001b[43mzeta\u001b[49m\u001b[43m)\u001b[49m\n",
      "File \u001b[0;32m~/Desktop/Code/SAGE/SQIprime_Fp4/theta_isogenies/product_isogeny.py:44\u001b[0m, in \u001b[0;36mEllipticProductIsogeny.__init__\u001b[0;34m(self, kernel, n, strategy, zeta)\u001b[0m\n\u001b[1;32m     41\u001b[0m     strategy \u001b[38;5;241m=\u001b[39m \u001b[38;5;28mself\u001b[39m\u001b[38;5;241m.\u001b[39mget_strategy()\n\u001b[1;32m     42\u001b[0m \u001b[38;5;28mself\u001b[39m\u001b[38;5;241m.\u001b[39mstrategy \u001b[38;5;241m=\u001b[39m strategy\n\u001b[0;32m---> 44\u001b[0m \u001b[38;5;28mself\u001b[39m\u001b[38;5;241m.\u001b[39m_phis \u001b[38;5;241m=\u001b[39m \u001b[38;5;28;43mself\u001b[39;49m\u001b[38;5;241;43m.\u001b[39;49m\u001b[43misogeny_chain\u001b[49m\u001b[43m(\u001b[49m\u001b[43mkernel\u001b[49m\u001b[43m)\u001b[49m\n\u001b[1;32m     45\u001b[0m T_last \u001b[38;5;241m=\u001b[39m \u001b[38;5;28mself\u001b[39m\u001b[38;5;241m.\u001b[39m_phis[\u001b[38;5;241m-\u001b[39m\u001b[38;5;241m1\u001b[39m]\u001b[38;5;241m.\u001b[39mcodomain()\n\u001b[1;32m     46\u001b[0m \u001b[38;5;28mself\u001b[39m\u001b[38;5;241m.\u001b[39m_splitting \u001b[38;5;241m=\u001b[39m SplitThetaStructure(T_last)\n",
      "File \u001b[0;32m~/Desktop/Code/SAGE/SQIprime_Fp4/theta_isogenies/product_isogeny_sqrt.py:60\u001b[0m, in \u001b[0;36mEllipticProductIsogenySqrt.isogeny_chain\u001b[0;34m(self, kernel)\u001b[0m\n\u001b[1;32m     58\u001b[0m Tp1, Tp2 \u001b[38;5;241m=\u001b[39m ker\n\u001b[1;32m     59\u001b[0m \u001b[38;5;28;01mif\u001b[39;00m k \u001b[38;5;241m==\u001b[39m \u001b[38;5;241m0\u001b[39m:\n\u001b[0;32m---> 60\u001b[0m     phi \u001b[38;5;241m=\u001b[39m \u001b[43mGluingThetaIsogeny\u001b[49m\u001b[43m(\u001b[49m\u001b[43mTp1\u001b[49m\u001b[43m,\u001b[49m\u001b[43m \u001b[49m\u001b[43mTp2\u001b[49m\u001b[43m)\u001b[49m\n\u001b[1;32m     61\u001b[0m \u001b[38;5;28;01melse\u001b[39;00m:\n\u001b[1;32m     62\u001b[0m     phi \u001b[38;5;241m=\u001b[39m ThetaIsogeny(Th, Tp1, Tp2)\n",
      "File \u001b[0;32m~/Desktop/Code/SAGE/SQIprime_Fp4/theta_isogenies/gluing_isogeny.py:44\u001b[0m, in \u001b[0;36mGluingThetaIsogeny.__init__\u001b[0;34m(self, K1_8, K2_8, M)\u001b[0m\n\u001b[1;32m     41\u001b[0m T2_8 \u001b[38;5;241m=\u001b[39m \u001b[38;5;28mself\u001b[39m\u001b[38;5;241m.\u001b[39mbase_change(K2_8)\n\u001b[1;32m     43\u001b[0m \u001b[38;5;66;03m# Compute the codomain of the gluing isogeny\u001b[39;00m\n\u001b[0;32m---> 44\u001b[0m \u001b[38;5;28mself\u001b[39m\u001b[38;5;241m.\u001b[39m_codomain \u001b[38;5;241m=\u001b[39m \u001b[38;5;28;43mself\u001b[39;49m\u001b[38;5;241;43m.\u001b[39;49m\u001b[43m_special_compute_codomain\u001b[49m\u001b[43m(\u001b[49m\u001b[43mT1_8\u001b[49m\u001b[43m,\u001b[49m\u001b[43m \u001b[49m\u001b[43mT2_8\u001b[49m\u001b[43m)\u001b[49m\n",
      "File \u001b[0;32m~/Desktop/Code/SAGE/SQIprime_Fp4/theta_isogenies/gluing_isogeny.py:220\u001b[0m, in \u001b[0;36mGluingThetaIsogeny._special_compute_codomain\u001b[0;34m(self, T1, T2)\u001b[0m\n\u001b[1;32m    217\u001b[0m num_4 \u001b[38;5;241m=\u001b[39m xAxByCyD[\u001b[38;5;241m3\u001b[39m \u001b[38;5;241m^\u001b[39m \u001b[38;5;28mself\u001b[39m\u001b[38;5;241m.\u001b[39m_zero_idx]\n\u001b[1;32m    219\u001b[0m \u001b[38;5;66;03m# Compute and invert non-trivial denominators\u001b[39;00m\n\u001b[0;32m--> 220\u001b[0m den_1, den_2, den_3, den_4 \u001b[38;5;241m=\u001b[39m \u001b[43mbatched_inversion\u001b[49m\u001b[43m(\u001b[49m\u001b[43mnum_1\u001b[49m\u001b[43m,\u001b[49m\u001b[43m \u001b[49m\u001b[43mnum_2\u001b[49m\u001b[43m,\u001b[49m\u001b[43m \u001b[49m\u001b[43mnum_3\u001b[49m\u001b[43m,\u001b[49m\u001b[43m \u001b[49m\u001b[43mnum_4\u001b[49m\u001b[43m)\u001b[49m\n\u001b[1;32m    222\u001b[0m \u001b[38;5;66;03m# Compute A, B, C, D\u001b[39;00m\n\u001b[1;32m    223\u001b[0m ABCD[\u001b[38;5;241m0\u001b[39m \u001b[38;5;241m^\u001b[39m \u001b[38;5;28mself\u001b[39m\u001b[38;5;241m.\u001b[39m_zero_idx] \u001b[38;5;241m=\u001b[39m \u001b[38;5;241m0\u001b[39m\n",
      "File \u001b[0;32m~/Desktop/Code/SAGE/SQIprime_Fp4/utilities/batched_inversion.py:15\u001b[0m, in \u001b[0;36mbatched_inversion\u001b[0;34m(*input)\u001b[0m\n\u001b[1;32m     13\u001b[0m \u001b[38;5;66;03m# Compute 1 / (a0a1a2...an)\u001b[39;00m\n\u001b[1;32m     14\u001b[0m last_multiple \u001b[38;5;241m=\u001b[39m multiples[\u001b[38;5;241m-\u001b[39m\u001b[38;5;241m1\u001b[39m]\n\u001b[0;32m---> 15\u001b[0m inverses_multiples \u001b[38;5;241m=\u001b[39m [\u001b[38;5;241;43m1\u001b[39;49m\u001b[43m \u001b[49m\u001b[38;5;241;43m/\u001b[39;49m\u001b[43m \u001b[49m\u001b[43mlast_multiple\u001b[49m]\n\u001b[1;32m     17\u001b[0m \u001b[38;5;66;03m# Compute (a0a1a2...an)^-1, (a0a1a2...a(n-1)) ... a0^-1\u001b[39;00m\n\u001b[1;32m     18\u001b[0m \u001b[38;5;66;03m# using k-1 multiplications\u001b[39;00m\n\u001b[1;32m     19\u001b[0m \u001b[38;5;28;01mfor\u001b[39;00m ai \u001b[38;5;129;01min\u001b[39;00m \u001b[38;5;28mreversed\u001b[39m(\u001b[38;5;28minput\u001b[39m[\u001b[38;5;241m1\u001b[39m:]):\n",
      "File \u001b[0;32m/private/var/tmp/sage-10.3-current/local/var/lib/sage/venv-python3.11.8/lib/python3.11/site-packages/sage/structure/element.pyx:1733\u001b[0m, in \u001b[0;36msage.structure.element.Element.__truediv__ (build/cythonized/sage/structure/element.c:21107)\u001b[0;34m()\u001b[0m\n\u001b[1;32m   1731\u001b[0m \n\u001b[1;32m   1732\u001b[0m         try:\n\u001b[0;32m-> 1733\u001b[0m             return coercion_model.bin_op(left, right, truediv)\n\u001b[1;32m   1734\u001b[0m         except TypeError:\n\u001b[1;32m   1735\u001b[0m             return NotImplemented\n",
      "File \u001b[0;32m/private/var/tmp/sage-10.3-current/local/var/lib/sage/venv-python3.11.8/lib/python3.11/site-packages/sage/structure/coerce.pyx:1234\u001b[0m, in \u001b[0;36msage.structure.coerce.CoercionModel.bin_op (build/cythonized/sage/structure/coerce.c:15922)\u001b[0;34m()\u001b[0m\n\u001b[1;32m   1232\u001b[0m     self._record_exception()\n\u001b[1;32m   1233\u001b[0m else:\n\u001b[0;32m-> 1234\u001b[0m     return PyObject_CallObject(op, xy)\n\u001b[1;32m   1235\u001b[0m \n\u001b[1;32m   1236\u001b[0m if op is mul:\n",
      "File \u001b[0;32m/private/var/tmp/sage-10.3-current/local/var/lib/sage/venv-python3.11.8/lib/python3.11/site-packages/sage/structure/element.pyx:1728\u001b[0m, in \u001b[0;36msage.structure.element.Element.__truediv__ (build/cythonized/sage/structure/element.c:21030)\u001b[0;34m()\u001b[0m\n\u001b[1;32m   1726\u001b[0m cdef int cl = classify_elements(left, right)\n\u001b[1;32m   1727\u001b[0m if HAVE_SAME_PARENT(cl):\n\u001b[0;32m-> 1728\u001b[0m     return (<Element>left)._div_(right)\n\u001b[1;32m   1729\u001b[0m if BOTH_ARE_ELEMENT(cl):\n\u001b[1;32m   1730\u001b[0m     return coercion_model.bin_op(left, right, truediv)\n",
      "File \u001b[0;32m/private/var/tmp/sage-10.3-current/local/var/lib/sage/venv-python3.11.8/lib/python3.11/site-packages/sage/rings/finite_rings/element_pari_ffelt.pyx:722\u001b[0m, in \u001b[0;36msage.rings.finite_rings.element_pari_ffelt.FiniteFieldElement_pari_ffelt._div_ (build/cythonized/sage/rings/finite_rings/element_pari_ffelt.c:12247)\u001b[0;34m()\u001b[0m\n\u001b[1;32m    720\u001b[0m \"\"\"\n\u001b[1;32m    721\u001b[0m if FF_equal0((<FiniteFieldElement_pari_ffelt>right).val):\n\u001b[0;32m--> 722\u001b[0m     raise ZeroDivisionError\n\u001b[1;32m    723\u001b[0m cdef FiniteFieldElement_pari_ffelt x = self._new()\n\u001b[1;32m    724\u001b[0m sig_on()\n",
      "\u001b[0;31mZeroDivisionError\u001b[0m: "
     ]
    }
   ],
   "source": [
    "public_key, secret_key = SQIprime_KeyGen()"
   ]
  },
  {
   "cell_type": "code",
   "execution_count": null,
   "id": "a7a43d97-8099-4e62-b3f9-d091f5d5a5e4",
   "metadata": {},
   "outputs": [],
   "source": [
    "secret_key[3]"
   ]
  },
  {
   "cell_type": "code",
   "execution_count": null,
   "id": "49acfbaa-5b6f-475b-ae18-46bd2814b23e",
   "metadata": {},
   "outputs": [],
   "source": []
  },
  {
   "cell_type": "code",
   "execution_count": null,
   "id": "b47dc0a8-93c5-487f-b00f-5f8b269b10bf",
   "metadata": {},
   "outputs": [],
   "source": []
  },
  {
   "cell_type": "code",
   "execution_count": 177,
   "id": "984b4d36-e8e4-4d71-939b-4d3cbf7f2593",
   "metadata": {},
   "outputs": [
    {
     "data": {
      "text/plain": [
       "4274888328491923547373681883413660568112458147883287351175827875012828805471238142403*z^2 + 3551792438821654697644216446971653199798024936717085777550621335643931368838392371447"
      ]
     },
     "execution_count": 177,
     "metadata": {},
     "output_type": "execute_result"
    }
   ],
   "source": [
    "public_key[0].j_invariant()"
   ]
  },
  {
   "cell_type": "code",
   "execution_count": 178,
   "id": "b87352bc-7551-42de-81d7-3d456f05a9ec",
   "metadata": {},
   "outputs": [
    {
     "data": {
      "text/plain": [
       "(Elliptic Curve defined by y^2 = x^3 + (4293755985199886650634805551460338680673992474479732949818988994436983676703877336472*z^2+1887763822976347246146679230830028110274052937726075577717113594052950203862745262603)*x^2 + x over Finite Field in z of size 5478933360105376520327544909088205666389913038264237243530502186841753491867814592511^4,\n",
       " ((5405796427949134498685185576445106551056045175354250256758864013376867170580675425761*z^2 + 2631827568257976038727470543512244496859919561572912356563483011584397777714544312750 : 2913583530324939136702640594084395568612970104615780506475192290940790911447686436585*z^3 + 4586231901645191559834270894842962515322156098416282566910457567890958567709323123388*z : 1),\n",
       "  (233805661308317251603916372697855036853706524259843326396215270598975891238974014077*z^2 + 756778486162658379799701599683312125786026396121459073000867862865058883094628334645 : 2863892270324816807093304060922037492451472413564282297015968429386135359658154030708*z^3 + 634183505699051070080685714583162224350866714052554199523065786723007576770597110959*z : 1)))"
      ]
     },
     "execution_count": 178,
     "metadata": {},
     "output_type": "execute_result"
    }
   ],
   "source": [
    "public_key"
   ]
  },
  {
   "cell_type": "markdown",
   "id": "7e37a84f-4cdd-4d85-a3bd-648a7a9f59bc",
   "metadata": {},
   "source": [
    "## Signature"
   ]
  },
  {
   "cell_type": "markdown",
   "id": "79be79e5-2c2e-4f51-a72a-c3589da82935",
   "metadata": {},
   "source": [
    "## Commit"
   ]
  },
  {
   "cell_type": "code",
   "execution_count": 489,
   "id": "04ad02c6-d825-4483-a872-552956427d6a",
   "metadata": {},
   "outputs": [],
   "source": [
    "#Commit\n",
    "def SQIprime_Commit():    \n",
    "    deg_1 = 1\n",
    "    while not sympy.isprime(deg_1:=rand.randint(0,2**int(e/2))):\n",
    "        pass\n",
    "    Phi_1, I_psi, _ = Kani_double_path(E0, p , deg_1 , e, zeta, Basis_2, action_matrices_2, Quat_alg, O0_basis)\n",
    "    assert deg_1 == I_psi.norm()\n",
    "    Image_BasisE1_2 = eval_basis_unsmooth(E0, E0, Phi_1, deg_1, Basis_2, 2**e, True)\n",
    "    E_1 = Image_BasisE1_2[0].curve()\n",
    "    BasisE1_2 = basis_4(E_1, 2, e)\n",
    "    disc_log_image=[]\n",
    "    disc_log_image.append(BiDLP(BasisE1_2[0],Image_BasisE1_2[0],Image_BasisE1_2[1], 2**e))\n",
    "    disc_log_image.append(BiDLP(BasisE1_2[1],Image_BasisE1_2[0],Image_BasisE1_2[1], 2**e))\n",
    "    commit = E_1, BasisE1_2\n",
    "    secret_commit = I_psi, disc_log_image, deg_1\n",
    "    return commit, secret_commit"
   ]
  },
  {
   "cell_type": "code",
   "execution_count": 490,
   "id": "c69b5c2d-8cc3-4b3b-a02a-d3ca7272313f",
   "metadata": {},
   "outputs": [
    {
     "name": "stdout",
     "output_type": "stream",
     "text": [
      "(Elliptic Curve defined by y^2 = x^3 + (6007254832126461042667391260941258129263631443782219414928176946763915430313*z^2+12578772999095571090947736908284911113330594444690938299524883946288436198834)*x^2 + x over Finite Field in z of size 17866357519039022340746304327512392032047517165206258904525681907470971174911^4, Elliptic Curve defined by y^2 = x^3 + (2755032211613202873916062554072456293631636878333556747655665700818350519766*z^2+10584302918702273187708840484638416652579119552596439715008157693159771770258)*x^2 + x over Finite Field in z of size 17866357519039022340746304327512392032047517165206258904525681907470971174911^4)\n"
     ]
    }
   ],
   "source": [
    "commit, secret_commit = SQIprime_Commit()"
   ]
  },
  {
   "cell_type": "code",
   "execution_count": null,
   "id": "9d9b8820-644a-46f6-af0f-9a105d138765",
   "metadata": {},
   "outputs": [],
   "source": []
  },
  {
   "cell_type": "code",
   "execution_count": null,
   "id": "75a4cc0b-0de9-4966-acec-33f3d8a4cc35",
   "metadata": {},
   "outputs": [],
   "source": [
    "commit"
   ]
  },
  {
   "cell_type": "code",
   "execution_count": null,
   "id": "38c59f6f-8682-409d-ace4-ef68d8f69a17",
   "metadata": {},
   "outputs": [],
   "source": []
  },
  {
   "cell_type": "markdown",
   "id": "7c628dd4-8df9-40c1-b77b-24bb48dd1742",
   "metadata": {},
   "source": [
    "## Challenge"
   ]
  },
  {
   "cell_type": "code",
   "execution_count": 181,
   "id": "fe37b6c8-b71a-42fc-a9de-719000107f73",
   "metadata": {},
   "outputs": [],
   "source": [
    "#Challenge\n",
    "chall = rand.randint(0,q)  \n"
   ]
  },
  {
   "cell_type": "markdown",
   "id": "226c2b3f-9b81-45fd-aece-e3563f416a5f",
   "metadata": {},
   "source": [
    "## Response"
   ]
  },
  {
   "cell_type": "code",
   "execution_count": 545,
   "id": "95e54d18-a075-41e8-bb03-673bdfca0be8",
   "metadata": {},
   "outputs": [],
   "source": [
    "def SQIprime_Response(secret_key, public_key, secret_commit, commit, chall):\n",
    "    #Loading\n",
    "    E_A,(R,S) = public_key \n",
    "    Phi_A, I_tau, I_rho, Mask_matrix = secret_key\n",
    "    E_1, BasisE1_2 = commit\n",
    "    I_psi, disc_log_image, deg_1 = secret_commit\n",
    "    ker_chall = R + chall*S \n",
    "    ker_dual_chall = -chall*R + S \n",
    "\n",
    "    #Compute the corresponding ideal\n",
    "    matrixbc = Mask_matrix.transpose() * Matrix([[Fq(1)],[Fq(chall)]])\n",
    "    Ideal_0 = Quat_alg.ideal(O0_basis)\n",
    "    C = Quat_alg(matrixbc[0][0])+Quat_alg(matrixbc[1][0])*iota_end\n",
    "    \n",
    "    #It works, don't ask my why\n",
    "    I_varphi = pushforward(C*Ideal_P*(C**(-1)), C*I_rho)\n",
    "    \n",
    "    assert I_varphi.norm() == q\n",
    "    \n",
    "        #TO DO: Compute without intermediary pushforward\n",
    "    I_rhoI_varphi =multiply_ideals(I_rho,I_varphi)\n",
    "    \n",
    "    \n",
    "    #print(I_rhoI_varphi)\n",
    "    #I_varphi2 = pushforward(Ideal_P,I_rho)\n",
    "    #assert I_varphi2 == I_varphi\n",
    "    #assert I_varphi.left_order() == I_rho.right_order()\n",
    "    \n",
    "    # Compute the answer ideal\n",
    "    J = multiply_ideals(I_rhoI_varphi.conjugate(), I_psi)\n",
    "    I_sigma, Minkowski_reduced_basis = small_equivalent_ideal(J)\n",
    "    i=1\n",
    "    while I_sigma.norm() % 2 == 0 and i < 4:\n",
    "        I_sigma = chi(Minkowski_reduced_basis[i],J)\n",
    "        i +=1\n",
    "    while I_sigma.norm() %2 == 0 or I_sigma.norm()*q > 2**e:\n",
    "        det = generate_small_norm_quat_random(Minkowski_reduced_basis, coeff_bound, search_bound)\n",
    "        I_sigma = chi(det, J)\n",
    "    d = I_sigma.norm()\n",
    "    \n",
    "    #Compute kappa \n",
    "    I_rhoI_varphiI_sigma = multiply_ideals(I_rhoI_varphi, I_sigma) \n",
    "    # Compute images of kappa using EvalTorsion.\n",
    "    \n",
    "    #Compute corresponding endomorphism\n",
    "    auto = left_isomorphism(I_rhoI_varphiI_sigma,I_psi)\n",
    "    Gamma = multiply_ideals(I_psi, I_rhoI_varphiI_sigma.conjugate(), auto)\n",
    "    gamma = left_isomorphism(Quat_alg.ideal(O0_basis),Gamma)\n",
    "    \n",
    "    gamma_list2 = component_endo(gamma.conjugate())\n",
    "    X,Y = action_image(gamma_list2, image_action_q, Basis_q)\n",
    "    if (Mask_matrix[0,0]*X + chall*Mask_matrix[0,1]*Y)+(Mask_matrix[1,0]*X + chall*Mask_matrix[1,1]*Y) != E0(0):\n",
    "        gamma= Quat_alg([0,1,0,0])*gamma\n",
    "        gamma_list2 = component_endo(gamma.conjugate())\n",
    "        X,Y = action_image(gamma_list2, image_action_q, Basis_q)\n",
    "        assert (Mask_matrix[0,0]*X + chall*Mask_matrix[0,1]*Y)+(Mask_matrix[1,0]*X + chall*Mask_matrix[1,1]*Y) == E0(0)\n",
    "    \n",
    "    assert gamma.reduced_norm() == deg_1*d*q*(2**e-q)\n",
    "    \n",
    "    gamma_list = component_endo(gamma)\n",
    "\n",
    "    #Compute different points\n",
    "    \n",
    "    vP = End.action_by_matrices(gamma_list, [deg_1*disc_log_image[0][0], deg_1*disc_log_image[0][1]], action_matrices_2)\n",
    "    X2= vP[0]*Basis_2[0]+vP[1]*Basis_2[1]\n",
    "    vQ = End.action_by_matrices(gamma_list, [deg_1*disc_log_image[1][0], deg_1*disc_log_image[1][1]], action_matrices_2)\n",
    "    Y2 = vQ[0]*Basis_2[0]+vQ[1]*Basis_2[1]\n",
    "    \n",
    "    assert X2.weil_pairing(Y2, 2**e) == BasisE1_2[0].weil_pairing(BasisE1_2[1], 2**e)**(deg_1*deg_1*d*q*(2**e-q))\n",
    "        \n",
    "    X3, Y3 = eval_basis_unsmooth(E0,E0, Phi_A, 2**e - q, (X2,Y2), 2**e, False)\n",
    "\n",
    "    assert(X3.weil_pairing(Y3, 2**e) == (X2.weil_pairing(Y2, 2**e))**(2**e -q))\n",
    "\n",
    "    lambda_ = Z2e(- q*deg_1)**(-1)\n",
    "    X4, Y4 =  lambda_*X3, lambda_*Y3\n",
    "\n",
    "    assert(X4.weil_pairing(Y4, 2**e) == (BasisE1_2[0].weil_pairing(BasisE1_2[1], 2**e))**(d*q))\n",
    "\n",
    "    # Construct auxiliary endomorphism.\n",
    "    sigma = quat.FullRepresentInteger(d*(2**e-(q*d)),p)\n",
    "    vP = End.action_by_matrices(sigma, [1, 0], action_matrices_2)\n",
    "    sigmaP = vP[0]*Basis_2[0] + vP[1]*Basis_2[1]\n",
    "    vQ = End.action_by_matrices(sigma, [0, 1], action_matrices_2)\n",
    "    sigmaQ = vQ[0]*Basis_2[0] + vQ[1]*Basis_2[1]\n",
    "    \n",
    "    P2,Q2 = eval_basis_unsmooth(E0, E0, Phi_A, q, (sigmaP,sigmaQ), 2**e, True)\n",
    "    P1 = (-d*q)*Basis_2[0]\n",
    "    Q1 = (-d*q)*Basis_2[1]\n",
    "    assert P2.curve() == E_A\n",
    "    \n",
    "    assert(P2.weil_pairing(Q2, 2**e)==  Basis_2[0].weil_pairing(Basis_2[1], 2**e) **(-((q*d)**2)))\n",
    "    Pa, Qa = CouplePoint(P1,P2), CouplePoint(Q1, Q2)\n",
    "    kernel = (Pa, Qa)\n",
    "    Phi_delta = EllipticProductIsogenySqrt(kernel, e, None, zeta)\n",
    "    \n",
    "     #Evaluate points\n",
    "    T, U = eval_basis_unsmooth(E0, E_A, Phi_delta, 2**e-q*d, (X4,Y4), 2**e, False)\n",
    "    V, W = eval_basis_unsmooth(E0, E_A, Phi_delta, 2**e-q*d, (ker_chall,ker_dual_chall), q, False)\n",
    "    E_delta = T.curve()\n",
    "    assert V.curve() == E_delta\n",
    "    assert T.weil_pairing(U, 2**e) == X4.weil_pairing(Y4,2**e)**(-q*d)\n",
    "    inver = int(Z2e(q*d)**(-1))\n",
    "    T,U = inver*T, inver*U\n",
    "    assert T.weil_pairing(U,2**e) == BasisE1_2[0].weil_pairing(BasisE1_2[1], 2**e)**((-1))\n",
    "    signature = E_1, BasisE1_2, E_delta, T,U,V\n",
    "    return signature\n"
   ]
  },
  {
   "cell_type": "code",
   "execution_count": 547,
   "id": "837d863c-86c4-49b3-bd27-c2db2b42bdad",
   "metadata": {},
   "outputs": [
    {
     "ename": "ValueError",
     "evalue": "too many values to unpack (expected 4)",
     "output_type": "error",
     "traceback": [
      "\u001b[0;31m---------------------------------------------------------------------------\u001b[0m",
      "\u001b[0;31mValueError\u001b[0m                                Traceback (most recent call last)",
      "Cell \u001b[0;32mIn[547], line 1\u001b[0m\n\u001b[0;32m----> 1\u001b[0m signature \u001b[38;5;241m=\u001b[39m \u001b[43mSQIprime_Response\u001b[49m\u001b[43m(\u001b[49m\u001b[43msecret_key\u001b[49m\u001b[43m,\u001b[49m\u001b[43m \u001b[49m\u001b[43mpublic_key\u001b[49m\u001b[43m,\u001b[49m\u001b[43m \u001b[49m\u001b[43msecret_commit\u001b[49m\u001b[43m,\u001b[49m\u001b[43m \u001b[49m\u001b[43mcommit\u001b[49m\u001b[43m,\u001b[49m\u001b[43m \u001b[49m\u001b[43mchall\u001b[49m\u001b[43m)\u001b[49m\n",
      "Cell \u001b[0;32mIn[545], line 4\u001b[0m, in \u001b[0;36mSQIprime_Response\u001b[0;34m(secret_key, public_key, secret_commit, commit, chall)\u001b[0m\n\u001b[1;32m      1\u001b[0m \u001b[38;5;28;01mdef\u001b[39;00m \u001b[38;5;21mSQIprime_Response\u001b[39m(secret_key, public_key, secret_commit, commit, chall):\n\u001b[1;32m      2\u001b[0m     \u001b[38;5;66;03m#Loading\u001b[39;00m\n\u001b[1;32m      3\u001b[0m     E_A,(R,S) \u001b[38;5;241m=\u001b[39m public_key \n\u001b[0;32m----> 4\u001b[0m     Phi_A, I_tau, I_rho, Mask_matrix \u001b[38;5;241m=\u001b[39m secret_key\n\u001b[1;32m      5\u001b[0m     E_1, BasisE1_2 \u001b[38;5;241m=\u001b[39m commit\n\u001b[1;32m      6\u001b[0m     I_psi, disc_log_image, deg_1 \u001b[38;5;241m=\u001b[39m secret_commit\n",
      "\u001b[0;31mValueError\u001b[0m: too many values to unpack (expected 4)"
     ]
    }
   ],
   "source": [
    "signature = SQIprime_Response(secret_key, public_key, secret_commit, commit, chall)"
   ]
  },
  {
   "cell_type": "code",
   "execution_count": null,
   "id": "a67af944-3e0b-4e44-8eb0-e801262b4ca3",
   "metadata": {},
   "outputs": [],
   "source": []
  },
  {
   "cell_type": "code",
   "execution_count": null,
   "id": "2755ef38-f9ab-4560-a3a8-c9343641b722",
   "metadata": {},
   "outputs": [],
   "source": [
    "signature"
   ]
  },
  {
   "cell_type": "code",
   "execution_count": null,
   "id": "1161c5db-cd5b-4c01-bec3-5db03f9f79b0",
   "metadata": {},
   "outputs": [],
   "source": []
  },
  {
   "cell_type": "code",
   "execution_count": null,
   "id": "d5810eb2-d7f6-4aa0-8952-ad8fcb51e1d7",
   "metadata": {},
   "outputs": [],
   "source": []
  },
  {
   "cell_type": "code",
   "execution_count": null,
   "id": "2da3134c-5930-426f-ad8c-e4719b8b9f15",
   "metadata": {},
   "outputs": [],
   "source": []
  },
  {
   "cell_type": "code",
   "execution_count": null,
   "id": "ecd3c0c4-043a-43fa-9d4a-e93f7b6abbab",
   "metadata": {},
   "outputs": [],
   "source": []
  },
  {
   "cell_type": "code",
   "execution_count": null,
   "id": "6b3e0686-088f-4395-8614-df0ed770ef46",
   "metadata": {},
   "outputs": [],
   "source": [
    "        if False and (T1.is_zero() or T2.is_zero() or S1.is_zero() or S2.is_zero()):\n",
    "            print(\"Special case 3\",i)\n",
    "            print(T1, T2, S1, S2)\n",
    "            break\n",
    "\n",
    "            if T1.is_zero():\n",
    "                T1, S1 = S1, T1\n",
    "                T2, S2 = S2, T2\n",
    "            assert not T1.is_zero()\n",
    "            if not S1.is_zero():\n",
    "                assert S1 == T1\n",
    "                S2 -= T2\n",
    "            assert T2.is_zero() or T2 == S2\n",
    "            KT1 = K0(T1)\n",
    "            KT2 = K0(S2)\n",
    "            phi1 = KummerLineIsogeny_Velu(K0, KT1,2, False)\n",
    "            phi2 = KummerLineIsogeny_Velu(K0, KT2,2, False)\n",
    "\n",
    "            e = e-1\n",
    "            P1 = phi1(K0(P1)).curve_point()\n",
    "            P2 = phi2(K0(P2)).curve_point()\n",
    "            Q1 = phi1(K0(Q1)).curve_point()\n",
    "            Q2 = phi2(K0(Q2)).curve_point()\n",
    "            E1 = P1.curve()\n",
    "            E2 = P2.curve()\n",
    "            for i in range(len(Rs)):\n",
    "                Rs[i] = (phi1(K0(Rs[i][0])).curve_point(),phi2(K0(Rs[i][1])).curve_point())\n"
   ]
  },
  {
   "cell_type": "code",
   "execution_count": null,
   "id": "cba08ea3-9412-4ca6-8028-f4d355522563",
   "metadata": {},
   "outputs": [],
   "source": []
  },
  {
   "cell_type": "code",
   "execution_count": null,
   "id": "f1bc7180-eb8e-44b7-9ccf-cfe0308dd50f",
   "metadata": {},
   "outputs": [],
   "source": []
  },
  {
   "cell_type": "code",
   "execution_count": null,
   "id": "10359931-5014-4ebc-a86f-fa4549ec6fff",
   "metadata": {},
   "outputs": [],
   "source": []
  },
  {
   "cell_type": "code",
   "execution_count": null,
   "id": "292a1bb9-5f90-41a9-a54c-de13234131d1",
   "metadata": {},
   "outputs": [],
   "source": []
  },
  {
   "cell_type": "code",
   "execution_count": null,
   "id": "80ee312c-a262-4a46-8738-e3fb7f136fa4",
   "metadata": {},
   "outputs": [],
   "source": []
  },
  {
   "cell_type": "code",
   "execution_count": null,
   "id": "f7705c54-69f8-48c6-87d6-896bf3d58b19",
   "metadata": {},
   "outputs": [],
   "source": []
  },
  {
   "cell_type": "code",
   "execution_count": null,
   "id": "9b39f171-8bed-4b06-8b30-8e3b6e620788",
   "metadata": {},
   "outputs": [],
   "source": []
  },
  {
   "cell_type": "code",
   "execution_count": null,
   "id": "4fa106f1-f6e7-428e-ac0f-6cd884cb5155",
   "metadata": {},
   "outputs": [],
   "source": []
  },
  {
   "cell_type": "code",
   "execution_count": null,
   "id": "c8350abd-e270-4d56-a77f-22b3ae331d75",
   "metadata": {},
   "outputs": [],
   "source": []
  },
  {
   "cell_type": "code",
   "execution_count": null,
   "id": "76d5fbc6-f35c-421e-be3e-dd6ed038e9d4",
   "metadata": {},
   "outputs": [],
   "source": []
  },
  {
   "cell_type": "code",
   "execution_count": null,
   "id": "ff577070-6998-468c-b9a0-f90f533b98fe",
   "metadata": {},
   "outputs": [],
   "source": []
  },
  {
   "cell_type": "code",
   "execution_count": null,
   "id": "590d8cb0-b8d7-48a5-98d7-59c1bed19b05",
   "metadata": {},
   "outputs": [],
   "source": []
  },
  {
   "cell_type": "code",
   "execution_count": 60,
   "id": "4e58dda8-1442-445f-a768-40597eebceb6",
   "metadata": {},
   "outputs": [],
   "source": [
    "#Setup\n",
    "alpha = quat.FullRepresentInteger(q*(2**(e-2)-q),p)\n",
    "vP = End.action_by_matrices(alpha, [1, 0], action_matrices_2)\n",
    "vQ = End.action_by_matrices(alpha, [0, 1], action_matrices_2)\n",
    "Fp22 = GF(p**2, modulus=x**2+1, name=\"i\")\n",
    "E0_F2 = EllipticCurve(Fp22, [0, Fp22(0), 0, 1, 0])\n",
    "E0_F4 = EllipticCurve(Fp4, [0, Fp4(0), 0, 1, 0])\n",
    "Basis_in_Fp2 = elc.basis(E0_F2, 2,e\n",
    "Basis_in_Fp4 = basis_4(E0_F4, 2,e)\n",
    "Image_in_Fp2 = vP[0]*Basis_in_Fp2[0] + vP[1]*Basis_in_Fp2[1],vQ[0]*Basis_in_Fp2[0] + vQ[0]*Basis_in_Fp2[1] \n",
    "Image_in_Fp4 = vP[0]*Basis_in_Fp4[0] + vP[1]*Basis_in_Fp4[1],vQ[0]*Basis_in_Fp4[0] + vQ[0]*Basis_in_Fp4[1] \n",
    "aP2, aQ2 = CouplePoint((2**(e-2)-q)*Basis_in_Fp2[0],Image_in_Fp2[0]), CouplePoint((2**(e-2)-q)*Basis_in_Fp2[1], Image_in_Fp2[1])\n",
    "kernel_Fp2 = (aP2, aQ2)\n",
    "aP4, aQ4 = CouplePoint((2**(e-2)-q)*Basis_in_Fp4[0],Image_in_Fp4[0]), CouplePoint((2**(e-2)-q)*Basis_in_Fp4[1], Image_in_Fp4[1])\n",
    "kernel_Fp4 = (aP4, aQ4)\n",
    "Point_F2 =  CouplePoint(Image_in_Fp2[0],Image_in_Fp2[1])\n",
    "Point_F4 =  CouplePoint(Image_in_Fp4[0],Image_in_Fp4[1])"
   ]
  },
  {
   "cell_type": "code",
   "execution_count": null,
   "id": "9efe2dc6-9174-4ccd-9668-ee8956ad870b",
   "metadata": {},
   "outputs": [],
   "source": []
  },
  {
   "cell_type": "code",
   "execution_count": 82,
   "id": "38cdd9e8-9094-40c1-ada5-25bb360803fd",
   "metadata": {},
   "outputs": [
    {
     "name": "stdout",
     "output_type": "stream",
     "text": [
      "A (2^273,2^273) isogeny precomputation requires 305.813708 ms.\n",
      "An evaluation of a basis requires (2^273,2^273) isogeny computations 45.215208 ms.\n"
     ]
    }
   ],
   "source": [
    "P0,Q0= Basis_2[0],Basis_2[1]\n",
    "\n",
    "alpha = quat.FullRepresentInteger(q*(2**e-q),p)\n",
    "vP = End.action_by_matrices(alpha, [1, 0], action_matrices_2)\n",
    "alphaP = vP[0]*P0 + vP[1]*Q0\n",
    "vQ = End.action_by_matrices(alpha, [0, 1], action_matrices_2)\n",
    "alphaQ = vQ[0]*P0 + vQ[1]*Q0\n",
    "\n",
    "P1 = (2**e - q)*P0\n",
    "Q1 = (2**e - q)*Q0\n",
    "P2 = alphaP\n",
    "Q2 = alphaQ\n",
    "\n",
    "Pa, Qa = CouplePoint(P1,P2), CouplePoint(Q1, Q2)\n",
    "kernel = (Pa, Qa)\n",
    "\n",
    "\n",
    "\n",
    "t0 = time.perf_counter_ns()\n",
    "Phi = EllipticProductIsogenySqrt(kernel, e, None, zeta)\n",
    "t1 = time.perf_counter_ns()\n",
    "print(\"A (2^273,2^273) isogeny precomputation requires\",float(t1-t0)/10**6, \"ms.\" )\n",
    "t0 = time.perf_counter_ns()\n",
    "X = Phi(CouplePoint(Basis_q[0], E0(0)))\n",
    "#X,Y = eval_basis_unsmooth(E0, E0, Phi, 2**e-q, Basis_2, 2**273, False)\n",
    "t1 = time.perf_counter_ns()\n",
    "print(\"An evaluation of a basis requires (2^273,2^273) isogeny computations\",float(t1-t0)/10**6, \"ms.\")\n"
   ]
  },
  {
   "cell_type": "code",
   "execution_count": 80,
   "id": "9704024e-5ce3-45b5-8515-3d07df7506db",
   "metadata": {},
   "outputs": [],
   "source": [
    "# To do: test in Fp2"
   ]
  },
  {
   "cell_type": "code",
   "execution_count": 77,
   "id": "b75707c2-9606-48bf-9dac-e2bafed225d5",
   "metadata": {},
   "outputs": [
    {
     "data": {
      "text/plain": [
       "[(1871354564549173070946785336829579070245623133805142141718563653504581381482524350859*z^2 + 2272281760117994120797862004973377924668632949021723850179823675658865730202121300418 : 64242602298848229899809724023107662932595649736285913327594198912804837170872000803*z^3 + 3203508073520515069310606272557889522928888190889328023306535055225613853233753681218*z : 1),(3485335690224228483264208601606797107503850336489969924326546417269304377777124262250*z^2 + 3392569941082752989406318848491939306701023188874254166916154434447042652021311933117 : 3860079663271701766018819986192257524110404369752450493424730383291448178477550063137*z^3 + 5185082845169846548079698065507619143596410700611702007393516833402720790813964280520*z : 1)]"
      ]
     },
     "execution_count": 77,
     "metadata": {},
     "output_type": "execute_result"
    }
   ],
   "source": [
    "X = Phi(CouplePoint(Basis_q[0], E0(0)))\n",
    "X"
   ]
  },
  {
   "cell_type": "code",
   "execution_count": null,
   "id": "27175402-8cf9-4647-8eca-9ce52dcc9f28",
   "metadata": {},
   "outputs": [],
   "source": []
  },
  {
   "cell_type": "code",
   "execution_count": null,
   "id": "b9e24abb-9531-4d45-9054-0cef280d00f7",
   "metadata": {},
   "outputs": [],
   "source": []
  },
  {
   "cell_type": "code",
   "execution_count": null,
   "id": "d8e147d5-1595-4446-aa55-6d32b5a58ea6",
   "metadata": {},
   "outputs": [],
   "source": []
  },
  {
   "cell_type": "code",
   "execution_count": null,
   "id": "cf8cccba-b058-46e7-9d0c-e2842817ecc7",
   "metadata": {},
   "outputs": [],
   "source": []
  },
  {
   "cell_type": "code",
   "execution_count": null,
   "id": "69f9dfc2-cab8-4930-8b2f-ede95bdfc057",
   "metadata": {},
   "outputs": [],
   "source": []
  },
  {
   "cell_type": "markdown",
   "id": "545f271d-1b67-4f05-8778-bd0b9d174154",
   "metadata": {},
   "source": [
    "## differnence between Fp4 and Fp2 (2,2)-isogenies"
   ]
  },
  {
   "cell_type": "code",
   "execution_count": 165,
   "id": "d2a8deb2-3cdc-4d27-a2e9-b5f417280a07",
   "metadata": {},
   "outputs": [
    {
     "ename": "AssertionError",
     "evalue": "",
     "output_type": "error",
     "traceback": [
      "\u001b[0;31m---------------------------------------------------------------------------\u001b[0m",
      "\u001b[0;31mAssertionError\u001b[0m                            Traceback (most recent call last)",
      "Cell \u001b[0;32mIn[165], line 2\u001b[0m\n\u001b[1;32m      1\u001b[0m \u001b[38;5;66;03m#Setup\u001b[39;00m\n\u001b[0;32m----> 2\u001b[0m alpha \u001b[38;5;241m=\u001b[39m \u001b[43mquat\u001b[49m\u001b[38;5;241;43m.\u001b[39;49m\u001b[43mFullRepresentInteger\u001b[49m\u001b[43m(\u001b[49m\u001b[43mq\u001b[49m\u001b[38;5;241;43m*\u001b[39;49m\u001b[43m(\u001b[49m\u001b[43mInteger\u001b[49m\u001b[43m(\u001b[49m\u001b[38;5;241;43m2\u001b[39;49m\u001b[43m)\u001b[49m\u001b[38;5;241;43m*\u001b[39;49m\u001b[38;5;241;43m*\u001b[39;49m\u001b[43me\u001b[49m\u001b[38;5;241;43m-\u001b[39;49m\u001b[43mq\u001b[49m\u001b[43m)\u001b[49m\u001b[43m,\u001b[49m\u001b[43mp\u001b[49m\u001b[43m)\u001b[49m\n\u001b[1;32m      3\u001b[0m vP \u001b[38;5;241m=\u001b[39m End\u001b[38;5;241m.\u001b[39maction_by_matrices(alpha, [Integer(\u001b[38;5;241m1\u001b[39m), Integer(\u001b[38;5;241m0\u001b[39m)], action_matrices_2)\n\u001b[1;32m      4\u001b[0m vQ \u001b[38;5;241m=\u001b[39m End\u001b[38;5;241m.\u001b[39maction_by_matrices(alpha, [Integer(\u001b[38;5;241m0\u001b[39m), Integer(\u001b[38;5;241m1\u001b[39m)], action_matrices_2)\n",
      "File \u001b[0;32m~/Desktop/Code/SAGE/SQIprime/quaternion.py:68\u001b[0m, in \u001b[0;36mFullRepresentInteger\u001b[0;34m(N, p)\u001b[0m\n\u001b[1;32m     66\u001b[0m \u001b[38;5;28;01mdef\u001b[39;00m \u001b[38;5;21mFullRepresentInteger\u001b[39m(N, p):\n\u001b[1;32m     67\u001b[0m     upper_bound \u001b[38;5;241m=\u001b[39m floor(\u001b[38;5;241m4\u001b[39m\u001b[38;5;241m*\u001b[39mN\u001b[38;5;241m/\u001b[39mp)\n\u001b[0;32m---> 68\u001b[0m     \u001b[38;5;28;01massert\u001b[39;00m upper_bound \u001b[38;5;241m>\u001b[39m \u001b[38;5;241m0\u001b[39m \u001b[38;5;66;03m# N > p\u001b[39;00m\n\u001b[1;32m     69\u001b[0m     \u001b[38;5;28;01mwhile\u001b[39;00m \u001b[38;5;28;01mTrue\u001b[39;00m:\n\u001b[1;32m     70\u001b[0m         z \u001b[38;5;241m=\u001b[39m randint(\u001b[38;5;241m0\u001b[39m, floor(sqrt(upper_bound)))\n",
      "\u001b[0;31mAssertionError\u001b[0m: "
     ]
    }
   ],
   "source": [
    "#Setup\n",
    "alpha = quat.FullRepresentInteger(q*(2**e-q),p)\n",
    "vP = End.action_by_matrices(alpha, [1, 0], action_matrices_2)\n",
    "vQ = End.action_by_matrices(alpha, [0, 1], action_matrices_2)\n",
    "E0_F2 = EllipticCurve(Fp2, [0, Fp2(0), 0, 1, 0])\n",
    "E0_F4 = EllipticCurve(Fp4, [0, Fp4(0), 0, 1, 0])\n",
    "Basis_in_Fp2 = elc.basis(E0_F2, 2,e)\n",
    "Basis_in_Fp4 = basis_4(E0_F4, 2,e)\n",
    "Image_in_Fp2 = vP[0]*Basis_in_Fp2[0] + vP[1]*Basis_in_Fp2[1],vQ[0]*Basis_in_Fp2[0] + vQ[0]*Basis_in_Fp2[1] \n",
    "Image_in_Fp4 = vP[0]*Basis_in_Fp4[0] + vP[1]*Basis_in_Fp4[1],vQ[0]*Basis_in_Fp4[0] + vQ[0]*Basis_in_Fp4[1] \n",
    "aP2, aQ2 = CouplePoint((-q)*Basis_in_Fp2[0],Image_in_Fp2[0]), CouplePoint(-q*Basis_in_Fp2[1], Image_in_Fp2[1])\n",
    "kernel_Fp2 = (aP2, aQ2)\n",
    "aP4, aQ4 = CouplePoint((-q)*Basis_in_Fp4[0],Image_in_Fp4[0]), CouplePoint(- q*Basis_in_Fp4[1], Image_in_Fp4[1])\n",
    "kernel_Fp4 = (aP4, aQ4)\n",
    "Point_F2 =  CouplePoint(Image_in_Fp2[0],Image_in_Fp2[1])\n",
    "Point_F4 =  CouplePoint(Image_in_Fp4[0],Image_in_Fp4[1])"
   ]
  },
  {
   "cell_type": "code",
   "execution_count": 164,
   "id": "3690d216-3761-4b56-816f-b0514ad13482",
   "metadata": {},
   "outputs": [
    {
     "ename": "NameError",
     "evalue": "name 'time' is not defined",
     "output_type": "error",
     "traceback": [
      "\u001b[0;31m---------------------------------------------------------------------------\u001b[0m",
      "\u001b[0;31mNameError\u001b[0m                                 Traceback (most recent call last)",
      "Cell \u001b[0;32mIn[164], line 1\u001b[0m\n\u001b[0;32m----> 1\u001b[0m t0 \u001b[38;5;241m=\u001b[39m \u001b[43mtime\u001b[49m\u001b[38;5;241m.\u001b[39mperf_counter_ns()\n\u001b[1;32m      2\u001b[0m Phi_Fp2 \u001b[38;5;241m=\u001b[39m EllipticProductIsogenySqrt(kernel_Fp2, e, \u001b[38;5;28;01mNone\u001b[39;00m, zeta)\n\u001b[1;32m      3\u001b[0m t1 \u001b[38;5;241m=\u001b[39m time\u001b[38;5;241m.\u001b[39mperf_counter_ns()\n",
      "\u001b[0;31mNameError\u001b[0m: name 'time' is not defined"
     ]
    }
   ],
   "source": [
    "t0 = time.perf_counter_ns()\n",
    "Phi_Fp2 = EllipticProductIsogenySqrt(kernel_Fp2, e, None, None)\n",
    "t1 = time.perf_counter_ns()\n",
    "print(\"A (2^273,2^273) isogeny precomputation requires\",float(t1-t0)/10**6, \"ms.\" )\n",
    "t0 = time.perf_counter_ns()\n",
    "#Phi_Fp4(Point_F4)\n",
    "t1 = time.perf_counter_ns()\n",
    "print(\"An evaluation requires (2^273,2^273) isogeny computations\",float(t1-t0)/10**6, \"ms.\")\n"
   ]
  },
  {
   "cell_type": "code",
   "execution_count": null,
   "id": "57662c87-58b8-44e3-9beb-120d44e7f0fa",
   "metadata": {},
   "outputs": [],
   "source": [
    "t0 = time.perf_counter_ns()\n",
    "Phi_Fp4 = EllipticProductIsogenySqrt(kernel_Fp4, e, None, zeta)\n",
    "t1 = time.perf_counter_ns()\n",
    "print(\"A (2^273,2^273) isogeny precomputation requires\",float(t1-t0)/10**6, \"ms.\" )\n",
    "t0 = time.perf_counter_ns()\n",
    "#Phi_Fp4(Point_F4)\n",
    "t1 = time.perf_counter_ns()\n",
    "print(\"An evaluation requires (2^273,2^273) isogeny computations\",float(t1-t0)/10**6, \"ms.\")\n"
   ]
  }
 ],
 "metadata": {
  "kernelspec": {
   "display_name": "SageMath 10.3",
   "language": "sage",
   "name": "sagemath-10.3"
  },
  "language_info": {
   "codemirror_mode": {
    "name": "ipython",
    "version": 3
   },
   "file_extension": ".py",
   "mimetype": "text/x-python",
   "name": "python",
   "nbconvert_exporter": "python",
   "pygments_lexer": "ipython3",
   "version": "3.11.8"
  }
 },
 "nbformat": 4,
 "nbformat_minor": 5
}
